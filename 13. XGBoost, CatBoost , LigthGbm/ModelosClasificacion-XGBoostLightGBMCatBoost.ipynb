{
 "cells": [
  {
   "cell_type": "markdown",
   "metadata": {},
   "source": [
    "############################################################################################\n",
    "\n",
    "################## -- Programa de Especialización en Data Science Nivel II --##########################\n",
    "\n",
    "############################################################################################\n",
    "\n",
    "Modelos de Clasificación : Modelos de Boosting - Adaboost - GBM\n",
    "\n",
    "Autores : José Cárdenas - André Chávez "
   ]
  },
  {
   "cell_type": "markdown",
   "metadata": {},
   "source": [
    "## Guía de Modelamiento de Información"
   ]
  },
  {
   "cell_type": "markdown",
   "metadata": {},
   "source": [
    "#### 1 LIBRERÍAS A UTILIZAR"
   ]
  },
  {
   "cell_type": "code",
   "execution_count": 4,
   "metadata": {
    "collapsed": true
   },
   "outputs": [],
   "source": [
    "# Primer Curso de ML\n",
    "#Importar las librerías necesarias en Python.\n",
    "import pandas as pd ## Manejo de dataframes o set de datos\n",
    "%matplotlib inline\n",
    "import matplotlib.pyplot as plt2 ## Todo lo referente a gráficas y demás.\n",
    "import matplotlib as plt\n",
    "import numpy as np ## Todo lo referente a trabajar con vectores y matrices\n",
    "from scipy import stats ## Herramientas y algoritmos matemáticos para python\n",
    "import seaborn as sns # Se basa en Matplotlib y la complementa en el tema de graficos y demás."
   ]
  },
  {
   "cell_type": "markdown",
   "metadata": {},
   "source": [
    "#### 2 EXTRAYENDO LA DATA"
   ]
  },
  {
   "cell_type": "code",
   "execution_count": 5,
   "metadata": {},
   "outputs": [],
   "source": [
    "train = pd.read_csv(\"C:/Users/Andre Chavez/Desktop/Datos/train.csv\") \n",
    "# Leer el dataset en un dataframe usando pandas"
   ]
  },
  {
   "cell_type": "code",
   "execution_count": 6,
   "metadata": {},
   "outputs": [
    {
     "data": {
      "text/html": [
       "<div>\n",
       "<style>\n",
       "    .dataframe thead tr:only-child th {\n",
       "        text-align: right;\n",
       "    }\n",
       "\n",
       "    .dataframe thead th {\n",
       "        text-align: left;\n",
       "    }\n",
       "\n",
       "    .dataframe tbody tr th {\n",
       "        vertical-align: top;\n",
       "    }\n",
       "</style>\n",
       "<table border=\"1\" class=\"dataframe\">\n",
       "  <thead>\n",
       "    <tr style=\"text-align: right;\">\n",
       "      <th></th>\n",
       "      <th>Loan_ID</th>\n",
       "      <th>Gender</th>\n",
       "      <th>Married</th>\n",
       "      <th>Dependents</th>\n",
       "      <th>Education</th>\n",
       "      <th>Self_Employed</th>\n",
       "      <th>ApplicantIncome</th>\n",
       "      <th>CoapplicantIncome</th>\n",
       "      <th>LoanAmount</th>\n",
       "      <th>Loan_Amount_Term</th>\n",
       "      <th>Credit_History</th>\n",
       "      <th>Property_Area</th>\n",
       "      <th>Loan_Status</th>\n",
       "    </tr>\n",
       "  </thead>\n",
       "  <tbody>\n",
       "    <tr>\n",
       "      <th>0</th>\n",
       "      <td>LP001002</td>\n",
       "      <td>Male</td>\n",
       "      <td>No</td>\n",
       "      <td>0</td>\n",
       "      <td>Graduate</td>\n",
       "      <td>No</td>\n",
       "      <td>5849</td>\n",
       "      <td>0.0</td>\n",
       "      <td>NaN</td>\n",
       "      <td>360.0</td>\n",
       "      <td>1.0</td>\n",
       "      <td>Urban</td>\n",
       "      <td>Y</td>\n",
       "    </tr>\n",
       "    <tr>\n",
       "      <th>1</th>\n",
       "      <td>LP001003</td>\n",
       "      <td>Male</td>\n",
       "      <td>Yes</td>\n",
       "      <td>1</td>\n",
       "      <td>Graduate</td>\n",
       "      <td>No</td>\n",
       "      <td>4583</td>\n",
       "      <td>1508.0</td>\n",
       "      <td>128.0</td>\n",
       "      <td>360.0</td>\n",
       "      <td>1.0</td>\n",
       "      <td>Rural</td>\n",
       "      <td>N</td>\n",
       "    </tr>\n",
       "    <tr>\n",
       "      <th>2</th>\n",
       "      <td>LP001005</td>\n",
       "      <td>Male</td>\n",
       "      <td>Yes</td>\n",
       "      <td>0</td>\n",
       "      <td>Graduate</td>\n",
       "      <td>Yes</td>\n",
       "      <td>3000</td>\n",
       "      <td>0.0</td>\n",
       "      <td>66.0</td>\n",
       "      <td>360.0</td>\n",
       "      <td>1.0</td>\n",
       "      <td>Urban</td>\n",
       "      <td>Y</td>\n",
       "    </tr>\n",
       "    <tr>\n",
       "      <th>3</th>\n",
       "      <td>LP001006</td>\n",
       "      <td>Male</td>\n",
       "      <td>Yes</td>\n",
       "      <td>0</td>\n",
       "      <td>Not Graduate</td>\n",
       "      <td>No</td>\n",
       "      <td>2583</td>\n",
       "      <td>2358.0</td>\n",
       "      <td>120.0</td>\n",
       "      <td>360.0</td>\n",
       "      <td>1.0</td>\n",
       "      <td>Urban</td>\n",
       "      <td>Y</td>\n",
       "    </tr>\n",
       "    <tr>\n",
       "      <th>4</th>\n",
       "      <td>LP001008</td>\n",
       "      <td>Male</td>\n",
       "      <td>No</td>\n",
       "      <td>0</td>\n",
       "      <td>Graduate</td>\n",
       "      <td>No</td>\n",
       "      <td>6000</td>\n",
       "      <td>0.0</td>\n",
       "      <td>141.0</td>\n",
       "      <td>360.0</td>\n",
       "      <td>1.0</td>\n",
       "      <td>Urban</td>\n",
       "      <td>Y</td>\n",
       "    </tr>\n",
       "    <tr>\n",
       "      <th>5</th>\n",
       "      <td>LP001011</td>\n",
       "      <td>Male</td>\n",
       "      <td>Yes</td>\n",
       "      <td>2</td>\n",
       "      <td>Graduate</td>\n",
       "      <td>Yes</td>\n",
       "      <td>5417</td>\n",
       "      <td>4196.0</td>\n",
       "      <td>267.0</td>\n",
       "      <td>360.0</td>\n",
       "      <td>1.0</td>\n",
       "      <td>Urban</td>\n",
       "      <td>Y</td>\n",
       "    </tr>\n",
       "    <tr>\n",
       "      <th>6</th>\n",
       "      <td>LP001013</td>\n",
       "      <td>Male</td>\n",
       "      <td>Yes</td>\n",
       "      <td>0</td>\n",
       "      <td>Not Graduate</td>\n",
       "      <td>No</td>\n",
       "      <td>2333</td>\n",
       "      <td>1516.0</td>\n",
       "      <td>95.0</td>\n",
       "      <td>360.0</td>\n",
       "      <td>1.0</td>\n",
       "      <td>Urban</td>\n",
       "      <td>Y</td>\n",
       "    </tr>\n",
       "    <tr>\n",
       "      <th>7</th>\n",
       "      <td>LP001014</td>\n",
       "      <td>Male</td>\n",
       "      <td>Yes</td>\n",
       "      <td>3+</td>\n",
       "      <td>Graduate</td>\n",
       "      <td>No</td>\n",
       "      <td>3036</td>\n",
       "      <td>2504.0</td>\n",
       "      <td>158.0</td>\n",
       "      <td>360.0</td>\n",
       "      <td>0.0</td>\n",
       "      <td>Semiurban</td>\n",
       "      <td>N</td>\n",
       "    </tr>\n",
       "    <tr>\n",
       "      <th>8</th>\n",
       "      <td>LP001018</td>\n",
       "      <td>Male</td>\n",
       "      <td>Yes</td>\n",
       "      <td>2</td>\n",
       "      <td>Graduate</td>\n",
       "      <td>No</td>\n",
       "      <td>4006</td>\n",
       "      <td>1526.0</td>\n",
       "      <td>168.0</td>\n",
       "      <td>360.0</td>\n",
       "      <td>1.0</td>\n",
       "      <td>Urban</td>\n",
       "      <td>Y</td>\n",
       "    </tr>\n",
       "    <tr>\n",
       "      <th>9</th>\n",
       "      <td>LP001020</td>\n",
       "      <td>Male</td>\n",
       "      <td>Yes</td>\n",
       "      <td>1</td>\n",
       "      <td>Graduate</td>\n",
       "      <td>No</td>\n",
       "      <td>12841</td>\n",
       "      <td>10968.0</td>\n",
       "      <td>349.0</td>\n",
       "      <td>360.0</td>\n",
       "      <td>1.0</td>\n",
       "      <td>Semiurban</td>\n",
       "      <td>N</td>\n",
       "    </tr>\n",
       "  </tbody>\n",
       "</table>\n",
       "</div>"
      ],
      "text/plain": [
       "    Loan_ID Gender Married Dependents     Education Self_Employed  \\\n",
       "0  LP001002   Male      No          0      Graduate            No   \n",
       "1  LP001003   Male     Yes          1      Graduate            No   \n",
       "2  LP001005   Male     Yes          0      Graduate           Yes   \n",
       "3  LP001006   Male     Yes          0  Not Graduate            No   \n",
       "4  LP001008   Male      No          0      Graduate            No   \n",
       "5  LP001011   Male     Yes          2      Graduate           Yes   \n",
       "6  LP001013   Male     Yes          0  Not Graduate            No   \n",
       "7  LP001014   Male     Yes         3+      Graduate            No   \n",
       "8  LP001018   Male     Yes          2      Graduate            No   \n",
       "9  LP001020   Male     Yes          1      Graduate            No   \n",
       "\n",
       "   ApplicantIncome  CoapplicantIncome  LoanAmount  Loan_Amount_Term  \\\n",
       "0             5849                0.0         NaN             360.0   \n",
       "1             4583             1508.0       128.0             360.0   \n",
       "2             3000                0.0        66.0             360.0   \n",
       "3             2583             2358.0       120.0             360.0   \n",
       "4             6000                0.0       141.0             360.0   \n",
       "5             5417             4196.0       267.0             360.0   \n",
       "6             2333             1516.0        95.0             360.0   \n",
       "7             3036             2504.0       158.0             360.0   \n",
       "8             4006             1526.0       168.0             360.0   \n",
       "9            12841            10968.0       349.0             360.0   \n",
       "\n",
       "   Credit_History Property_Area Loan_Status  \n",
       "0             1.0         Urban           Y  \n",
       "1             1.0         Rural           N  \n",
       "2             1.0         Urban           Y  \n",
       "3             1.0         Urban           Y  \n",
       "4             1.0         Urban           Y  \n",
       "5             1.0         Urban           Y  \n",
       "6             1.0         Urban           Y  \n",
       "7             0.0     Semiurban           N  \n",
       "8             1.0         Urban           Y  \n",
       "9             1.0     Semiurban           N  "
      ]
     },
     "execution_count": 6,
     "metadata": {},
     "output_type": "execute_result"
    }
   ],
   "source": [
    "#Leer los primeros registros.\n",
    "train.head(10) # Puedes visualizar la cantidad de registro que requieras"
   ]
  },
  {
   "cell_type": "markdown",
   "metadata": {},
   "source": [
    "#### 4 IMPUTACION DE LA DATA"
   ]
  },
  {
   "cell_type": "code",
   "execution_count": 7,
   "metadata": {},
   "outputs": [
    {
     "name": "stdout",
     "output_type": "stream",
     "text": [
      "Valores perdidos por columna\n",
      "Loan_ID               0\n",
      "Gender               13\n",
      "Married               3\n",
      "Dependents           15\n",
      "Education             0\n",
      "Self_Employed        32\n",
      "ApplicantIncome       0\n",
      "CoapplicantIncome     0\n",
      "LoanAmount           22\n",
      "Loan_Amount_Term     14\n",
      "Credit_History       50\n",
      "Property_Area         0\n",
      "Loan_Status           0\n",
      "dtype: int64\n"
     ]
    }
   ],
   "source": [
    "# Revisar los valores perdidos\n",
    "#Creamos una función:\n",
    "def num_missing(x):\n",
    "  return sum(x.isnull())\n",
    "\n",
    "#Aplicamos por columna:\n",
    "print (\"Valores perdidos por columna\")\n",
    "print (train.apply(num_missing, axis=0)) # Axis = 0 es vertical , axis =1 horizontal."
   ]
  },
  {
   "cell_type": "code",
   "execution_count": 8,
   "metadata": {
    "collapsed": true
   },
   "outputs": [],
   "source": [
    "# Particionando la data en Numéricos (Variables Cuantitativas) y Factores (Variables Cualitativas)"
   ]
  },
  {
   "cell_type": "code",
   "execution_count": 9,
   "metadata": {
    "collapsed": true
   },
   "outputs": [],
   "source": [
    "# Recodificando y convirtiendo las variables de acuerdo a nuestro criterio\n",
    "# Data de Entrenamiento\n",
    "#train = pd.read_csv(\"C:/Users/Andre Chavez/Desktop/DictadodeCursos/Machine Learning for Data Science-URP/DataSet/Aprendizaje Supervisado/train.csv\") # Leer el dataset en un dataframe usando pandas\n",
    "train['Dependents'] = train['Dependents'].replace({'0': 1,'1': 2, '2': 3, '3+': 4})\n",
    "train['Gender'] = train['Gender'].replace({'Female': 1,'Male': 2})\n",
    "train['Married'] = train['Married'].replace({'No': 1,'Yes': 2})\n",
    "train['Self_Employed'] = train['Self_Employed'].replace({'No': 1,'Yes': 2})\n",
    "train['Education'] = train['Education'].replace({'Graduate': 1,'Not Graduate': 2})\n",
    "train['Credit_History'] = train['Credit_History'].replace({0: 1,1: 2})\n",
    "train['Property_Area'] = train['Property_Area'].replace({'Rural': 1, 'Semiurban': 2, 'Urban': 3})\n",
    "train['Loan_Status'] = train['Loan_Status'].replace({'N': 0,'Y': 1})"
   ]
  },
  {
   "cell_type": "code",
   "execution_count": 10,
   "metadata": {
    "collapsed": true
   },
   "outputs": [],
   "source": [
    "# Recodificando y convirtiendo las variables de acuerdo a nuestro criterio\n",
    "# Data de Test\n",
    "test = pd.read_csv(\"C:/Users/Andre Chavez/Desktop/Datos/test.csv\") # Leer el dataset en un dataframe usando pandas\n",
    "test['Dependents'] = test['Dependents'].replace({'0': 1,'1': 2, '2': 3, '3+': 4})\n",
    "test['Gender'] = test['Gender'].replace({'Female': 1,'Male': 2})\n",
    "test['Married'] = test['Married'].replace({'No': 1,'Yes': 2})\n",
    "test['Self_Employed'] = test['Self_Employed'].replace({'No': 1,'Yes': 2})\n",
    "test['Education'] = test['Education'].replace({'Graduate': 1,'Not Graduate': 2})\n",
    "test['Credit_History'] = test['Credit_History'].replace({0: 1,1: 2})\n",
    "test['Property_Area'] = test['Property_Area'].replace({'Rural': 1, 'Semiurban': 2, 'Urban': 3})"
   ]
  },
  {
   "cell_type": "code",
   "execution_count": 11,
   "metadata": {},
   "outputs": [
    {
     "data": {
      "text/html": [
       "<div>\n",
       "<style>\n",
       "    .dataframe thead tr:only-child th {\n",
       "        text-align: right;\n",
       "    }\n",
       "\n",
       "    .dataframe thead th {\n",
       "        text-align: left;\n",
       "    }\n",
       "\n",
       "    .dataframe tbody tr th {\n",
       "        vertical-align: top;\n",
       "    }\n",
       "</style>\n",
       "<table border=\"1\" class=\"dataframe\">\n",
       "  <thead>\n",
       "    <tr style=\"text-align: right;\">\n",
       "      <th></th>\n",
       "      <th>Loan_ID</th>\n",
       "      <th>Gender</th>\n",
       "      <th>Married</th>\n",
       "      <th>Dependents</th>\n",
       "      <th>Education</th>\n",
       "      <th>Self_Employed</th>\n",
       "      <th>ApplicantIncome</th>\n",
       "      <th>CoapplicantIncome</th>\n",
       "      <th>LoanAmount</th>\n",
       "      <th>Loan_Amount_Term</th>\n",
       "      <th>Credit_History</th>\n",
       "      <th>Property_Area</th>\n",
       "      <th>Loan_Status</th>\n",
       "    </tr>\n",
       "  </thead>\n",
       "  <tbody>\n",
       "    <tr>\n",
       "      <th>0</th>\n",
       "      <td>LP001002</td>\n",
       "      <td>2.0</td>\n",
       "      <td>1.0</td>\n",
       "      <td>1.0</td>\n",
       "      <td>1</td>\n",
       "      <td>1.0</td>\n",
       "      <td>5849</td>\n",
       "      <td>0.0</td>\n",
       "      <td>NaN</td>\n",
       "      <td>360.0</td>\n",
       "      <td>2.0</td>\n",
       "      <td>3</td>\n",
       "      <td>1</td>\n",
       "    </tr>\n",
       "    <tr>\n",
       "      <th>1</th>\n",
       "      <td>LP001003</td>\n",
       "      <td>2.0</td>\n",
       "      <td>2.0</td>\n",
       "      <td>2.0</td>\n",
       "      <td>1</td>\n",
       "      <td>1.0</td>\n",
       "      <td>4583</td>\n",
       "      <td>1508.0</td>\n",
       "      <td>128.0</td>\n",
       "      <td>360.0</td>\n",
       "      <td>2.0</td>\n",
       "      <td>1</td>\n",
       "      <td>0</td>\n",
       "    </tr>\n",
       "  </tbody>\n",
       "</table>\n",
       "</div>"
      ],
      "text/plain": [
       "    Loan_ID  Gender  Married  Dependents  Education  Self_Employed  \\\n",
       "0  LP001002     2.0      1.0         1.0          1            1.0   \n",
       "1  LP001003     2.0      2.0         2.0          1            1.0   \n",
       "\n",
       "   ApplicantIncome  CoapplicantIncome  LoanAmount  Loan_Amount_Term  \\\n",
       "0             5849                0.0         NaN             360.0   \n",
       "1             4583             1508.0       128.0             360.0   \n",
       "\n",
       "   Credit_History  Property_Area  Loan_Status  \n",
       "0             2.0              3            1  \n",
       "1             2.0              1            0  "
      ]
     },
     "execution_count": 11,
     "metadata": {},
     "output_type": "execute_result"
    }
   ],
   "source": [
    "# Creamos un copia del dataset original para poder realizar las imputaciones\n",
    "# Imputacion del Data train\n",
    "train_parametrica=train.copy()\n",
    "train_parametrica.head(2)"
   ]
  },
  {
   "cell_type": "code",
   "execution_count": 12,
   "metadata": {
    "collapsed": true
   },
   "outputs": [],
   "source": [
    "# Imputación Paramétrica\n",
    "# Para variables cuantitativas se puede usar medias o medianas, para las cualitativas moda.\n",
    "# Imputamos por las moda todas las variables cualitativas\n",
    "from scipy.stats import mode\n",
    "\n",
    "for column in ['Gender', 'Married', 'Self_Employed', 'Credit_History','Dependents']:\n",
    "    train_parametrica[column] = train_parametrica[column].fillna(train_parametrica[column].mode()[0])\n",
    "\n",
    "# Imputamos por las moda todas las variables cuantitativas\n",
    "\n",
    "for column in ['LoanAmount', 'Loan_Amount_Term']:\n",
    "    train_parametrica[column] = train_parametrica[column].fillna(train_parametrica[column].mean())    "
   ]
  },
  {
   "cell_type": "code",
   "execution_count": 13,
   "metadata": {},
   "outputs": [
    {
     "name": "stdout",
     "output_type": "stream",
     "text": [
      "Valores perdidos por columna\n",
      "Loan_ID              0\n",
      "Gender               0\n",
      "Married              0\n",
      "Dependents           0\n",
      "Education            0\n",
      "Self_Employed        0\n",
      "ApplicantIncome      0\n",
      "CoapplicantIncome    0\n",
      "LoanAmount           0\n",
      "Loan_Amount_Term     0\n",
      "Credit_History       0\n",
      "Property_Area        0\n",
      "Loan_Status          0\n",
      "dtype: int64\n"
     ]
    }
   ],
   "source": [
    "# Revisar los valores perdidos\n",
    "#Creamos una función:\n",
    "def num_missing(x):\n",
    "  return sum(x.isnull())\n",
    "\n",
    "#Aplicamos por columna:\n",
    "print (\"Valores perdidos por columna\")\n",
    "print (train_parametrica.apply(num_missing, axis=0)) "
   ]
  },
  {
   "cell_type": "code",
   "execution_count": 14,
   "metadata": {},
   "outputs": [
    {
     "data": {
      "text/html": [
       "<div>\n",
       "<style>\n",
       "    .dataframe thead tr:only-child th {\n",
       "        text-align: right;\n",
       "    }\n",
       "\n",
       "    .dataframe thead th {\n",
       "        text-align: left;\n",
       "    }\n",
       "\n",
       "    .dataframe tbody tr th {\n",
       "        vertical-align: top;\n",
       "    }\n",
       "</style>\n",
       "<table border=\"1\" class=\"dataframe\">\n",
       "  <thead>\n",
       "    <tr style=\"text-align: right;\">\n",
       "      <th></th>\n",
       "      <th>Loan_ID</th>\n",
       "      <th>Gender</th>\n",
       "      <th>Married</th>\n",
       "      <th>Dependents</th>\n",
       "      <th>Education</th>\n",
       "      <th>Self_Employed</th>\n",
       "      <th>ApplicantIncome</th>\n",
       "      <th>CoapplicantIncome</th>\n",
       "      <th>LoanAmount</th>\n",
       "      <th>Loan_Amount_Term</th>\n",
       "      <th>Credit_History</th>\n",
       "      <th>Property_Area</th>\n",
       "    </tr>\n",
       "  </thead>\n",
       "  <tbody>\n",
       "    <tr>\n",
       "      <th>0</th>\n",
       "      <td>LP001015</td>\n",
       "      <td>2.0</td>\n",
       "      <td>2</td>\n",
       "      <td>1.0</td>\n",
       "      <td>1</td>\n",
       "      <td>1.0</td>\n",
       "      <td>5720</td>\n",
       "      <td>0</td>\n",
       "      <td>110.0</td>\n",
       "      <td>360.0</td>\n",
       "      <td>2.0</td>\n",
       "      <td>3</td>\n",
       "    </tr>\n",
       "    <tr>\n",
       "      <th>1</th>\n",
       "      <td>LP001022</td>\n",
       "      <td>2.0</td>\n",
       "      <td>2</td>\n",
       "      <td>2.0</td>\n",
       "      <td>1</td>\n",
       "      <td>1.0</td>\n",
       "      <td>3076</td>\n",
       "      <td>1500</td>\n",
       "      <td>126.0</td>\n",
       "      <td>360.0</td>\n",
       "      <td>2.0</td>\n",
       "      <td>3</td>\n",
       "    </tr>\n",
       "  </tbody>\n",
       "</table>\n",
       "</div>"
      ],
      "text/plain": [
       "    Loan_ID  Gender  Married  Dependents  Education  Self_Employed  \\\n",
       "0  LP001015     2.0        2         1.0          1            1.0   \n",
       "1  LP001022     2.0        2         2.0          1            1.0   \n",
       "\n",
       "   ApplicantIncome  CoapplicantIncome  LoanAmount  Loan_Amount_Term  \\\n",
       "0             5720                  0       110.0             360.0   \n",
       "1             3076               1500       126.0             360.0   \n",
       "\n",
       "   Credit_History  Property_Area  \n",
       "0             2.0              3  \n",
       "1             2.0              3  "
      ]
     },
     "execution_count": 14,
     "metadata": {},
     "output_type": "execute_result"
    }
   ],
   "source": [
    "# Imputacion del Data Test\n",
    "test_parametrica=test.copy()\n",
    "test_parametrica.head(2)"
   ]
  },
  {
   "cell_type": "code",
   "execution_count": 15,
   "metadata": {},
   "outputs": [
    {
     "name": "stdout",
     "output_type": "stream",
     "text": [
      "Valores perdidos por columna\n",
      "Loan_ID               0\n",
      "Gender               11\n",
      "Married               0\n",
      "Dependents           10\n",
      "Education             0\n",
      "Self_Employed        23\n",
      "ApplicantIncome       0\n",
      "CoapplicantIncome     0\n",
      "LoanAmount            5\n",
      "Loan_Amount_Term      6\n",
      "Credit_History       29\n",
      "Property_Area         0\n",
      "dtype: int64\n"
     ]
    }
   ],
   "source": [
    "# Revisar los valores perdidos\n",
    "#Creamos una función:\n",
    "def num_missing(x):\n",
    "  return sum(x.isnull())\n",
    "#Aplicamos por columna:\n",
    "print (\"Valores perdidos por columna\")\n",
    "print (test_parametrica.apply(num_missing, axis=0)) "
   ]
  },
  {
   "cell_type": "code",
   "execution_count": 16,
   "metadata": {
    "collapsed": true
   },
   "outputs": [],
   "source": [
    "# Imputación Paramétrica\n",
    "# Para variables cuantitativas se puede usar medias o medianas, para las cualitativas moda.\n",
    "# Imputamos por las moda todas las variables cualitativas\n",
    "from scipy.stats import mode\n",
    "\n",
    "for column in ['Gender', 'Married', 'Self_Employed', 'Credit_History','Dependents']:\n",
    "    test_parametrica[column] = test_parametrica[column].fillna(test_parametrica[column].mode()[0])\n",
    "    \n",
    "# Imputamos por las moda todas las variables cuantitativas\n",
    "for column in ['LoanAmount', 'Loan_Amount_Term']:\n",
    "    test_parametrica[column] = test_parametrica[column].fillna(test_parametrica[column].median())  "
   ]
  },
  {
   "cell_type": "code",
   "execution_count": 17,
   "metadata": {},
   "outputs": [
    {
     "name": "stdout",
     "output_type": "stream",
     "text": [
      "Valores perdidos por columna\n",
      "Loan_ID              0\n",
      "Gender               0\n",
      "Married              0\n",
      "Dependents           0\n",
      "Education            0\n",
      "Self_Employed        0\n",
      "ApplicantIncome      0\n",
      "CoapplicantIncome    0\n",
      "LoanAmount           0\n",
      "Loan_Amount_Term     0\n",
      "Credit_History       0\n",
      "Property_Area        0\n",
      "dtype: int64\n"
     ]
    }
   ],
   "source": [
    "# Revisar los valores perdidos\n",
    "#Creamos una función:\n",
    "def num_missing(x):\n",
    "  return sum(x.isnull())\n",
    "#Aplicamos por columna:\n",
    "print (\"Valores perdidos por columna\")\n",
    "print (test_parametrica.apply(num_missing, axis=0)) "
   ]
  },
  {
   "cell_type": "markdown",
   "metadata": {},
   "source": [
    "#### 5 CREACION Y TRANSFORMACION DE VARIABLES"
   ]
  },
  {
   "cell_type": "markdown",
   "metadata": {},
   "source": [
    "##### Creación de Variables Paramétricamente o por Decisión de Negocio"
   ]
  },
  {
   "cell_type": "code",
   "execution_count": 18,
   "metadata": {
    "collapsed": true
   },
   "outputs": [],
   "source": [
    "# También conocido como proceso de Feature Engineering, no olvidar que todo lo que le hacemos al Train o Entrenamiento se lo\n",
    "# debemos hacer a la data de test."
   ]
  },
  {
   "cell_type": "code",
   "execution_count": 19,
   "metadata": {
    "collapsed": true
   },
   "outputs": [],
   "source": [
    "#Creación de variables a partir de las definidas\n",
    "import numpy as np\n",
    "import pandas as pd\n",
    "\n",
    "#Creamos las variables para el entrenamiento o train\n",
    "train_parametrica['TotalIncome'] = train_parametrica['ApplicantIncome'] + train_parametrica['CoapplicantIncome']\n",
    "train_parametrica['LoanAmount_Log'] = round(np.log(train_parametrica['LoanAmount']),2)\n",
    "train_parametrica['AmountxTerm']=round(train_parametrica['LoanAmount']/train_parametrica['Loan_Amount_Term'],2)\n",
    "\n",
    "#Creamos las variables para la validación o test\n",
    "\n",
    "\n",
    "test_parametrica['TotalIncome'] = test_parametrica['ApplicantIncome'] + test_parametrica['CoapplicantIncome']\n",
    "test_parametrica['LoanAmount_Log'] = round(np.log(test_parametrica['LoanAmount']),2)\n",
    "test_parametrica['AmountxTerm']=round(test_parametrica['LoanAmount']/test_parametrica['Loan_Amount_Term'],2)\n"
   ]
  },
  {
   "cell_type": "code",
   "execution_count": 20,
   "metadata": {},
   "outputs": [
    {
     "data": {
      "text/html": [
       "<div>\n",
       "<style>\n",
       "    .dataframe thead tr:only-child th {\n",
       "        text-align: right;\n",
       "    }\n",
       "\n",
       "    .dataframe thead th {\n",
       "        text-align: left;\n",
       "    }\n",
       "\n",
       "    .dataframe tbody tr th {\n",
       "        vertical-align: top;\n",
       "    }\n",
       "</style>\n",
       "<table border=\"1\" class=\"dataframe\">\n",
       "  <thead>\n",
       "    <tr style=\"text-align: right;\">\n",
       "      <th></th>\n",
       "      <th>Loan_ID</th>\n",
       "      <th>Gender</th>\n",
       "      <th>Married</th>\n",
       "      <th>Dependents</th>\n",
       "      <th>Education</th>\n",
       "      <th>Self_Employed</th>\n",
       "      <th>ApplicantIncome</th>\n",
       "      <th>CoapplicantIncome</th>\n",
       "      <th>LoanAmount</th>\n",
       "      <th>Loan_Amount_Term</th>\n",
       "      <th>Credit_History</th>\n",
       "      <th>Property_Area</th>\n",
       "      <th>TotalIncome</th>\n",
       "      <th>LoanAmount_Log</th>\n",
       "      <th>AmountxTerm</th>\n",
       "    </tr>\n",
       "  </thead>\n",
       "  <tbody>\n",
       "    <tr>\n",
       "      <th>0</th>\n",
       "      <td>LP001015</td>\n",
       "      <td>2.0</td>\n",
       "      <td>2</td>\n",
       "      <td>1.0</td>\n",
       "      <td>1</td>\n",
       "      <td>1.0</td>\n",
       "      <td>5720</td>\n",
       "      <td>0</td>\n",
       "      <td>110.0</td>\n",
       "      <td>360.0</td>\n",
       "      <td>2.0</td>\n",
       "      <td>3</td>\n",
       "      <td>5720</td>\n",
       "      <td>4.70</td>\n",
       "      <td>0.31</td>\n",
       "    </tr>\n",
       "    <tr>\n",
       "      <th>1</th>\n",
       "      <td>LP001022</td>\n",
       "      <td>2.0</td>\n",
       "      <td>2</td>\n",
       "      <td>2.0</td>\n",
       "      <td>1</td>\n",
       "      <td>1.0</td>\n",
       "      <td>3076</td>\n",
       "      <td>1500</td>\n",
       "      <td>126.0</td>\n",
       "      <td>360.0</td>\n",
       "      <td>2.0</td>\n",
       "      <td>3</td>\n",
       "      <td>4576</td>\n",
       "      <td>4.84</td>\n",
       "      <td>0.35</td>\n",
       "    </tr>\n",
       "    <tr>\n",
       "      <th>2</th>\n",
       "      <td>LP001031</td>\n",
       "      <td>2.0</td>\n",
       "      <td>2</td>\n",
       "      <td>3.0</td>\n",
       "      <td>1</td>\n",
       "      <td>1.0</td>\n",
       "      <td>5000</td>\n",
       "      <td>1800</td>\n",
       "      <td>208.0</td>\n",
       "      <td>360.0</td>\n",
       "      <td>2.0</td>\n",
       "      <td>3</td>\n",
       "      <td>6800</td>\n",
       "      <td>5.34</td>\n",
       "      <td>0.58</td>\n",
       "    </tr>\n",
       "    <tr>\n",
       "      <th>3</th>\n",
       "      <td>LP001035</td>\n",
       "      <td>2.0</td>\n",
       "      <td>2</td>\n",
       "      <td>3.0</td>\n",
       "      <td>1</td>\n",
       "      <td>1.0</td>\n",
       "      <td>2340</td>\n",
       "      <td>2546</td>\n",
       "      <td>100.0</td>\n",
       "      <td>360.0</td>\n",
       "      <td>2.0</td>\n",
       "      <td>3</td>\n",
       "      <td>4886</td>\n",
       "      <td>4.61</td>\n",
       "      <td>0.28</td>\n",
       "    </tr>\n",
       "    <tr>\n",
       "      <th>4</th>\n",
       "      <td>LP001051</td>\n",
       "      <td>2.0</td>\n",
       "      <td>1</td>\n",
       "      <td>1.0</td>\n",
       "      <td>2</td>\n",
       "      <td>1.0</td>\n",
       "      <td>3276</td>\n",
       "      <td>0</td>\n",
       "      <td>78.0</td>\n",
       "      <td>360.0</td>\n",
       "      <td>2.0</td>\n",
       "      <td>3</td>\n",
       "      <td>3276</td>\n",
       "      <td>4.36</td>\n",
       "      <td>0.22</td>\n",
       "    </tr>\n",
       "    <tr>\n",
       "      <th>5</th>\n",
       "      <td>LP001054</td>\n",
       "      <td>2.0</td>\n",
       "      <td>2</td>\n",
       "      <td>1.0</td>\n",
       "      <td>2</td>\n",
       "      <td>2.0</td>\n",
       "      <td>2165</td>\n",
       "      <td>3422</td>\n",
       "      <td>152.0</td>\n",
       "      <td>360.0</td>\n",
       "      <td>2.0</td>\n",
       "      <td>3</td>\n",
       "      <td>5587</td>\n",
       "      <td>5.02</td>\n",
       "      <td>0.42</td>\n",
       "    </tr>\n",
       "    <tr>\n",
       "      <th>6</th>\n",
       "      <td>LP001055</td>\n",
       "      <td>1.0</td>\n",
       "      <td>1</td>\n",
       "      <td>2.0</td>\n",
       "      <td>2</td>\n",
       "      <td>1.0</td>\n",
       "      <td>2226</td>\n",
       "      <td>0</td>\n",
       "      <td>59.0</td>\n",
       "      <td>360.0</td>\n",
       "      <td>2.0</td>\n",
       "      <td>2</td>\n",
       "      <td>2226</td>\n",
       "      <td>4.08</td>\n",
       "      <td>0.16</td>\n",
       "    </tr>\n",
       "    <tr>\n",
       "      <th>7</th>\n",
       "      <td>LP001056</td>\n",
       "      <td>2.0</td>\n",
       "      <td>2</td>\n",
       "      <td>3.0</td>\n",
       "      <td>2</td>\n",
       "      <td>1.0</td>\n",
       "      <td>3881</td>\n",
       "      <td>0</td>\n",
       "      <td>147.0</td>\n",
       "      <td>360.0</td>\n",
       "      <td>1.0</td>\n",
       "      <td>1</td>\n",
       "      <td>3881</td>\n",
       "      <td>4.99</td>\n",
       "      <td>0.41</td>\n",
       "    </tr>\n",
       "    <tr>\n",
       "      <th>8</th>\n",
       "      <td>LP001059</td>\n",
       "      <td>2.0</td>\n",
       "      <td>2</td>\n",
       "      <td>3.0</td>\n",
       "      <td>1</td>\n",
       "      <td>1.0</td>\n",
       "      <td>13633</td>\n",
       "      <td>0</td>\n",
       "      <td>280.0</td>\n",
       "      <td>240.0</td>\n",
       "      <td>2.0</td>\n",
       "      <td>3</td>\n",
       "      <td>13633</td>\n",
       "      <td>5.63</td>\n",
       "      <td>1.17</td>\n",
       "    </tr>\n",
       "    <tr>\n",
       "      <th>9</th>\n",
       "      <td>LP001067</td>\n",
       "      <td>2.0</td>\n",
       "      <td>1</td>\n",
       "      <td>1.0</td>\n",
       "      <td>2</td>\n",
       "      <td>1.0</td>\n",
       "      <td>2400</td>\n",
       "      <td>2400</td>\n",
       "      <td>123.0</td>\n",
       "      <td>360.0</td>\n",
       "      <td>2.0</td>\n",
       "      <td>2</td>\n",
       "      <td>4800</td>\n",
       "      <td>4.81</td>\n",
       "      <td>0.34</td>\n",
       "    </tr>\n",
       "  </tbody>\n",
       "</table>\n",
       "</div>"
      ],
      "text/plain": [
       "    Loan_ID  Gender  Married  Dependents  Education  Self_Employed  \\\n",
       "0  LP001015     2.0        2         1.0          1            1.0   \n",
       "1  LP001022     2.0        2         2.0          1            1.0   \n",
       "2  LP001031     2.0        2         3.0          1            1.0   \n",
       "3  LP001035     2.0        2         3.0          1            1.0   \n",
       "4  LP001051     2.0        1         1.0          2            1.0   \n",
       "5  LP001054     2.0        2         1.0          2            2.0   \n",
       "6  LP001055     1.0        1         2.0          2            1.0   \n",
       "7  LP001056     2.0        2         3.0          2            1.0   \n",
       "8  LP001059     2.0        2         3.0          1            1.0   \n",
       "9  LP001067     2.0        1         1.0          2            1.0   \n",
       "\n",
       "   ApplicantIncome  CoapplicantIncome  LoanAmount  Loan_Amount_Term  \\\n",
       "0             5720                  0       110.0             360.0   \n",
       "1             3076               1500       126.0             360.0   \n",
       "2             5000               1800       208.0             360.0   \n",
       "3             2340               2546       100.0             360.0   \n",
       "4             3276                  0        78.0             360.0   \n",
       "5             2165               3422       152.0             360.0   \n",
       "6             2226                  0        59.0             360.0   \n",
       "7             3881                  0       147.0             360.0   \n",
       "8            13633                  0       280.0             240.0   \n",
       "9             2400               2400       123.0             360.0   \n",
       "\n",
       "   Credit_History  Property_Area  TotalIncome  LoanAmount_Log  AmountxTerm  \n",
       "0             2.0              3         5720            4.70         0.31  \n",
       "1             2.0              3         4576            4.84         0.35  \n",
       "2             2.0              3         6800            5.34         0.58  \n",
       "3             2.0              3         4886            4.61         0.28  \n",
       "4             2.0              3         3276            4.36         0.22  \n",
       "5             2.0              3         5587            5.02         0.42  \n",
       "6             2.0              2         2226            4.08         0.16  \n",
       "7             1.0              1         3881            4.99         0.41  \n",
       "8             2.0              3        13633            5.63         1.17  \n",
       "9             2.0              2         4800            4.81         0.34  "
      ]
     },
     "execution_count": 20,
     "metadata": {},
     "output_type": "execute_result"
    }
   ],
   "source": [
    "# Revisamos las variables creadas, derrepente queremos crear algunas más?\n",
    "test_parametrica.head(10)"
   ]
  },
  {
   "cell_type": "code",
   "execution_count": 21,
   "metadata": {
    "collapsed": true
   },
   "outputs": [],
   "source": [
    "# Le quitamos la variable Loan_ID o identificador único para poder modelar la información \n",
    "train_parametrica = train_parametrica.drop('Loan_ID', axis=1)"
   ]
  },
  {
   "cell_type": "code",
   "execution_count": 22,
   "metadata": {
    "collapsed": true
   },
   "outputs": [],
   "source": [
    "# Partición Muestral de la Información\n",
    "# Creación de la data de train y la data de test\n",
    "\n",
    "from sklearn.model_selection import train_test_split\n",
    "\n",
    "X_train, X_test, y_train, y_test = train_test_split(train_parametrica.drop('Loan_Status', axis=1), \n",
    "                                                    train_parametrica['Loan_Status'], test_size=0.30,\n",
    "                                                    stratify=train_parametrica['Loan_Status'],\n",
    "                                                   random_state=100)"
   ]
  },
  {
   "cell_type": "code",
   "execution_count": 23,
   "metadata": {
    "collapsed": true
   },
   "outputs": [],
   "source": [
    "# Puedo modelar la información sin balancear, sin embargo es necesario seleccionar las mejores variables"
   ]
  },
  {
   "cell_type": "code",
   "execution_count": 24,
   "metadata": {
    "collapsed": true
   },
   "outputs": [],
   "source": [
    "import pandas as pd\n",
    "import numpy as np\n",
    "import matplotlib.pyplot as plt\n",
    "from sklearn import metrics\n",
    "from sklearn.ensemble import ExtraTreesClassifier"
   ]
  },
  {
   "cell_type": "code",
   "execution_count": 25,
   "metadata": {},
   "outputs": [
    {
     "data": {
      "text/plain": [
       "(429, 14)"
      ]
     },
     "execution_count": 25,
     "metadata": {},
     "output_type": "execute_result"
    }
   ],
   "source": [
    "X_train.shape"
   ]
  },
  {
   "cell_type": "code",
   "execution_count": 26,
   "metadata": {},
   "outputs": [
    {
     "name": "stderr",
     "output_type": "stream",
     "text": [
      "C:\\Users\\Andre Chavez\\Anaconda3\\lib\\site-packages\\sklearn\\ensemble\\forest.py:246: FutureWarning: The default value of n_estimators will change from 10 in version 0.20 to 100 in 0.22.\n",
      "  \"10 in version 0.20 to 100 in 0.22.\", FutureWarning)\n"
     ]
    },
    {
     "data": {
      "image/png": "[encoded data removed]",
      "text/plain": [
       "<matplotlib.figure.Figure at 0x253faa84e10>"
      ]
     },
     "metadata": {},
     "output_type": "display_data"
    }
   ],
   "source": [
    "# fit an Extra Tree model to the data\n",
    "extree = ExtraTreesClassifier()\n",
    "extree.fit(X_train, y_train)\n",
    "\n",
    "# display the relative importance of each attribute\n",
    "relval = extree.feature_importances_\n",
    "\n",
    "# horizontal bar plot of feature importance\n",
    "pos = np.arange(14) + 0.5\n",
    "plt.barh(pos, relval, align='center')\n",
    "plt.title(\"Feature Importance\")\n",
    "plt.xlabel(\"Model Accuracy\")\n",
    "plt.ylabel(\"Features\")\n",
    "plt.yticks(pos, X_train.columns)\n",
    "plt.grid(True)"
   ]
  },
  {
   "cell_type": "code",
   "execution_count": 27,
   "metadata": {
    "collapsed": true
   },
   "outputs": [],
   "source": [
    "# Puedo modelar la información balanceando y después seleccionar las mejores variables."
   ]
  },
  {
   "cell_type": "code",
   "execution_count": 28,
   "metadata": {
    "collapsed": true
   },
   "outputs": [],
   "source": [
    "# Concatenamos las covariables y la variable dependiente del train para poder balancearlo\n",
    "train_Xy = pd.concat([X_train, y_train], axis=1)"
   ]
  },
  {
   "cell_type": "code",
   "execution_count": 29,
   "metadata": {},
   "outputs": [
    {
     "data": {
      "text/plain": [
       "1    295\n",
       "0    134\n",
       "Name: Loan_Status, dtype: int64"
      ]
     },
     "execution_count": 29,
     "metadata": {},
     "output_type": "execute_result"
    }
   ],
   "source": [
    "# Puedo corroborar que en mi data de train sigo teniendo el desbalance\n",
    "train_Xy.Loan_Status.value_counts()"
   ]
  },
  {
   "cell_type": "markdown",
   "metadata": {},
   "source": [
    "#### 6 BALANCEO DE LOS DATOS Y SELECCIÓN DE DRIVERS"
   ]
  },
  {
   "cell_type": "markdown",
   "metadata": {},
   "source": [
    "## Remuestreo\n",
    "\n",
    "Una técnica ampliamente adoptada para tratar conjuntos de datos altamente desequilibrados se llama remuestreo. Consiste en eliminar muestras de la clase mayoritaria (submuestreo o undersampling) y / o agregar más ejemplos de la clase minoritaria (sobremuestreo o oversampling).\n",
    "\n"
   ]
  },
  {
   "attachments": {
    "image.png": {
     "image/png": "[encoded data removed]"
    }
   },
   "cell_type": "markdown",
   "metadata": {},
   "source": [
    "![image.png](attachment:image.png)"
   ]
  },
  {
   "cell_type": "code",
   "execution_count": 30,
   "metadata": {},
   "outputs": [
    {
     "data": {
      "text/html": [
       "<div>\n",
       "<style>\n",
       "    .dataframe thead tr:only-child th {\n",
       "        text-align: right;\n",
       "    }\n",
       "\n",
       "    .dataframe thead th {\n",
       "        text-align: left;\n",
       "    }\n",
       "\n",
       "    .dataframe tbody tr th {\n",
       "        vertical-align: top;\n",
       "    }\n",
       "</style>\n",
       "<table border=\"1\" class=\"dataframe\">\n",
       "  <thead>\n",
       "    <tr style=\"text-align: right;\">\n",
       "      <th></th>\n",
       "      <th>Gender</th>\n",
       "      <th>Married</th>\n",
       "      <th>Dependents</th>\n",
       "      <th>Education</th>\n",
       "      <th>Self_Employed</th>\n",
       "      <th>ApplicantIncome</th>\n",
       "      <th>CoapplicantIncome</th>\n",
       "      <th>LoanAmount</th>\n",
       "      <th>Loan_Amount_Term</th>\n",
       "      <th>Credit_History</th>\n",
       "      <th>Property_Area</th>\n",
       "      <th>TotalIncome</th>\n",
       "      <th>LoanAmount_Log</th>\n",
       "      <th>AmountxTerm</th>\n",
       "      <th>Loan_Status</th>\n",
       "    </tr>\n",
       "  </thead>\n",
       "  <tbody>\n",
       "    <tr>\n",
       "      <th>544</th>\n",
       "      <td>1.0</td>\n",
       "      <td>2.0</td>\n",
       "      <td>1.0</td>\n",
       "      <td>2</td>\n",
       "      <td>1.0</td>\n",
       "      <td>3017</td>\n",
       "      <td>663.0</td>\n",
       "      <td>102.0</td>\n",
       "      <td>360.0</td>\n",
       "      <td>2.0</td>\n",
       "      <td>2</td>\n",
       "      <td>3680.0</td>\n",
       "      <td>4.62</td>\n",
       "      <td>0.28</td>\n",
       "      <td>1</td>\n",
       "    </tr>\n",
       "    <tr>\n",
       "      <th>13</th>\n",
       "      <td>2.0</td>\n",
       "      <td>1.0</td>\n",
       "      <td>1.0</td>\n",
       "      <td>1</td>\n",
       "      <td>1.0</td>\n",
       "      <td>1853</td>\n",
       "      <td>2840.0</td>\n",
       "      <td>114.0</td>\n",
       "      <td>360.0</td>\n",
       "      <td>2.0</td>\n",
       "      <td>1</td>\n",
       "      <td>4693.0</td>\n",
       "      <td>4.74</td>\n",
       "      <td>0.32</td>\n",
       "      <td>0</td>\n",
       "    </tr>\n",
       "    <tr>\n",
       "      <th>383</th>\n",
       "      <td>2.0</td>\n",
       "      <td>1.0</td>\n",
       "      <td>1.0</td>\n",
       "      <td>1</td>\n",
       "      <td>2.0</td>\n",
       "      <td>7167</td>\n",
       "      <td>0.0</td>\n",
       "      <td>128.0</td>\n",
       "      <td>360.0</td>\n",
       "      <td>2.0</td>\n",
       "      <td>3</td>\n",
       "      <td>7167.0</td>\n",
       "      <td>4.85</td>\n",
       "      <td>0.36</td>\n",
       "      <td>1</td>\n",
       "    </tr>\n",
       "  </tbody>\n",
       "</table>\n",
       "</div>"
      ],
      "text/plain": [
       "     Gender  Married  Dependents  Education  Self_Employed  ApplicantIncome  \\\n",
       "544     1.0      2.0         1.0          2            1.0             3017   \n",
       "13      2.0      1.0         1.0          1            1.0             1853   \n",
       "383     2.0      1.0         1.0          1            2.0             7167   \n",
       "\n",
       "     CoapplicantIncome  LoanAmount  Loan_Amount_Term  Credit_History  \\\n",
       "544              663.0       102.0             360.0             2.0   \n",
       "13              2840.0       114.0             360.0             2.0   \n",
       "383                0.0       128.0             360.0             2.0   \n",
       "\n",
       "     Property_Area  TotalIncome  LoanAmount_Log  AmountxTerm  Loan_Status  \n",
       "544              2       3680.0            4.62         0.28            1  \n",
       "13               1       4693.0            4.74         0.32            0  \n",
       "383              3       7167.0            4.85         0.36            1  "
      ]
     },
     "execution_count": 30,
     "metadata": {},
     "output_type": "execute_result"
    }
   ],
   "source": [
    "train_Xy.head(3)"
   ]
  },
  {
   "cell_type": "code",
   "execution_count": 31,
   "metadata": {},
   "outputs": [
    {
     "name": "stdout",
     "output_type": "stream",
     "text": [
      "Clase 0: 134\n",
      "Clase 1: 295\n",
      "Proportion Clase 0: 0.31 : 0\n",
      "Proportion Clase 1: 0.69 : 1\n"
     ]
    },
    {
     "data": {
      "image/png": "[encoded data removed]",
      "text/plain": [
       "<matplotlib.figure.Figure at 0x253fadb67b8>"
      ]
     },
     "metadata": {},
     "output_type": "display_data"
    }
   ],
   "source": [
    "## Podemos hacer el balanceo de manera artesanal , para entender las lógicas.\n",
    "\n",
    "import numpy as np\n",
    "import pandas as pd\n",
    "import seaborn as sns\n",
    "\n",
    "target_count = train_Xy.Loan_Status.value_counts()\n",
    "print('Clase 0:', target_count[0])\n",
    "print('Clase 1:', target_count[1])\n",
    "\n",
    "print('Proportion Clase 0:', round(target_count[0] / (target_count[0]+target_count[1]), 2), ': 0')\n",
    "print('Proportion Clase 1:', round(target_count[1] / (target_count[0]+target_count[1]), 2), ': 1')\n",
    "\n",
    "\n",
    "target_count.plot(kind='bar', title='Count (target)');\n",
    "\n"
   ]
  },
  {
   "cell_type": "code",
   "execution_count": 32,
   "metadata": {
    "collapsed": true
   },
   "outputs": [],
   "source": [
    "# Conteo de las Clases\n",
    "# La clase 1 es la de los préstamos otorgados , tenemos 422 préstamos otorgados\n",
    "# La clase 0 es la de los préstamos no otorgados , tenemos 192 préstamos no otorgados\n",
    "count_class_1,count_class_0 = train_Xy.Loan_Status.value_counts()\n",
    "\n",
    "# Dividimos las Clases\n",
    "df_class_0 = train_Xy[train_Xy['Loan_Status'] == 0]\n",
    "df_class_1 = train_Xy[train_Xy['Loan_Status'] == 1]\n",
    "\n",
    "## Podemos visualizar el contenido del objeto df_class_1.head(5)"
   ]
  },
  {
   "cell_type": "markdown",
   "metadata": {},
   "source": [
    "#### Undersampling o sub-muestreo"
   ]
  },
  {
   "cell_type": "code",
   "execution_count": 33,
   "metadata": {},
   "outputs": [
    {
     "name": "stdout",
     "output_type": "stream",
     "text": [
      "Random under-sampling:\n",
      "1    134\n",
      "0    134\n",
      "Name: Loan_Status, dtype: int64\n"
     ]
    },
    {
     "data": {
      "image/png": "[encoded data removed]",
      "text/plain": [
       "<matplotlib.figure.Figure at 0x253fae3d400>"
      ]
     },
     "metadata": {},
     "output_type": "display_data"
    }
   ],
   "source": [
    "# Definimos una nueva variable llamada df_class_1_under la cual nos da un muestreo de la clase 1 dependiendo del número de \n",
    "# elementos de la clase 0.\n",
    "df_class_1_under = df_class_1.sample(count_class_0)\n",
    "df_balanceado_under = pd.concat([df_class_1_under, df_class_0], axis=0)\n",
    "\n",
    "print('Random under-sampling:')\n",
    "print(df_balanceado_under.Loan_Status.value_counts())\n",
    "\n",
    "df_balanceado_under.Loan_Status.value_counts().plot(kind='bar', title='Count (target)');"
   ]
  },
  {
   "cell_type": "markdown",
   "metadata": {},
   "source": [
    "#### Oversampling o sobre-muestreo"
   ]
  },
  {
   "cell_type": "code",
   "execution_count": 34,
   "metadata": {},
   "outputs": [
    {
     "name": "stdout",
     "output_type": "stream",
     "text": [
      "Random over-sampling:\n",
      "1    295\n",
      "0    295\n",
      "Name: Loan_Status, dtype: int64\n"
     ]
    },
    {
     "data": {
      "image/png": "[encoded data removed]",
      "text/plain": [
       "<matplotlib.figure.Figure at 0x253faea5fd0>"
      ]
     },
     "metadata": {},
     "output_type": "display_data"
    }
   ],
   "source": [
    "# Leemos la lógica : Del dataset de la clase 0 , sacamos una muestra de tamaño 422 con reemplazo.\n",
    "df_class_0_over = df_class_0.sample(count_class_1, replace=True)\n",
    "df_balanceado_over = pd.concat([df_class_1, df_class_0_over], axis=0)\n",
    "\n",
    "print('Random over-sampling:')\n",
    "print(df_balanceado_over.Loan_Status.value_counts())\n",
    "\n",
    "df_balanceado_over.Loan_Status.value_counts().plot(kind='bar', title='Count (target)');\n"
   ]
  },
  {
   "cell_type": "markdown",
   "metadata": {},
   "source": [
    "### Métodos de Balanceo Sofisticados"
   ]
  },
  {
   "cell_type": "markdown",
   "metadata": {},
   "source": [
    "#### RandomUnderSampling"
   ]
  },
  {
   "cell_type": "code",
   "execution_count": 35,
   "metadata": {
    "collapsed": true
   },
   "outputs": [],
   "source": [
    "# Creamos nuestra matriz de datos o variables independientes y \n",
    "# nuestro vector columna con la variable independiente\n",
    "X, y = train_Xy.drop('Loan_Status', axis=1), train_Xy['Loan_Status']\n"
   ]
  },
  {
   "cell_type": "code",
   "execution_count": 36,
   "metadata": {
    "collapsed": true
   },
   "outputs": [],
   "source": [
    "import imblearn\n",
    "from imblearn.under_sampling import RandomUnderSampler\n",
    "\n",
    "rus = RandomUnderSampler(return_indices=True)\n",
    "X_rus, y_rus, id_rus = rus.fit_sample(X, y)\n",
    "\n",
    "df_X_rus = pd.DataFrame(data=X_rus,columns=X.columns)\n",
    "df_y_rus = pd.DataFrame(data=y_rus,columns=['Loan_Status'])\n",
    "\n",
    "# Concatenamos la información\n",
    "df_balanceado_rus = pd.concat([df_X_rus, df_y_rus], axis=1)"
   ]
  },
  {
   "cell_type": "code",
   "execution_count": 37,
   "metadata": {
    "collapsed": true
   },
   "outputs": [],
   "source": [
    "#df_balanceado_rus.head(10)\n",
    "#df_balanceado_rus.describe()\n",
    "#df_balanceado_rus.Loan_Status.value_counts()"
   ]
  },
  {
   "cell_type": "markdown",
   "metadata": {},
   "source": [
    "#### RandomOverSampling"
   ]
  },
  {
   "cell_type": "code",
   "execution_count": 38,
   "metadata": {
    "collapsed": true
   },
   "outputs": [],
   "source": [
    "import numpy as np\n",
    "import pandas as pd\n",
    "from imblearn.over_sampling import RandomOverSampler\n",
    "\n",
    "ros = RandomOverSampler()\n",
    "X_ros, y_ros = ros.fit_sample(X, y)\n",
    "\n",
    "df_X_ros = pd.DataFrame(data=X_ros,columns=X.columns)\n",
    "df_y_ros = pd.DataFrame(data=y_ros,columns=['Loan_Status'])\n",
    "\n",
    "# Concatenamos la información\n",
    "df_balanceado_ros = pd.concat([df_X_ros, df_y_ros], axis=1)"
   ]
  },
  {
   "cell_type": "code",
   "execution_count": 39,
   "metadata": {
    "collapsed": true
   },
   "outputs": [],
   "source": [
    "#df_balanceado_ros.head(2)\n",
    "#df_balanceado_ros.describe()\n",
    "#df_balanceado_ros.Loan_Status.value_counts()"
   ]
  },
  {
   "cell_type": "markdown",
   "metadata": {},
   "source": [
    "#### Imputación TomekLink"
   ]
  },
  {
   "cell_type": "markdown",
   "metadata": {},
   "source": [
    "La imputación TomekLink son pares de instancias muy cercanas, pero de clases opuestas. Eliminar las instancias de la clase mayoritaria de cada par aumenta el espacio entre las dos clases, lo que facilita el proceso de clasificación."
   ]
  },
  {
   "attachments": {
    "image.png": {
     "image/png": "[encoded data removed]"
    }
   },
   "cell_type": "markdown",
   "metadata": {},
   "source": [
    "![image.png](attachment:image.png)"
   ]
  },
  {
   "cell_type": "code",
   "execution_count": 40,
   "metadata": {
    "collapsed": true
   },
   "outputs": [],
   "source": [
    "import numpy as np\n",
    "import pandas as pd\n",
    "from imblearn.under_sampling import TomekLinks\n",
    "\n",
    "tl = TomekLinks(return_indices=True, ratio='majority')\n",
    "X_tl, y_tl,id_tl  = tl.fit_sample(X, y)\n",
    "\n",
    "df_X_tl = pd.DataFrame(data=X_tl,columns=X.columns)\n",
    "df_y_tl = pd.DataFrame(data=y_tl,columns=['Loan_Status'])\n",
    "\n",
    "# Concatenamos la información\n",
    "df_balanceado_tl = pd.concat([df_X_tl, df_y_tl], axis=1)"
   ]
  },
  {
   "cell_type": "code",
   "execution_count": 41,
   "metadata": {
    "collapsed": true
   },
   "outputs": [],
   "source": [
    "#df_balanceado_tl.head(3)\n",
    "#df_balanceado_tl.describe()\n",
    "#df_balanceado_tl.Loan_Status.value_counts()"
   ]
  },
  {
   "cell_type": "markdown",
   "metadata": {},
   "source": [
    "### Imputación UnderSampling: Centros de Conglomerados"
   ]
  },
  {
   "cell_type": "markdown",
   "metadata": {},
   "source": [
    "Esta técnica realiza submuestreo generando centroides basados en métodos de agrupamiento. Los datos se agruparán previamente por similitud, a fin de preservar la información.\n",
    "\n",
    "En este ejemplo, pasaremos el dict {1: 192} para la relación de parámetros, para preservar 192 elementos de la clase mayoritaria (1) y todos los elementos de la clase minoritaria (0)."
   ]
  },
  {
   "attachments": {
    "image.png": {
     "image/png": "[encoded data removed]"
    }
   },
   "cell_type": "markdown",
   "metadata": {},
   "source": [
    "![image.png](attachment:image.png)"
   ]
  },
  {
   "cell_type": "code",
   "execution_count": 42,
   "metadata": {
    "collapsed": true
   },
   "outputs": [],
   "source": [
    "import numpy as np\n",
    "import pandas as pd\n",
    "from imblearn.under_sampling import ClusterCentroids\n",
    "\n",
    "cc = ClusterCentroids(ratio={1: 192})\n",
    "X_cc, y_cc = cc.fit_sample(X, y)\n",
    "\n",
    "df_X_cc = pd.DataFrame(data=X_cc,columns=X.columns)\n",
    "df_y_cc = pd.DataFrame(data=y_cc,columns=['Loan_Status'])\n",
    "\n",
    "# Concatenamos la información\n",
    "df_balanceado_cc = pd.concat([df_X_cc, df_y_cc], axis=1)"
   ]
  },
  {
   "cell_type": "code",
   "execution_count": 43,
   "metadata": {
    "collapsed": true
   },
   "outputs": [],
   "source": [
    "#df_balanceado_cc.head(2)\n",
    "#df_balanceado_cc.describe()\n",
    "#df_balanceado_cc.Loan_Status.value_counts()"
   ]
  },
  {
   "cell_type": "markdown",
   "metadata": {},
   "source": [
    "### Imputación OverSampling: SMOTE"
   ]
  },
  {
   "cell_type": "markdown",
   "metadata": {},
   "source": [
    "SMOTE (Técnica de sobremuestreo de Minorías Sintéticas) consiste en la síntesis de elementos para la clase minoritaria, basados en los que ya existen. Funciona eligiendo al azar un punto de la clase minoritaria y calcula los k vecinos más cercanos para este punto. Los puntos sintéticos se agregan entre el punto elegido y sus vecinos."
   ]
  },
  {
   "attachments": {
    "image.png": {
     "image/png": "[encoded data removed]"
    }
   },
   "cell_type": "markdown",
   "metadata": {},
   "source": [
    "![image.png](attachment:image.png)"
   ]
  },
  {
   "cell_type": "code",
   "execution_count": 44,
   "metadata": {
    "collapsed": true
   },
   "outputs": [],
   "source": [
    "from imblearn.over_sampling import SMOTE\n",
    "\n",
    "smote = SMOTE(ratio='minority')\n",
    "X_sm, y_sm = smote.fit_sample(X, y)\n",
    "\n",
    "df_X_sm = pd.DataFrame(data=X_sm,columns=X.columns)\n",
    "df_y_sm = pd.DataFrame(data=y_sm,columns=['Loan_Status'])\n",
    "\n",
    "# Concatenamos la información\n",
    "df_balanceado_sm = pd.concat([df_X_sm, df_y_sm], axis=1)"
   ]
  },
  {
   "cell_type": "code",
   "execution_count": 45,
   "metadata": {
    "collapsed": true
   },
   "outputs": [],
   "source": [
    "#df_balanceado_sm.head(2)\n",
    "#df_balanceado_sm.describe()\n",
    "#df_balanceado_sm.Loan_Status.value_counts()"
   ]
  },
  {
   "cell_type": "markdown",
   "metadata": {},
   "source": [
    "### Imputación Over-sampling seguido de under-sampling (SMOTE + Tomek links)"
   ]
  },
  {
   "cell_type": "markdown",
   "metadata": {},
   "source": [
    "Ahora, haremos una combinación de sobremuestreo y submuestreo, usando las técnicas de enlaces SMOTE y Tomek:"
   ]
  },
  {
   "attachments": {
    "image.png": {
     "image/png": "[encoded data removed]"
    }
   },
   "cell_type": "markdown",
   "metadata": {},
   "source": [
    "![image.png](attachment:image.png)"
   ]
  },
  {
   "cell_type": "code",
   "execution_count": 46,
   "metadata": {
    "collapsed": true
   },
   "outputs": [],
   "source": [
    "from imblearn.combine import SMOTETomek\n",
    "\n",
    "smt = SMOTETomek(ratio='auto')\n",
    "X_smt, y_smt = smt.fit_sample(X, y)\n",
    "\n",
    "df_X_smt = pd.DataFrame(data=X_smt,columns=X.columns)\n",
    "df_y_smt = pd.DataFrame(data=y_smt,columns=['Loan_Status'])\n",
    "\n",
    "# Concatenamos la información\n",
    "df_balanceado_smt = pd.concat([df_X_smt, df_y_smt], axis=1)"
   ]
  },
  {
   "cell_type": "code",
   "execution_count": 47,
   "metadata": {
    "collapsed": true
   },
   "outputs": [],
   "source": [
    "#df_balanceado_smt.head(3)\n",
    "#df_balanceado_smt.describe()\n",
    "#df_balanceado_smt.Loan_Status.value_counts()"
   ]
  },
  {
   "cell_type": "markdown",
   "metadata": {},
   "source": [
    "\n",
    "## Selección de Drivers"
   ]
  },
  {
   "cell_type": "markdown",
   "metadata": {},
   "source": [
    "### Selección de Drivers Mediante Técnicas de Machine Learning"
   ]
  },
  {
   "cell_type": "code",
   "execution_count": 48,
   "metadata": {
    "collapsed": true
   },
   "outputs": [],
   "source": [
    "import pandas as pd\n",
    "import numpy as np\n",
    "import matplotlib.pyplot as plt\n",
    "from sklearn import metrics\n",
    "from sklearn.ensemble import ExtraTreesClassifier"
   ]
  },
  {
   "cell_type": "code",
   "execution_count": 49,
   "metadata": {},
   "outputs": [
    {
     "data": {
      "text/plain": [
       "(590, 14)"
      ]
     },
     "execution_count": 49,
     "metadata": {},
     "output_type": "execute_result"
    }
   ],
   "source": [
    "X_ros.shape"
   ]
  },
  {
   "cell_type": "code",
   "execution_count": 52,
   "metadata": {},
   "outputs": [
    {
     "name": "stderr",
     "output_type": "stream",
     "text": [
      "C:\\Users\\Andre Chavez\\Anaconda3\\lib\\site-packages\\sklearn\\ensemble\\forest.py:246: FutureWarning: The default value of n_estimators will change from 10 in version 0.20 to 100 in 0.22.\n",
      "  \"10 in version 0.20 to 100 in 0.22.\", FutureWarning)\n"
     ]
    },
    {
     "data": {
      "image/png": "[encoded data removed]",
      "text/plain": [
       "<matplotlib.figure.Figure at 0x253fbcbba90>"
      ]
     },
     "metadata": {},
     "output_type": "display_data"
    }
   ],
   "source": [
    "# fit an Extra Tree model to the data\n",
    "extree = ExtraTreesClassifier()\n",
    "extree.fit(X_ros, y_ros)\n",
    "\n",
    "# display the relative importance of each attribute\n",
    "relval = extree.feature_importances_\n",
    "\n",
    "# horizontal bar plot of feature importance\n",
    "pos = np.arange(14) + 0.5\n",
    "plt.barh(pos, relval, align='center')\n",
    "plt.title(\"Feature Importance\")\n",
    "plt.xlabel(\"Model Accuracy\")\n",
    "plt.ylabel(\"Features\")\n",
    "plt.yticks(pos, X.columns)\n",
    "plt.grid(True)\n"
   ]
  },
  {
   "cell_type": "code",
   "execution_count": 53,
   "metadata": {},
   "outputs": [
    {
     "data": {
      "image/png": "[encoded data removed]",
      "text/plain": [
       "<matplotlib.figure.Figure at 0x253fbc73a58>"
      ]
     },
     "metadata": {},
     "output_type": "display_data"
    }
   ],
   "source": [
    "from sklearn.ensemble import RandomForestClassifier as RFC\n",
    "import numpy as np\n",
    "import pandas as pd\n",
    "import matplotlib.pyplot as plt\n",
    "\n",
    "forest = RFC(n_jobs=2,n_estimators=50)\n",
    "forest.fit(X_ros, y_ros)\n",
    "importances = forest.feature_importances_\n",
    "\n",
    "\n",
    "# horizontal bar plot of feature importance\n",
    "pos = np.arange(14) + 0.5\n",
    "plt.barh(pos, importances, align='center')\n",
    "plt.title(\"Feature Importance\")\n",
    "plt.xlabel(\"Model Accuracy\")\n",
    "plt.ylabel(\"Features\")\n",
    "plt.yticks(pos, X.columns)\n",
    "plt.grid(True)\n"
   ]
  },
  {
   "cell_type": "markdown",
   "metadata": {},
   "source": [
    "#### 7 MODELADO DE LA DATA"
   ]
  },
  {
   "cell_type": "code",
   "execution_count": 54,
   "metadata": {
    "collapsed": true
   },
   "outputs": [],
   "source": [
    "# Data Final : df_balanceado_smt pueden elegir cualquiera resultado del producto de un método de balanceo\n",
    "import pandas as pd\n",
    "from matplotlib import pyplot as plt"
   ]
  },
  {
   "cell_type": "code",
   "execution_count": 55,
   "metadata": {
    "collapsed": true
   },
   "outputs": [],
   "source": [
    "# Creación de la data de train, separando o haciendo un split de nuestra información\n",
    "X_train =df_balanceado_ros.drop('Loan_Status',axis=1)\n",
    "y_train = df_balanceado_ros['Loan_Status']"
   ]
  },
  {
   "cell_type": "code",
   "execution_count": 56,
   "metadata": {},
   "outputs": [
    {
     "name": "stdout",
     "output_type": "stream",
     "text": [
      "(590, 14) (590,)\n",
      "(185, 14) (185,)\n"
     ]
    }
   ],
   "source": [
    "print (X_train.shape, y_train.shape)\n",
    "print (X_test.shape, y_test.shape)"
   ]
  },
  {
   "cell_type": "markdown",
   "metadata": {},
   "source": [
    "### AdaBoost"
   ]
  },
  {
   "cell_type": "code",
   "execution_count": 57,
   "metadata": {},
   "outputs": [
    {
     "data": {
      "text/plain": [
       "AdaBoostClassifier(algorithm='SAMME.R', base_estimator=None,\n",
       "          learning_rate=1.0, n_estimators=50, random_state=None)"
      ]
     },
     "execution_count": 57,
     "metadata": {},
     "output_type": "execute_result"
    }
   ],
   "source": [
    "from sklearn.ensemble import AdaBoostClassifier\n",
    "# Parámetros :\n",
    "# base_estimator : Es el estimador base sobre la cual el ensamble es constuido.\n",
    "# n_estimators : Numero de estimadores con los cuales se construye el ensamble.\n",
    "# random_state : semilla aleatoria\n",
    "AdaBoost=AdaBoostClassifier()\n",
    "AdaBoost.fit(X_train, y_train) "
   ]
  },
  {
   "cell_type": "code",
   "execution_count": 58,
   "metadata": {
    "collapsed": true
   },
   "outputs": [],
   "source": [
    "#Calculamos la clase predicha, para poder evaluar la clasificación\n",
    "y_pred = AdaBoost.predict(X_test)"
   ]
  },
  {
   "cell_type": "code",
   "execution_count": 59,
   "metadata": {},
   "outputs": [
    {
     "name": "stdout",
     "output_type": "stream",
     "text": [
      "\tAccuracy: 0.762\n",
      "\n",
      "\tPrecision: 0.817\n",
      "\tRecall: 0.843\n",
      "\tF1: 0.829\n",
      "\n"
     ]
    }
   ],
   "source": [
    "from sklearn.metrics import (precision_score, recall_score,f1_score,accuracy_score)\n",
    "print(\"\\tAccuracy: %1.3f\\n\" % accuracy_score(y_test, y_pred))\n",
    "print(\"\\tPrecision: %1.3f\" % precision_score(y_test, y_pred))\n",
    "print(\"\\tRecall: %1.3f\" % recall_score(y_test, y_pred))\n",
    "print(\"\\tF1: %1.3f\\n\" % f1_score(y_test, y_pred))"
   ]
  },
  {
   "cell_type": "markdown",
   "metadata": {},
   "source": [
    "#### Realizamos la metodología de Cross Validation para tener un modelo preciso y estable a la vez"
   ]
  },
  {
   "cell_type": "code",
   "execution_count": 60,
   "metadata": {},
   "outputs": [
    {
     "name": "stdout",
     "output_type": "stream",
     "text": [
      "10-fold cross validation average accuracy: 0.722\n"
     ]
    }
   ],
   "source": [
    "from sklearn import model_selection\n",
    "from sklearn.model_selection import cross_val_score\n",
    "\n",
    "kfold = model_selection.KFold(n_splits=10, random_state=7)\n",
    "AdaBoost=AdaBoostClassifier()\n",
    "scoring = 'accuracy'\n",
    "results = model_selection.cross_val_score(AdaBoost, X_train, y_train, cv=kfold, scoring=scoring)\n",
    "print(\"10-fold cross validation average accuracy: %.3f\" % (results.mean()))"
   ]
  },
  {
   "cell_type": "code",
   "execution_count": 61,
   "metadata": {},
   "outputs": [
    {
     "name": "stdout",
     "output_type": "stream",
     "text": [
      "              precision    recall  f1-score   support\n",
      "\n",
      "           0       0.63      0.59      0.61        58\n",
      "           1       0.82      0.84      0.83       127\n",
      "\n",
      "   micro avg       0.76      0.76      0.76       185\n",
      "   macro avg       0.72      0.71      0.72       185\n",
      "weighted avg       0.76      0.76      0.76       185\n",
      "\n"
     ]
    }
   ],
   "source": [
    "# Obtenemos la matriz de confusión con las métricas anteriores\n",
    "from sklearn.metrics import classification_report\n",
    "print(classification_report(y_test, y_pred))"
   ]
  },
  {
   "cell_type": "code",
   "execution_count": 62,
   "metadata": {},
   "outputs": [
    {
     "data": {
      "image/png": "[encoded data removed]",
      "text/plain": [
       "<matplotlib.figure.Figure at 0x253faee8550>"
      ]
     },
     "metadata": {},
     "output_type": "display_data"
    }
   ],
   "source": [
    "# Obtenemos la Curva Roc\n",
    "\n",
    "from sklearn.metrics import roc_auc_score\n",
    "from sklearn.metrics import roc_curve\n",
    "from sklearn.metrics import (precision_score, recall_score,f1_score,accuracy_score)\n",
    "\n",
    "AdaBoost=AdaBoostClassifier()\n",
    "AdaBoost.fit(X_train, y_train)\n",
    "\n",
    "AdaBoost_roc_auc = roc_auc_score(y_test, AdaBoost.predict(X_test))\n",
    "fpr, tpr, thresholds = roc_curve(y_test, AdaBoost.predict_proba(X_test)[:,1])\n",
    "plt.figure()\n",
    "plt.plot(fpr, tpr, label='AdaBoost (area = %0.2f)' % AdaBoost_roc_auc)\n",
    "plt.plot([0, 1], [0, 1],'r--')\n",
    "plt.xlim([0.0, 1.0])\n",
    "plt.ylim([0.0, 1.05])\n",
    "plt.xlabel('False Positive Rate')\n",
    "plt.ylabel('True Positive Rate')\n",
    "plt.title('Receiver operating characteristic')\n",
    "plt.legend(loc=\"lower right\")\n",
    "plt.savefig('AdaBoost_ROC')\n",
    "plt.show()"
   ]
  },
  {
   "cell_type": "markdown",
   "metadata": {},
   "source": [
    "##### Una vez corrido el algoritmo evaluamos sobre el Test y lo mandamos al submmit"
   ]
  },
  {
   "cell_type": "code",
   "execution_count": 63,
   "metadata": {},
   "outputs": [
    {
     "data": {
      "text/html": [
       "<div>\n",
       "<style>\n",
       "    .dataframe thead tr:only-child th {\n",
       "        text-align: right;\n",
       "    }\n",
       "\n",
       "    .dataframe thead th {\n",
       "        text-align: left;\n",
       "    }\n",
       "\n",
       "    .dataframe tbody tr th {\n",
       "        vertical-align: top;\n",
       "    }\n",
       "</style>\n",
       "<table border=\"1\" class=\"dataframe\">\n",
       "  <thead>\n",
       "    <tr style=\"text-align: right;\">\n",
       "      <th></th>\n",
       "      <th>Loan_ID</th>\n",
       "      <th>Gender</th>\n",
       "      <th>Married</th>\n",
       "      <th>Dependents</th>\n",
       "      <th>Education</th>\n",
       "      <th>Self_Employed</th>\n",
       "      <th>ApplicantIncome</th>\n",
       "      <th>CoapplicantIncome</th>\n",
       "      <th>LoanAmount</th>\n",
       "      <th>Loan_Amount_Term</th>\n",
       "      <th>Credit_History</th>\n",
       "      <th>Property_Area</th>\n",
       "      <th>TotalIncome</th>\n",
       "      <th>LoanAmount_Log</th>\n",
       "      <th>AmountxTerm</th>\n",
       "    </tr>\n",
       "  </thead>\n",
       "  <tbody>\n",
       "    <tr>\n",
       "      <th>0</th>\n",
       "      <td>LP001015</td>\n",
       "      <td>2.0</td>\n",
       "      <td>2</td>\n",
       "      <td>1.0</td>\n",
       "      <td>1</td>\n",
       "      <td>1.0</td>\n",
       "      <td>5720</td>\n",
       "      <td>0</td>\n",
       "      <td>110.0</td>\n",
       "      <td>360.0</td>\n",
       "      <td>2.0</td>\n",
       "      <td>3</td>\n",
       "      <td>5720</td>\n",
       "      <td>4.7</td>\n",
       "      <td>0.31</td>\n",
       "    </tr>\n",
       "  </tbody>\n",
       "</table>\n",
       "</div>"
      ],
      "text/plain": [
       "    Loan_ID  Gender  Married  Dependents  Education  Self_Employed  \\\n",
       "0  LP001015     2.0        2         1.0          1            1.0   \n",
       "\n",
       "   ApplicantIncome  CoapplicantIncome  LoanAmount  Loan_Amount_Term  \\\n",
       "0             5720                  0       110.0             360.0   \n",
       "\n",
       "   Credit_History  Property_Area  TotalIncome  LoanAmount_Log  AmountxTerm  \n",
       "0             2.0              3         5720             4.7         0.31  "
      ]
     },
     "execution_count": 63,
     "metadata": {},
     "output_type": "execute_result"
    }
   ],
   "source": [
    "test_parametrica.head(1)"
   ]
  },
  {
   "cell_type": "code",
   "execution_count": 64,
   "metadata": {
    "collapsed": true
   },
   "outputs": [],
   "source": [
    "#Utilizamos el datatest para poder utilizarlo en todos los algoritmos\n",
    "df2 = test_parametrica.copy()\n",
    "df2=df2.drop('Loan_ID',axis=1)"
   ]
  },
  {
   "cell_type": "code",
   "execution_count": 65,
   "metadata": {
    "collapsed": true
   },
   "outputs": [],
   "source": [
    "#Creamos una copia para no perder el dataset de test o validación ya imputado\n",
    "#df2 = df2.drop('Loan_ID', axis=1) # Le quitamos el ID para poder scorear o puntuar el modelo\n",
    "y_final = AdaBoost.predict(df2) # Predecimos sobre nuevos clientes o clientes sin la variable dependiente VD\n",
    "\n",
    "data = np.hstack((test_parametrica['Loan_ID'].values.reshape(-1,1), y_final.reshape(-1,1)))\n",
    "df_submmit = pd.DataFrame(data, columns=['Loan_ID','Loan_Status'])\n",
    "df_submmit['Loan_Status']=[\"Y\" if i == 1 else \"N\" for i in df_submmit['Loan_Status']]\n",
    "df_submmit.to_csv('Submmit_AdaBoost.csv', index=False)"
   ]
  },
  {
   "cell_type": "markdown",
   "metadata": {},
   "source": [
    "### XGBoost"
   ]
  },
  {
   "cell_type": "code",
   "execution_count": 66,
   "metadata": {
    "collapsed": true
   },
   "outputs": [],
   "source": [
    "# Importamos la librería necesaria para el algoritmo\n",
    "import xgboost as xgb"
   ]
  },
  {
   "cell_type": "code",
   "execution_count": 67,
   "metadata": {
    "collapsed": true
   },
   "outputs": [],
   "source": [
    "# En Xgboost necesitamos convertir nuestras matrices a matriz XGboost\n",
    "# Uso eficiente de la memoria y entrenamiento rápido\n",
    "dtrain=xgb.DMatrix(X_train,y_train)\n",
    "dtest=xgb.DMatrix(X_test)"
   ]
  },
  {
   "cell_type": "code",
   "execution_count": 110,
   "metadata": {
    "collapsed": true
   },
   "outputs": [],
   "source": [
    "# Eligiendo los parámetros para XGBoost\n",
    "parameters={'max_depth':7, \n",
    "            'eta':0.1, 'silent':1,\n",
    "            'objective':'binary:logistic',\n",
    "            'eval_metric':'auc',\n",
    "            'learning_rate':.05}\n",
    "num_round=50\n",
    "xg=xgb.train(parameters,dtrain,num_round) "
   ]
  },
  {
   "cell_type": "code",
   "execution_count": 104,
   "metadata": {},
   "outputs": [],
   "source": [
    "# Predecimos el Modelo entrenado sobre la data de test\n",
    "ypred=xg.predict(dtest) "
   ]
  },
  {
   "cell_type": "code",
   "execution_count": 98,
   "metadata": {},
   "outputs": [],
   "source": [
    "# Tenemos las probabilidades predichas por el algoritmo, hay que convertirlas en clases.\n",
    "for i in range(0,185): \n",
    "    if ypred[i]>0.5:       # setting threshold to .5 \n",
    "       ypred[i]=1 \n",
    "    else: \n",
    "       ypred[i]=0  "
   ]
  },
  {
   "cell_type": "code",
   "execution_count": 86,
   "metadata": {},
   "outputs": [
    {
     "name": "stdout",
     "output_type": "stream",
     "text": [
      "              precision    recall  f1-score   support\n",
      "\n",
      "           0       0.63      0.59      0.61        58\n",
      "           1       0.82      0.84      0.83       127\n",
      "\n",
      "   micro avg       0.76      0.76      0.76       185\n",
      "   macro avg       0.72      0.71      0.72       185\n",
      "weighted avg       0.76      0.76      0.76       185\n",
      "\n"
     ]
    }
   ],
   "source": [
    "# Obtenemos la matriz de confusión con las métricas anteriores\n",
    "from sklearn.metrics import classification_report\n",
    "print(classification_report(y_test, y_pred))"
   ]
  },
  {
   "cell_type": "code",
   "execution_count": 93,
   "metadata": {},
   "outputs": [
    {
     "data": {
      "text/plain": [
       "<matplotlib.axes._subplots.AxesSubplot at 0x253fd01ad30>"
      ]
     },
     "execution_count": 93,
     "metadata": {},
     "output_type": "execute_result"
    },
    {
     "data": {
      "image/png": "[encoded data removed]",
      "text/plain": [
       "<matplotlib.figure.Figure at 0x253faf4d080>"
      ]
     },
     "metadata": {},
     "output_type": "display_data"
    }
   ],
   "source": [
    "# Podemos calcular la importancia de variables por Xgboost\n",
    "xgb.plot_importance(xg,importance_type='weight')"
   ]
  },
  {
   "cell_type": "code",
   "execution_count": 82,
   "metadata": {},
   "outputs": [
    {
     "data": {
      "image/svg+xml": [
       "<?xml version=\"1.0\" encoding=\"UTF-8\" standalone=\"no\"?>\r\n",
       "<!DOCTYPE svg PUBLIC \"-//W3C//DTD SVG 1.1//EN\"\r\n",
       " \"http://www.w3.org/Graphics/SVG/1.1/DTD/svg11.dtd\">\r\n",
       "<!-- Generated by graphviz version 2.38.0 (20140413.2041)\r\n",
       " -->\r\n",
       "<!-- Title: %3 Pages: 1 -->\r\n",
       "<svg width=\"1759pt\" height=\"1759pt\"\r\n",
       " viewBox=\"0.00 0.00 1759.00 1759.38\" xmlns=\"http://www.w3.org/2000/svg\" xmlns:xlink=\"http://www.w3.org/1999/xlink\">\r\n",
       "<g id=\"graph0\" class=\"graph\" transform=\"scale(1 1) rotate(0) translate(4 1755.38)\">\r\n",
       "<title>%3</title>\r\n",
       "<polygon fill=\"white\" stroke=\"none\" points=\"-4,4 -4,-1755.38 1755,-1755.38 1755,4 -4,4\"/>\r\n",
       "<!-- 0 -->\r\n",
       "<g id=\"node1\" class=\"node\"><title>0</title>\r\n",
       "<ellipse fill=\"none\" stroke=\"black\" cx=\"571\" cy=\"-1670.14\" rx=\"81.4863\" ry=\"81.4863\"/>\r\n",
       "<text text-anchor=\"middle\" x=\"571\" y=\"-1666.44\" font-family=\"Times New Roman,serif\" font-size=\"14.00\">Credit_History&lt;1.5</text>\r\n",
       "</g>\r\n",
       "<!-- 1 -->\r\n",
       "<g id=\"node2\" class=\"node\"><title>1</title>\r\n",
       "<polygon fill=\"none\" stroke=\"black\" points=\"562.5,-1468.8 455.5,-1468.8 455.5,-1432.8 562.5,-1432.8 562.5,-1468.8\"/>\r\n",
       "<text text-anchor=\"middle\" x=\"509\" y=\"-1447.1\" font-family=\"Times New Roman,serif\" font-size=\"14.00\">leaf=&#45;0.0795132</text>\r\n",
       "</g>\r\n",
       "<!-- 0&#45;&gt;1 -->\r\n",
       "<g id=\"edge1\" class=\"edge\"><title>0&#45;&gt;1</title>\r\n",
       "<path fill=\"none\" stroke=\"#0000ff\" d=\"M548.967,-1591.9C537.732,-1552.52 524.779,-1507.11 516.739,-1478.93\"/>\r\n",
       "<polygon fill=\"#0000ff\" stroke=\"#0000ff\" points=\"520.021,-1477.68 513.912,-1469.02 513.29,-1479.6 520.021,-1477.68\"/>\r\n",
       "<text text-anchor=\"middle\" x=\"576.5\" y=\"-1559.69\" font-family=\"Times New Roman,serif\" font-size=\"14.00\">yes, missing</text>\r\n",
       "</g>\r\n",
       "<!-- 2 -->\r\n",
       "<g id=\"node3\" class=\"node\"><title>2</title>\r\n",
       "<ellipse fill=\"none\" stroke=\"black\" cx=\"668\" cy=\"-1450.8\" rx=\"87.1846\" ry=\"87.1846\"/>\r\n",
       "<text text-anchor=\"middle\" x=\"668\" y=\"-1447.1\" font-family=\"Times New Roman,serif\" font-size=\"14.00\">TotalIncome&lt;2386.5</text>\r\n",
       "</g>\r\n",
       "<!-- 0&#45;&gt;2 -->\r\n",
       "<g id=\"edge2\" class=\"edge\"><title>0&#45;&gt;2</title>\r\n",
       "<path fill=\"none\" stroke=\"#ff0000\" d=\"M603.84,-1595.56C611.833,-1577.65 620.462,-1558.31 628.72,-1539.81\"/>\r\n",
       "<polygon fill=\"#ff0000\" stroke=\"#ff0000\" points=\"631.99,-1541.07 632.869,-1530.51 625.598,-1538.22 631.99,-1541.07\"/>\r\n",
       "<text text-anchor=\"middle\" x=\"626.5\" y=\"-1559.69\" font-family=\"Times New Roman,serif\" font-size=\"14.00\">no</text>\r\n",
       "</g>\r\n",
       "<!-- 3 -->\r\n",
       "<g id=\"node4\" class=\"node\"><title>3</title>\r\n",
       "<ellipse fill=\"none\" stroke=\"black\" cx=\"553\" cy=\"-1210.02\" rx=\"102.882\" ry=\"102.882\"/>\r\n",
       "<text text-anchor=\"middle\" x=\"553\" y=\"-1206.32\" font-family=\"Times New Roman,serif\" font-size=\"14.00\">ApplicantIncome&lt;1921.5</text>\r\n",
       "</g>\r\n",
       "<!-- 2&#45;&gt;3 -->\r\n",
       "<g id=\"edge3\" class=\"edge\"><title>2&#45;&gt;3</title>\r\n",
       "<path fill=\"none\" stroke=\"#0000ff\" d=\"M630.504,-1371.95C621.296,-1352.83 611.306,-1332.08 601.656,-1312.05\"/>\r\n",
       "<polygon fill=\"#0000ff\" stroke=\"#0000ff\" points=\"604.743,-1310.39 597.251,-1302.9 598.436,-1313.43 604.743,-1310.39\"/>\r\n",
       "<text text-anchor=\"middle\" x=\"651.5\" y=\"-1334.51\" font-family=\"Times New Roman,serif\" font-size=\"14.00\">yes, missing</text>\r\n",
       "</g>\r\n",
       "<!-- 4 -->\r\n",
       "<g id=\"node5\" class=\"node\"><title>4</title>\r\n",
       "<ellipse fill=\"none\" stroke=\"black\" cx=\"755\" cy=\"-1210.02\" rx=\"81.4863\" ry=\"81.4863\"/>\r\n",
       "<text text-anchor=\"middle\" x=\"755\" y=\"-1206.32\" font-family=\"Times New Roman,serif\" font-size=\"14.00\">Property_Area&lt;1.5</text>\r\n",
       "</g>\r\n",
       "<!-- 2&#45;&gt;4 -->\r\n",
       "<g id=\"edge4\" class=\"edge\"><title>2&#45;&gt;4</title>\r\n",
       "<path fill=\"none\" stroke=\"#ff0000\" d=\"M697.576,-1368.63C706.062,-1345.34 715.338,-1319.88 723.912,-1296.34\"/>\r\n",
       "<polygon fill=\"#ff0000\" stroke=\"#ff0000\" points=\"727.277,-1297.33 727.412,-1286.74 720.7,-1294.94 727.277,-1297.33\"/>\r\n",
       "<text text-anchor=\"middle\" x=\"718.5\" y=\"-1334.51\" font-family=\"Times New Roman,serif\" font-size=\"14.00\">no</text>\r\n",
       "</g>\r\n",
       "<!-- 5 -->\r\n",
       "<g id=\"node6\" class=\"node\"><title>5</title>\r\n",
       "<polygon fill=\"none\" stroke=\"black\" points=\"485.5,-971.637 378.5,-971.637 378.5,-935.637 485.5,-935.637 485.5,-971.637\"/>\r\n",
       "<text text-anchor=\"middle\" x=\"432\" y=\"-949.937\" font-family=\"Times New Roman,serif\" font-size=\"14.00\">leaf=&#45;0.0686297</text>\r\n",
       "</g>\r\n",
       "<!-- 3&#45;&gt;5 -->\r\n",
       "<g id=\"edge5\" class=\"edge\"><title>3&#45;&gt;5</title>\r\n",
       "<path fill=\"none\" stroke=\"#0000ff\" d=\"M499.178,-1122.42C493.085,-1111.44 487.205,-1100.23 482,-1089.33 464.752,-1053.2 449.478,-1009.43 440.483,-981.803\"/>\r\n",
       "<polygon fill=\"#0000ff\" stroke=\"#0000ff\" points=\"443.742,-980.505 437.351,-972.054 437.077,-982.645 443.742,-980.505\"/>\r\n",
       "<text text-anchor=\"middle\" x=\"516.5\" y=\"-1078.13\" font-family=\"Times New Roman,serif\" font-size=\"14.00\">yes, missing</text>\r\n",
       "</g>\r\n",
       "<!-- 6 -->\r\n",
       "<g id=\"node7\" class=\"node\"><title>6</title>\r\n",
       "<polygon fill=\"none\" stroke=\"black\" points=\"610.5,-971.637 503.5,-971.637 503.5,-935.637 610.5,-935.637 610.5,-971.637\"/>\r\n",
       "<text text-anchor=\"middle\" x=\"557\" y=\"-949.937\" font-family=\"Times New Roman,serif\" font-size=\"14.00\">leaf=&#45;0.0244766</text>\r\n",
       "</g>\r\n",
       "<!-- 3&#45;&gt;6 -->\r\n",
       "<g id=\"edge6\" class=\"edge\"><title>3&#45;&gt;6</title>\r\n",
       "<path fill=\"none\" stroke=\"#ff0000\" d=\"M554.604,-1107.02C555.316,-1061.71 556.098,-1011.97 556.569,-982.034\"/>\r\n",
       "<polygon fill=\"#ff0000\" stroke=\"#ff0000\" points=\"560.07,-982 556.728,-971.946 553.071,-981.89 560.07,-982\"/>\r\n",
       "<text text-anchor=\"middle\" x=\"563.5\" y=\"-1078.13\" font-family=\"Times New Roman,serif\" font-size=\"14.00\">no</text>\r\n",
       "</g>\r\n",
       "<!-- 7 -->\r\n",
       "<g id=\"node8\" class=\"node\"><title>7</title>\r\n",
       "<ellipse fill=\"none\" stroke=\"black\" cx=\"745\" cy=\"-953.637\" rx=\"102.882\" ry=\"102.882\"/>\r\n",
       "<text text-anchor=\"middle\" x=\"745\" y=\"-949.937\" font-family=\"Times New Roman,serif\" font-size=\"14.00\">ApplicantIncome&lt;4195.5</text>\r\n",
       "</g>\r\n",
       "<!-- 4&#45;&gt;7 -->\r\n",
       "<g id=\"edge7\" class=\"edge\"><title>4&#45;&gt;7</title>\r\n",
       "<path fill=\"none\" stroke=\"#0000ff\" d=\"M751.836,-1128.53C751.064,-1108.89 750.224,-1087.53 749.406,-1066.71\"/>\r\n",
       "<polygon fill=\"#0000ff\" stroke=\"#0000ff\" points=\"752.896,-1066.4 749.006,-1056.55 745.902,-1066.68 752.896,-1066.4\"/>\r\n",
       "<text text-anchor=\"middle\" x=\"784.5\" y=\"-1078.13\" font-family=\"Times New Roman,serif\" font-size=\"14.00\">yes, missing</text>\r\n",
       "</g>\r\n",
       "<!-- 8 -->\r\n",
       "<g id=\"node9\" class=\"node\"><title>8</title>\r\n",
       "<ellipse fill=\"none\" stroke=\"black\" cx=\"971\" cy=\"-953.637\" rx=\"102.882\" ry=\"102.882\"/>\r\n",
       "<text text-anchor=\"middle\" x=\"971\" y=\"-949.937\" font-family=\"Times New Roman,serif\" font-size=\"14.00\">ApplicantIncome&lt;1612.5</text>\r\n",
       "</g>\r\n",
       "<!-- 4&#45;&gt;8 -->\r\n",
       "<g id=\"edge8\" class=\"edge\"><title>4&#45;&gt;8</title>\r\n",
       "<path fill=\"none\" stroke=\"#ff0000\" d=\"M807.288,-1147.44C834.565,-1115.31 868.373,-1075.5 898.171,-1040.41\"/>\r\n",
       "<polygon fill=\"#ff0000\" stroke=\"#ff0000\" points=\"901.054,-1042.42 904.858,-1032.53 895.718,-1037.89 901.054,-1042.42\"/>\r\n",
       "<text text-anchor=\"middle\" x=\"876.5\" y=\"-1078.13\" font-family=\"Times New Roman,serif\" font-size=\"14.00\">no</text>\r\n",
       "</g>\r\n",
       "<!-- 9 -->\r\n",
       "<g id=\"node10\" class=\"node\"><title>9</title>\r\n",
       "<ellipse fill=\"none\" stroke=\"black\" cx=\"439\" cy=\"-703.754\" rx=\"87.1846\" ry=\"87.1846\"/>\r\n",
       "<text text-anchor=\"middle\" x=\"439\" y=\"-700.054\" font-family=\"Times New Roman,serif\" font-size=\"14.00\">TotalIncome&lt;3606.5</text>\r\n",
       "</g>\r\n",
       "<!-- 7&#45;&gt;9 -->\r\n",
       "<g id=\"edge9\" class=\"edge\"><title>7&#45;&gt;9</title>\r\n",
       "<path fill=\"none\" stroke=\"#0000ff\" d=\"M665.683,-888.04C650.525,-875.715 634.778,-862.925 620,-850.946 585.432,-822.925 547.097,-791.948 514.639,-765.749\"/>\r\n",
       "<polygon fill=\"#0000ff\" stroke=\"#0000ff\" points=\"516.499,-762.752 506.519,-759.195 512.103,-768.199 516.499,-762.752\"/>\r\n",
       "<text text-anchor=\"middle\" x=\"629.5\" y=\"-821.746\" font-family=\"Times New Roman,serif\" font-size=\"14.00\">yes, missing</text>\r\n",
       "</g>\r\n",
       "<!-- 10 -->\r\n",
       "<g id=\"node11\" class=\"node\"><title>10</title>\r\n",
       "<ellipse fill=\"none\" stroke=\"black\" cx=\"745\" cy=\"-703.754\" rx=\"70.3881\" ry=\"70.3881\"/>\r\n",
       "<text text-anchor=\"middle\" x=\"745\" y=\"-700.054\" font-family=\"Times New Roman,serif\" font-size=\"14.00\">Dependents&lt;3.5</text>\r\n",
       "</g>\r\n",
       "<!-- 7&#45;&gt;10 -->\r\n",
       "<g id=\"edge10\" class=\"edge\"><title>7&#45;&gt;10</title>\r\n",
       "<path fill=\"none\" stroke=\"#ff0000\" d=\"M745,-850.74C745,-828.592 745,-805.474 745,-784.338\"/>\r\n",
       "<polygon fill=\"#ff0000\" stroke=\"#ff0000\" points=\"748.5,-784.135 745,-774.135 741.5,-784.135 748.5,-784.135\"/>\r\n",
       "<text text-anchor=\"middle\" x=\"752.5\" y=\"-821.746\" font-family=\"Times New Roman,serif\" font-size=\"14.00\">no</text>\r\n",
       "</g>\r\n",
       "<!-- 11 -->\r\n",
       "<g id=\"node28\" class=\"node\"><title>11</title>\r\n",
       "<polygon fill=\"none\" stroke=\"black\" points=\"1021,-721.754 921,-721.754 921,-685.754 1021,-685.754 1021,-721.754\"/>\r\n",
       "<text text-anchor=\"middle\" x=\"971\" y=\"-700.054\" font-family=\"Times New Roman,serif\" font-size=\"14.00\">leaf=&#45;0.055826</text>\r\n",
       "</g>\r\n",
       "<!-- 8&#45;&gt;11 -->\r\n",
       "<g id=\"edge27\" class=\"edge\"><title>8&#45;&gt;11</title>\r\n",
       "<path fill=\"none\" stroke=\"#0000ff\" d=\"M971,-850.74C971,-807.64 971,-760.865 971,-732.177\"/>\r\n",
       "<polygon fill=\"#0000ff\" stroke=\"#0000ff\" points=\"974.5,-732.113 971,-722.113 967.5,-732.113 974.5,-732.113\"/>\r\n",
       "<text text-anchor=\"middle\" x=\"1005.5\" y=\"-821.746\" font-family=\"Times New Roman,serif\" font-size=\"14.00\">yes, missing</text>\r\n",
       "</g>\r\n",
       "<!-- 12 -->\r\n",
       "<g id=\"node29\" class=\"node\"><title>12</title>\r\n",
       "<ellipse fill=\"none\" stroke=\"black\" cx=\"1142\" cy=\"-703.754\" rx=\"96.3833\" ry=\"96.3833\"/>\r\n",
       "<text text-anchor=\"middle\" x=\"1142\" y=\"-700.054\" font-family=\"Times New Roman,serif\" font-size=\"14.00\">ApplicantIncome&lt;3562</text>\r\n",
       "</g>\r\n",
       "<!-- 8&#45;&gt;12 -->\r\n",
       "<g id=\"edge28\" class=\"edge\"><title>8&#45;&gt;12</title>\r\n",
       "<path fill=\"none\" stroke=\"#ff0000\" d=\"M1028.89,-868.715C1045.95,-843.982 1064.66,-816.867 1081.86,-791.934\"/>\r\n",
       "<polygon fill=\"#ff0000\" stroke=\"#ff0000\" points=\"1084.83,-793.788 1087.63,-783.569 1079.07,-789.813 1084.83,-793.788\"/>\r\n",
       "<text text-anchor=\"middle\" x=\"1068.5\" y=\"-821.746\" font-family=\"Times New Roman,serif\" font-size=\"14.00\">no</text>\r\n",
       "</g>\r\n",
       "<!-- 13 -->\r\n",
       "<g id=\"node12\" class=\"node\"><title>13</title>\r\n",
       "<ellipse fill=\"none\" stroke=\"black\" cx=\"174\" cy=\"-451.922\" rx=\"87.1846\" ry=\"87.1846\"/>\r\n",
       "<text text-anchor=\"middle\" x=\"174\" y=\"-448.222\" font-family=\"Times New Roman,serif\" font-size=\"14.00\">TotalIncome&lt;3172.5</text>\r\n",
       "</g>\r\n",
       "<!-- 9&#45;&gt;13 -->\r\n",
       "<g id=\"edge11\" class=\"edge\"><title>9&#45;&gt;13</title>\r\n",
       "<path fill=\"none\" stroke=\"#0000ff\" d=\"M375.863,-643.231C336.374,-606.002 285.439,-557.982 244.613,-519.493\"/>\r\n",
       "<polygon fill=\"#0000ff\" stroke=\"#0000ff\" points=\"246.79,-516.735 237.112,-512.422 241.988,-521.829 246.79,-516.735\"/>\r\n",
       "<text text-anchor=\"middle\" x=\"349.5\" y=\"-578.363\" font-family=\"Times New Roman,serif\" font-size=\"14.00\">yes, missing</text>\r\n",
       "</g>\r\n",
       "<!-- 14 -->\r\n",
       "<g id=\"node13\" class=\"node\"><title>14</title>\r\n",
       "<ellipse fill=\"none\" stroke=\"black\" cx=\"439\" cy=\"-451.922\" rx=\"83.6854\" ry=\"83.6854\"/>\r\n",
       "<text text-anchor=\"middle\" x=\"439\" y=\"-448.222\" font-family=\"Times New Roman,serif\" font-size=\"14.00\">LoanAmount&lt;158.5</text>\r\n",
       "</g>\r\n",
       "<!-- 9&#45;&gt;14 -->\r\n",
       "<g id=\"edge12\" class=\"edge\"><title>9&#45;&gt;14</title>\r\n",
       "<path fill=\"none\" stroke=\"#ff0000\" d=\"M439,-616.426C439,-593.697 439,-569.078 439,-546.011\"/>\r\n",
       "<polygon fill=\"#ff0000\" stroke=\"#ff0000\" points=\"442.5,-545.883 439,-535.883 435.5,-545.883 442.5,-545.883\"/>\r\n",
       "<text text-anchor=\"middle\" x=\"446.5\" y=\"-578.363\" font-family=\"Times New Roman,serif\" font-size=\"14.00\">no</text>\r\n",
       "</g>\r\n",
       "<!-- 15 -->\r\n",
       "<g id=\"node20\" class=\"node\"><title>15</title>\r\n",
       "<ellipse fill=\"none\" stroke=\"black\" cx=\"705\" cy=\"-451.922\" rx=\"100.983\" ry=\"100.983\"/>\r\n",
       "<text text-anchor=\"middle\" x=\"705\" y=\"-448.222\" font-family=\"Times New Roman,serif\" font-size=\"14.00\">CoapplicantIncome&lt;500</text>\r\n",
       "</g>\r\n",
       "<!-- 10&#45;&gt;15 -->\r\n",
       "<g id=\"edge19\" class=\"edge\"><title>10&#45;&gt;15</title>\r\n",
       "<path fill=\"none\" stroke=\"#0000ff\" d=\"M734.017,-634.156C730.439,-611.811 726.375,-586.425 722.444,-561.875\"/>\r\n",
       "<polygon fill=\"#0000ff\" stroke=\"#0000ff\" points=\"725.866,-561.107 720.829,-551.786 718.954,-562.213 725.866,-561.107\"/>\r\n",
       "<text text-anchor=\"middle\" x=\"760.5\" y=\"-578.363\" font-family=\"Times New Roman,serif\" font-size=\"14.00\">yes, missing</text>\r\n",
       "</g>\r\n",
       "<!-- 16 -->\r\n",
       "<g id=\"node21\" class=\"node\"><title>16</title>\r\n",
       "<polygon fill=\"none\" stroke=\"black\" points=\"926,-469.922 824,-469.922 824,-433.922 926,-433.922 926,-469.922\"/>\r\n",
       "<text text-anchor=\"middle\" x=\"875\" y=\"-448.222\" font-family=\"Times New Roman,serif\" font-size=\"14.00\">leaf=0.0570302</text>\r\n",
       "</g>\r\n",
       "<!-- 10&#45;&gt;16 -->\r\n",
       "<g id=\"edge20\" class=\"edge\"><title>10&#45;&gt;16</title>\r\n",
       "<path fill=\"none\" stroke=\"#ff0000\" d=\"M777.135,-640.998C804.237,-588.914 841.684,-516.949 861.477,-478.911\"/>\r\n",
       "<polygon fill=\"#ff0000\" stroke=\"#ff0000\" points=\"864.601,-480.49 866.112,-470.003 858.391,-477.259 864.601,-480.49\"/>\r\n",
       "<text text-anchor=\"middle\" x=\"817.5\" y=\"-578.363\" font-family=\"Times New Roman,serif\" font-size=\"14.00\">no</text>\r\n",
       "</g>\r\n",
       "<!-- 19 -->\r\n",
       "<g id=\"node14\" class=\"node\"><title>19</title>\r\n",
       "<polygon fill=\"none\" stroke=\"black\" points=\"102,-209.641 0,-209.641 0,-173.641 102,-173.641 102,-209.641\"/>\r\n",
       "<text text-anchor=\"middle\" x=\"51\" y=\"-187.941\" font-family=\"Times New Roman,serif\" font-size=\"14.00\">leaf=0.0191561</text>\r\n",
       "</g>\r\n",
       "<!-- 13&#45;&gt;19 -->\r\n",
       "<g id=\"edge13\" class=\"edge\"><title>13&#45;&gt;19</title>\r\n",
       "<path fill=\"none\" stroke=\"#0000ff\" d=\"M127.303,-378.184C118.016,-362.367 108.75,-345.505 101,-329.281 83.4278,-292.497 68.1404,-247.788 59.2404,-219.765\"/>\r\n",
       "<polygon fill=\"#0000ff\" stroke=\"#0000ff\" points=\"62.4779,-218.391 56.1507,-209.893 55.7974,-220.482 62.4779,-218.391\"/>\r\n",
       "<text text-anchor=\"middle\" x=\"135.5\" y=\"-318.081\" font-family=\"Times New Roman,serif\" font-size=\"14.00\">yes, missing</text>\r\n",
       "</g>\r\n",
       "<!-- 20 -->\r\n",
       "<g id=\"node15\" class=\"node\"><title>20</title>\r\n",
       "<polygon fill=\"none\" stroke=\"black\" points=\"227.5,-209.641 120.5,-209.641 120.5,-173.641 227.5,-173.641 227.5,-209.641\"/>\r\n",
       "<text text-anchor=\"middle\" x=\"174\" y=\"-187.941\" font-family=\"Times New Roman,serif\" font-size=\"14.00\">leaf=&#45;0.0699963</text>\r\n",
       "</g>\r\n",
       "<!-- 13&#45;&gt;20 -->\r\n",
       "<g id=\"edge14\" class=\"edge\"><title>13&#45;&gt;20</title>\r\n",
       "<path fill=\"none\" stroke=\"#ff0000\" d=\"M174,-364.559C174,-314.275 174,-254.235 174,-220.06\"/>\r\n",
       "<polygon fill=\"#ff0000\" stroke=\"#ff0000\" points=\"177.5,-219.918 174,-209.918 170.5,-219.918 177.5,-219.918\"/>\r\n",
       "<text text-anchor=\"middle\" x=\"181.5\" y=\"-318.081\" font-family=\"Times New Roman,serif\" font-size=\"14.00\">no</text>\r\n",
       "</g>\r\n",
       "<!-- 21 -->\r\n",
       "<g id=\"node16\" class=\"node\"><title>21</title>\r\n",
       "<ellipse fill=\"none\" stroke=\"black\" cx=\"348\" cy=\"-191.641\" rx=\"102.882\" ry=\"102.882\"/>\r\n",
       "<text text-anchor=\"middle\" x=\"348\" y=\"-187.941\" font-family=\"Times New Roman,serif\" font-size=\"14.00\">ApplicantIncome&lt;1905.5</text>\r\n",
       "</g>\r\n",
       "<!-- 14&#45;&gt;21 -->\r\n",
       "<g id=\"edge15\" class=\"edge\"><title>14&#45;&gt;21</title>\r\n",
       "<path fill=\"none\" stroke=\"#0000ff\" d=\"M411.45,-372.728C403.193,-349.294 393.997,-323.193 385.226,-298.298\"/>\r\n",
       "<polygon fill=\"#0000ff\" stroke=\"#0000ff\" points=\"388.512,-297.092 381.888,-288.824 381.91,-299.419 388.512,-297.092\"/>\r\n",
       "<text text-anchor=\"middle\" x=\"428.5\" y=\"-318.081\" font-family=\"Times New Roman,serif\" font-size=\"14.00\">yes, missing</text>\r\n",
       "</g>\r\n",
       "<!-- 22 -->\r\n",
       "<g id=\"node17\" class=\"node\"><title>22</title>\r\n",
       "<polygon fill=\"none\" stroke=\"black\" points=\"581.5,-209.641 468.5,-209.641 468.5,-173.641 581.5,-173.641 581.5,-209.641\"/>\r\n",
       "<text text-anchor=\"middle\" x=\"525\" y=\"-187.941\" font-family=\"Times New Roman,serif\" font-size=\"14.00\">leaf=&#45;0.00974605</text>\r\n",
       "</g>\r\n",
       "<!-- 14&#45;&gt;22 -->\r\n",
       "<g id=\"edge16\" class=\"edge\"><title>14&#45;&gt;22</title>\r\n",
       "<path fill=\"none\" stroke=\"#ff0000\" d=\"M465.27,-372.026C482.579,-320.042 504.173,-255.19 516.079,-219.432\"/>\r\n",
       "<polygon fill=\"#ff0000\" stroke=\"#ff0000\" points=\"519.47,-220.328 519.308,-209.734 512.828,-218.116 519.47,-220.328\"/>\r\n",
       "<text text-anchor=\"middle\" x=\"492.5\" y=\"-318.081\" font-family=\"Times New Roman,serif\" font-size=\"14.00\">no</text>\r\n",
       "</g>\r\n",
       "<!-- 29 -->\r\n",
       "<g id=\"node18\" class=\"node\"><title>29</title>\r\n",
       "<polygon fill=\"none\" stroke=\"black\" points=\"325,-36 223,-36 223,-0 325,-0 325,-36\"/>\r\n",
       "<text text-anchor=\"middle\" x=\"274\" y=\"-14.3\" font-family=\"Times New Roman,serif\" font-size=\"14.00\">leaf=0.0104353</text>\r\n",
       "</g>\r\n",
       "<!-- 21&#45;&gt;29 -->\r\n",
       "<g id=\"edge17\" class=\"edge\"><title>21&#45;&gt;29</title>\r\n",
       "<path fill=\"none\" stroke=\"#0000ff\" d=\"M307.644,-97.0357C299.534,-78.2246 291.64,-59.9164 285.54,-45.7665\"/>\r\n",
       "<polygon fill=\"#0000ff\" stroke=\"#0000ff\" points=\"288.61,-44.0475 281.437,-36.2503 282.182,-46.8189 288.61,-44.0475\"/>\r\n",
       "<text text-anchor=\"middle\" x=\"328.5\" y=\"-57.8\" font-family=\"Times New Roman,serif\" font-size=\"14.00\">yes, missing</text>\r\n",
       "</g>\r\n",
       "<!-- 30 -->\r\n",
       "<g id=\"node19\" class=\"node\"><title>30</title>\r\n",
       "<polygon fill=\"none\" stroke=\"black\" points=\"445,-36 343,-36 343,-0 445,-0 445,-36\"/>\r\n",
       "<text text-anchor=\"middle\" x=\"394\" y=\"-14.3\" font-family=\"Times New Roman,serif\" font-size=\"14.00\">leaf=0.0691497</text>\r\n",
       "</g>\r\n",
       "<!-- 21&#45;&gt;30 -->\r\n",
       "<g id=\"edge18\" class=\"edge\"><title>21&#45;&gt;30</title>\r\n",
       "<path fill=\"none\" stroke=\"#ff0000\" d=\"M374.358,-92.289C378.906,-75.3187 383.276,-59.0165 386.733,-46.1141\"/>\r\n",
       "<polygon fill=\"#ff0000\" stroke=\"#ff0000\" points=\"390.2,-46.7009 389.408,-36.1357 383.438,-44.8888 390.2,-46.7009\"/>\r\n",
       "<text text-anchor=\"middle\" x=\"392.5\" y=\"-57.8\" font-family=\"Times New Roman,serif\" font-size=\"14.00\">no</text>\r\n",
       "</g>\r\n",
       "<!-- 23 -->\r\n",
       "<g id=\"node22\" class=\"node\"><title>23</title>\r\n",
       "<ellipse fill=\"none\" stroke=\"black\" cx=\"683\" cy=\"-191.641\" rx=\"83.6854\" ry=\"83.6854\"/>\r\n",
       "<text text-anchor=\"middle\" x=\"683\" y=\"-187.941\" font-family=\"Times New Roman,serif\" font-size=\"14.00\">LoanAmount&lt;134.5</text>\r\n",
       "</g>\r\n",
       "<!-- 15&#45;&gt;23 -->\r\n",
       "<g id=\"edge21\" class=\"edge\"><title>15&#45;&gt;23</title>\r\n",
       "<path fill=\"none\" stroke=\"#0000ff\" d=\"M696.526,-351.433C694.676,-329.719 692.726,-306.823 690.9,-285.384\"/>\r\n",
       "<polygon fill=\"#0000ff\" stroke=\"#0000ff\" points=\"694.378,-284.985 690.042,-275.318 687.404,-285.579 694.378,-284.985\"/>\r\n",
       "<text text-anchor=\"middle\" x=\"728.5\" y=\"-318.081\" font-family=\"Times New Roman,serif\" font-size=\"14.00\">yes, missing</text>\r\n",
       "</g>\r\n",
       "<!-- 24 -->\r\n",
       "<g id=\"node23\" class=\"node\"><title>24</title>\r\n",
       "<ellipse fill=\"none\" stroke=\"black\" cx=\"889\" cy=\"-191.641\" rx=\"104.782\" ry=\"104.782\"/>\r\n",
       "<text text-anchor=\"middle\" x=\"889\" y=\"-187.941\" font-family=\"Times New Roman,serif\" font-size=\"14.00\">CoapplicantIncome&lt;2618</text>\r\n",
       "</g>\r\n",
       "<!-- 15&#45;&gt;24 -->\r\n",
       "<g id=\"edge22\" class=\"edge\"><title>15&#45;&gt;24</title>\r\n",
       "<path fill=\"none\" stroke=\"#ff0000\" d=\"M763.219,-369.2C782.111,-342.681 803.21,-313.064 822.649,-285.778\"/>\r\n",
       "<polygon fill=\"#ff0000\" stroke=\"#ff0000\" points=\"825.672,-287.566 828.624,-277.391 819.971,-283.504 825.672,-287.566\"/>\r\n",
       "<text text-anchor=\"middle\" x=\"809.5\" y=\"-318.081\" font-family=\"Times New Roman,serif\" font-size=\"14.00\">no</text>\r\n",
       "</g>\r\n",
       "<!-- 31 -->\r\n",
       "<g id=\"node24\" class=\"node\"><title>31</title>\r\n",
       "<polygon fill=\"none\" stroke=\"black\" points=\"622.5,-36 515.5,-36 515.5,-0 622.5,-0 622.5,-36\"/>\r\n",
       "<text text-anchor=\"middle\" x=\"569\" y=\"-14.3\" font-family=\"Times New Roman,serif\" font-size=\"14.00\">leaf=&#45;0.0444297</text>\r\n",
       "</g>\r\n",
       "<!-- 23&#45;&gt;31 -->\r\n",
       "<g id=\"edge23\" class=\"edge\"><title>23&#45;&gt;31</title>\r\n",
       "<path fill=\"none\" stroke=\"#0000ff\" d=\"M636.96,-121.323C618.981,-94.253 599.49,-64.907 586.012,-44.6129\"/>\r\n",
       "<polygon fill=\"#0000ff\" stroke=\"#0000ff\" points=\"588.895,-42.6284 580.447,-36.2348 583.064,-46.5013 588.895,-42.6284\"/>\r\n",
       "<text text-anchor=\"middle\" x=\"633.5\" y=\"-57.8\" font-family=\"Times New Roman,serif\" font-size=\"14.00\">yes, missing</text>\r\n",
       "</g>\r\n",
       "<!-- 32 -->\r\n",
       "<g id=\"node25\" class=\"node\"><title>32</title>\r\n",
       "<polygon fill=\"none\" stroke=\"black\" points=\"743,-36 641,-36 641,-0 743,-0 743,-36\"/>\r\n",
       "<text text-anchor=\"middle\" x=\"692\" y=\"-14.3\" font-family=\"Times New Roman,serif\" font-size=\"14.00\">leaf=0.0403596</text>\r\n",
       "</g>\r\n",
       "<!-- 23&#45;&gt;32 -->\r\n",
       "<g id=\"edge24\" class=\"edge\"><title>23&#45;&gt;32</title>\r\n",
       "<path fill=\"none\" stroke=\"#ff0000\" d=\"M687.342,-107.837C688.507,-85.6151 689.686,-63.1233 690.567,-46.3309\"/>\r\n",
       "<polygon fill=\"#ff0000\" stroke=\"#ff0000\" points=\"694.071,-46.3486 691.099,-36.179 687.08,-45.982 694.071,-46.3486\"/>\r\n",
       "<text text-anchor=\"middle\" x=\"697.5\" y=\"-57.8\" font-family=\"Times New Roman,serif\" font-size=\"14.00\">no</text>\r\n",
       "</g>\r\n",
       "<!-- 33 -->\r\n",
       "<g id=\"node26\" class=\"node\"><title>33</title>\r\n",
       "<polygon fill=\"none\" stroke=\"black\" points=\"883.5,-36 776.5,-36 776.5,-0 883.5,-0 883.5,-36\"/>\r\n",
       "<text text-anchor=\"middle\" x=\"830\" y=\"-14.3\" font-family=\"Times New Roman,serif\" font-size=\"14.00\">leaf=&#45;0.0648806</text>\r\n",
       "</g>\r\n",
       "<!-- 24&#45;&gt;33 -->\r\n",
       "<g id=\"edge25\" class=\"edge\"><title>24&#45;&gt;33</title>\r\n",
       "<path fill=\"none\" stroke=\"#0000ff\" d=\"M855.192,-92.289C849.301,-75.149 843.643,-58.6906 839.188,-45.7281\"/>\r\n",
       "<polygon fill=\"#0000ff\" stroke=\"#0000ff\" points=\"842.451,-44.4549 835.89,-36.1357 835.831,-46.7304 842.451,-44.4549\"/>\r\n",
       "<text text-anchor=\"middle\" x=\"879.5\" y=\"-57.8\" font-family=\"Times New Roman,serif\" font-size=\"14.00\">yes, missing</text>\r\n",
       "</g>\r\n",
       "<!-- 34 -->\r\n",
       "<g id=\"node27\" class=\"node\"><title>34</title>\r\n",
       "<polygon fill=\"none\" stroke=\"black\" points=\"1014.5,-36 901.5,-36 901.5,-0 1014.5,-0 1014.5,-36\"/>\r\n",
       "<text text-anchor=\"middle\" x=\"958\" y=\"-14.3\" font-family=\"Times New Roman,serif\" font-size=\"14.00\">leaf=&#45;0.00705123</text>\r\n",
       "</g>\r\n",
       "<!-- 24&#45;&gt;34 -->\r\n",
       "<g id=\"edge26\" class=\"edge\"><title>24&#45;&gt;34</title>\r\n",
       "<path fill=\"none\" stroke=\"#ff0000\" d=\"M927.736,-94.2841C934.933,-76.3812 941.88,-59.0994 947.299,-45.6187\"/>\r\n",
       "<polygon fill=\"#ff0000\" stroke=\"#ff0000\" points=\"950.642,-46.6874 951.124,-36.1036 944.147,-44.0765 950.642,-46.6874\"/>\r\n",
       "<text text-anchor=\"middle\" x=\"950.5\" y=\"-57.8\" font-family=\"Times New Roman,serif\" font-size=\"14.00\">no</text>\r\n",
       "</g>\r\n",
       "<!-- 17 -->\r\n",
       "<g id=\"node30\" class=\"node\"><title>17</title>\r\n",
       "<ellipse fill=\"none\" stroke=\"black\" cx=\"1142\" cy=\"-451.922\" rx=\"104.782\" ry=\"104.782\"/>\r\n",
       "<text text-anchor=\"middle\" x=\"1142\" y=\"-448.222\" font-family=\"Times New Roman,serif\" font-size=\"14.00\">CoapplicantIncome&lt;5576</text>\r\n",
       "</g>\r\n",
       "<!-- 12&#45;&gt;17 -->\r\n",
       "<g id=\"edge29\" class=\"edge\"><title>12&#45;&gt;17</title>\r\n",
       "<path fill=\"none\" stroke=\"#0000ff\" d=\"M1142,-607.234C1142,-594.062 1142,-580.427 1142,-566.962\"/>\r\n",
       "<polygon fill=\"#0000ff\" stroke=\"#0000ff\" points=\"1145.5,-566.709 1142,-556.709 1138.5,-566.709 1145.5,-566.709\"/>\r\n",
       "<text text-anchor=\"middle\" x=\"1176.5\" y=\"-578.363\" font-family=\"Times New Roman,serif\" font-size=\"14.00\">yes, missing</text>\r\n",
       "</g>\r\n",
       "<!-- 18 -->\r\n",
       "<g id=\"node31\" class=\"node\"><title>18</title>\r\n",
       "<ellipse fill=\"none\" stroke=\"black\" cx=\"1411\" cy=\"-451.922\" rx=\"87.1846\" ry=\"87.1846\"/>\r\n",
       "<text text-anchor=\"middle\" x=\"1411\" y=\"-448.222\" font-family=\"Times New Roman,serif\" font-size=\"14.00\">TotalIncome&lt;6829.5</text>\r\n",
       "</g>\r\n",
       "<!-- 12&#45;&gt;18 -->\r\n",
       "<g id=\"edge30\" class=\"edge\"><title>12&#45;&gt;18</title>\r\n",
       "<path fill=\"none\" stroke=\"#ff0000\" d=\"M1212.33,-637.44C1251.58,-600.98 1300.37,-555.671 1339.77,-519.076\"/>\r\n",
       "<polygon fill=\"#ff0000\" stroke=\"#ff0000\" points=\"1342.57,-521.248 1347.52,-511.879 1337.81,-516.119 1342.57,-521.248\"/>\r\n",
       "<text text-anchor=\"middle\" x=\"1283.5\" y=\"-578.363\" font-family=\"Times New Roman,serif\" font-size=\"14.00\">no</text>\r\n",
       "</g>\r\n",
       "<!-- 25 -->\r\n",
       "<g id=\"node32\" class=\"node\"><title>25</title>\r\n",
       "<ellipse fill=\"none\" stroke=\"black\" cx=\"1097\" cy=\"-191.641\" rx=\"85.2851\" ry=\"85.2851\"/>\r\n",
       "<text text-anchor=\"middle\" x=\"1097\" y=\"-187.941\" font-family=\"Times New Roman,serif\" font-size=\"14.00\">AmountxTerm&lt;0.46</text>\r\n",
       "</g>\r\n",
       "<!-- 17&#45;&gt;25 -->\r\n",
       "<g id=\"edge31\" class=\"edge\"><title>17&#45;&gt;25</title>\r\n",
       "<path fill=\"none\" stroke=\"#0000ff\" d=\"M1124.15,-348.472C1120.54,-327.774 1116.77,-306.121 1113.22,-285.765\"/>\r\n",
       "<polygon fill=\"#0000ff\" stroke=\"#0000ff\" points=\"1116.67,-285.137 1111.5,-275.887 1109.77,-286.339 1116.67,-285.137\"/>\r\n",
       "<text text-anchor=\"middle\" x=\"1153.5\" y=\"-318.081\" font-family=\"Times New Roman,serif\" font-size=\"14.00\">yes, missing</text>\r\n",
       "</g>\r\n",
       "<!-- 26 -->\r\n",
       "<g id=\"node33\" class=\"node\"><title>26</title>\r\n",
       "<polygon fill=\"none\" stroke=\"black\" points=\"1307.5,-209.641 1200.5,-209.641 1200.5,-173.641 1307.5,-173.641 1307.5,-209.641\"/>\r\n",
       "<text text-anchor=\"middle\" x=\"1254\" y=\"-187.941\" font-family=\"Times New Roman,serif\" font-size=\"14.00\">leaf=&#45;0.0314378</text>\r\n",
       "</g>\r\n",
       "<!-- 17&#45;&gt;26 -->\r\n",
       "<g id=\"edge32\" class=\"edge\"><title>17&#45;&gt;26</title>\r\n",
       "<path fill=\"none\" stroke=\"#ff0000\" d=\"M1183.39,-355.481C1204.42,-306.986 1228.4,-251.673 1242.31,-219.599\"/>\r\n",
       "<polygon fill=\"#ff0000\" stroke=\"#ff0000\" points=\"1245.69,-220.607 1246.45,-210.04 1239.27,-217.822 1245.69,-220.607\"/>\r\n",
       "<text text-anchor=\"middle\" x=\"1208.5\" y=\"-318.081\" font-family=\"Times New Roman,serif\" font-size=\"14.00\">no</text>\r\n",
       "</g>\r\n",
       "<!-- 27 -->\r\n",
       "<g id=\"node36\" class=\"node\"><title>27</title>\r\n",
       "<ellipse fill=\"none\" stroke=\"black\" cx=\"1411\" cy=\"-191.641\" rx=\"85.2851\" ry=\"85.2851\"/>\r\n",
       "<text text-anchor=\"middle\" x=\"1411\" y=\"-187.941\" font-family=\"Times New Roman,serif\" font-size=\"14.00\">AmountxTerm&lt;0.29</text>\r\n",
       "</g>\r\n",
       "<!-- 18&#45;&gt;27 -->\r\n",
       "<g id=\"edge35\" class=\"edge\"><title>18&#45;&gt;27</title>\r\n",
       "<path fill=\"none\" stroke=\"#0000ff\" d=\"M1411,-364.559C1411,-339.812 1411,-312.702 1411,-287.476\"/>\r\n",
       "<polygon fill=\"#0000ff\" stroke=\"#0000ff\" points=\"1414.5,-287.167 1411,-277.167 1407.5,-287.167 1414.5,-287.167\"/>\r\n",
       "<text text-anchor=\"middle\" x=\"1445.5\" y=\"-318.081\" font-family=\"Times New Roman,serif\" font-size=\"14.00\">yes, missing</text>\r\n",
       "</g>\r\n",
       "<!-- 28 -->\r\n",
       "<g id=\"node37\" class=\"node\"><title>28</title>\r\n",
       "<ellipse fill=\"none\" stroke=\"black\" cx=\"1610\" cy=\"-191.641\" rx=\"96.3833\" ry=\"96.3833\"/>\r\n",
       "<text text-anchor=\"middle\" x=\"1610\" y=\"-187.941\" font-family=\"Times New Roman,serif\" font-size=\"14.00\">ApplicantIncome&lt;4227</text>\r\n",
       "</g>\r\n",
       "<!-- 18&#45;&gt;28 -->\r\n",
       "<g id=\"edge36\" class=\"edge\"><title>18&#45;&gt;28</title>\r\n",
       "<path fill=\"none\" stroke=\"#ff0000\" d=\"M1463.81,-382.386C1488.86,-349.872 1519.01,-310.73 1545.42,-276.463\"/>\r\n",
       "<polygon fill=\"#ff0000\" stroke=\"#ff0000\" points=\"1548.36,-278.38 1551.69,-268.322 1542.81,-274.107 1548.36,-278.38\"/>\r\n",
       "<text text-anchor=\"middle\" x=\"1523.5\" y=\"-318.081\" font-family=\"Times New Roman,serif\" font-size=\"14.00\">no</text>\r\n",
       "</g>\r\n",
       "<!-- 35 -->\r\n",
       "<g id=\"node34\" class=\"node\"><title>35</title>\r\n",
       "<polygon fill=\"none\" stroke=\"black\" points=\"1143,-36 1041,-36 1041,-0 1143,-0 1143,-36\"/>\r\n",
       "<text text-anchor=\"middle\" x=\"1092\" y=\"-14.3\" font-family=\"Times New Roman,serif\" font-size=\"14.00\">leaf=0.0716776</text>\r\n",
       "</g>\r\n",
       "<!-- 25&#45;&gt;35 -->\r\n",
       "<g id=\"edge33\" class=\"edge\"><title>25&#45;&gt;35</title>\r\n",
       "<path fill=\"none\" stroke=\"#0000ff\" d=\"M1094.54,-106.329C1093.91,-84.6995 1093.28,-62.9423 1092.8,-46.5552\"/>\r\n",
       "<polygon fill=\"#0000ff\" stroke=\"#0000ff\" points=\"1096.29,-46.0295 1092.5,-36.1357 1089.29,-46.2334 1096.29,-46.0295\"/>\r\n",
       "<text text-anchor=\"middle\" x=\"1127.5\" y=\"-57.8\" font-family=\"Times New Roman,serif\" font-size=\"14.00\">yes, missing</text>\r\n",
       "</g>\r\n",
       "<!-- 36 -->\r\n",
       "<g id=\"node35\" class=\"node\"><title>36</title>\r\n",
       "<polygon fill=\"none\" stroke=\"black\" points=\"1217,-36 1161,-36 1161,-0 1217,-0 1217,-36\"/>\r\n",
       "<text text-anchor=\"middle\" x=\"1189\" y=\"-14.3\" font-family=\"Times New Roman,serif\" font-size=\"14.00\">leaf=&#45;0</text>\r\n",
       "</g>\r\n",
       "<!-- 25&#45;&gt;36 -->\r\n",
       "<g id=\"edge34\" class=\"edge\"><title>25&#45;&gt;36</title>\r\n",
       "<path fill=\"none\" stroke=\"#ff0000\" d=\"M1139.61,-117.86C1148.58,-101.899 1157.81,-84.9893 1166,-69 1169.86,-61.4665 1173.8,-53.1591 1177.31,-45.5155\"/>\r\n",
       "<polygon fill=\"#ff0000\" stroke=\"#ff0000\" points=\"1180.55,-46.851 1181.48,-36.2971 1174.17,-43.9669 1180.55,-46.851\"/>\r\n",
       "<text text-anchor=\"middle\" x=\"1180.5\" y=\"-57.8\" font-family=\"Times New Roman,serif\" font-size=\"14.00\">no</text>\r\n",
       "</g>\r\n",
       "<!-- 37 -->\r\n",
       "<g id=\"node38\" class=\"node\"><title>37</title>\r\n",
       "<polygon fill=\"none\" stroke=\"black\" points=\"1346.5,-36 1239.5,-36 1239.5,-0 1346.5,-0 1346.5,-36\"/>\r\n",
       "<text text-anchor=\"middle\" x=\"1293\" y=\"-14.3\" font-family=\"Times New Roman,serif\" font-size=\"14.00\">leaf=&#45;0.0446938</text>\r\n",
       "</g>\r\n",
       "<!-- 27&#45;&gt;37 -->\r\n",
       "<g id=\"edge37\" class=\"edge\"><title>27&#45;&gt;37</title>\r\n",
       "<path fill=\"none\" stroke=\"#0000ff\" d=\"M1363,-120.828C1344.44,-93.8247 1324.37,-64.6294 1310.5,-44.453\"/>\r\n",
       "<polygon fill=\"#0000ff\" stroke=\"#0000ff\" points=\"1313.32,-42.3823 1304.77,-36.1246 1307.55,-46.3479 1313.32,-42.3823\"/>\r\n",
       "<text text-anchor=\"middle\" x=\"1358.5\" y=\"-57.8\" font-family=\"Times New Roman,serif\" font-size=\"14.00\">yes, missing</text>\r\n",
       "</g>\r\n",
       "<!-- 38 -->\r\n",
       "<g id=\"node39\" class=\"node\"><title>38</title>\r\n",
       "<polygon fill=\"none\" stroke=\"black\" points=\"1467,-36 1365,-36 1365,-0 1467,-0 1467,-36\"/>\r\n",
       "<text text-anchor=\"middle\" x=\"1416\" y=\"-14.3\" font-family=\"Times New Roman,serif\" font-size=\"14.00\">leaf=0.0212409</text>\r\n",
       "</g>\r\n",
       "<!-- 27&#45;&gt;38 -->\r\n",
       "<g id=\"edge38\" class=\"edge\"><title>27&#45;&gt;38</title>\r\n",
       "<path fill=\"none\" stroke=\"#ff0000\" d=\"M1413.46,-106.329C1414.09,-84.6995 1414.72,-62.9423 1415.2,-46.5552\"/>\r\n",
       "<polygon fill=\"#ff0000\" stroke=\"#ff0000\" points=\"1418.71,-46.2334 1415.5,-36.1357 1411.71,-46.0295 1418.71,-46.2334\"/>\r\n",
       "<text text-anchor=\"middle\" x=\"1421.5\" y=\"-57.8\" font-family=\"Times New Roman,serif\" font-size=\"14.00\">no</text>\r\n",
       "</g>\r\n",
       "<!-- 39 -->\r\n",
       "<g id=\"node40\" class=\"node\"><title>39</title>\r\n",
       "<polygon fill=\"none\" stroke=\"black\" points=\"1630.5,-36 1523.5,-36 1523.5,-0 1630.5,-0 1630.5,-36\"/>\r\n",
       "<text text-anchor=\"middle\" x=\"1577\" y=\"-14.3\" font-family=\"Times New Roman,serif\" font-size=\"14.00\">leaf=&#45;0.0105031</text>\r\n",
       "</g>\r\n",
       "<!-- 28&#45;&gt;39 -->\r\n",
       "<g id=\"edge39\" class=\"edge\"><title>28&#45;&gt;39</title>\r\n",
       "<path fill=\"none\" stroke=\"#0000ff\" d=\"M1592,-97.0357C1588.42,-78.4072 1584.94,-60.272 1582.23,-46.1798\"/>\r\n",
       "<polygon fill=\"#0000ff\" stroke=\"#0000ff\" points=\"1585.64,-45.4096 1580.32,-36.2503 1578.77,-46.7312 1585.64,-45.4096\"/>\r\n",
       "<text text-anchor=\"middle\" x=\"1619.5\" y=\"-57.8\" font-family=\"Times New Roman,serif\" font-size=\"14.00\">yes, missing</text>\r\n",
       "</g>\r\n",
       "<!-- 40 -->\r\n",
       "<g id=\"node41\" class=\"node\"><title>40</title>\r\n",
       "<polygon fill=\"none\" stroke=\"black\" points=\"1751,-36 1649,-36 1649,-0 1751,-0 1751,-36\"/>\r\n",
       "<text text-anchor=\"middle\" x=\"1700\" y=\"-14.3\" font-family=\"Times New Roman,serif\" font-size=\"14.00\">leaf=0.0643948</text>\r\n",
       "</g>\r\n",
       "<!-- 28&#45;&gt;40 -->\r\n",
       "<g id=\"edge40\" class=\"edge\"><title>28&#45;&gt;40</title>\r\n",
       "<path fill=\"none\" stroke=\"#ff0000\" d=\"M1654.34,-106.077C1665.99,-83.8662 1677.69,-61.5427 1686.34,-45.0596\"/>\r\n",
       "<polygon fill=\"#ff0000\" stroke=\"#ff0000\" points=\"1689.5,-46.5563 1691.05,-36.0746 1683.3,-43.3056 1689.5,-46.5563\"/>\r\n",
       "<text text-anchor=\"middle\" x=\"1687.5\" y=\"-57.8\" font-family=\"Times New Roman,serif\" font-size=\"14.00\">no</text>\r\n",
       "</g>\r\n",
       "</g>\r\n",
       "</svg>\r\n"
      ],
      "text/plain": [
       "<graphviz.dot.Digraph at 0x253fbdb7e48>"
      ]
     },
     "execution_count": 82,
     "metadata": {},
     "output_type": "execute_result"
    }
   ],
   "source": [
    "# Podemos ver algunos de los arboles y ver la ganancia en Acuraccy\n",
    "xgb.to_graphviz(xg, num_trees=2)"
   ]
  },
  {
   "cell_type": "markdown",
   "metadata": {},
   "source": [
    "##### Una vez corrido el algoritmo evaluamos sobre el Test y lo mandamos al submmit"
   ]
  },
  {
   "cell_type": "code",
   "execution_count": 94,
   "metadata": {},
   "outputs": [
    {
     "data": {
      "text/html": [
       "<div>\n",
       "<style>\n",
       "    .dataframe thead tr:only-child th {\n",
       "        text-align: right;\n",
       "    }\n",
       "\n",
       "    .dataframe thead th {\n",
       "        text-align: left;\n",
       "    }\n",
       "\n",
       "    .dataframe tbody tr th {\n",
       "        vertical-align: top;\n",
       "    }\n",
       "</style>\n",
       "<table border=\"1\" class=\"dataframe\">\n",
       "  <thead>\n",
       "    <tr style=\"text-align: right;\">\n",
       "      <th></th>\n",
       "      <th>Loan_ID</th>\n",
       "      <th>Gender</th>\n",
       "      <th>Married</th>\n",
       "      <th>Dependents</th>\n",
       "      <th>Education</th>\n",
       "      <th>Self_Employed</th>\n",
       "      <th>ApplicantIncome</th>\n",
       "      <th>CoapplicantIncome</th>\n",
       "      <th>LoanAmount</th>\n",
       "      <th>Loan_Amount_Term</th>\n",
       "      <th>Credit_History</th>\n",
       "      <th>Property_Area</th>\n",
       "      <th>TotalIncome</th>\n",
       "      <th>LoanAmount_Log</th>\n",
       "      <th>AmountxTerm</th>\n",
       "    </tr>\n",
       "  </thead>\n",
       "  <tbody>\n",
       "    <tr>\n",
       "      <th>0</th>\n",
       "      <td>LP001015</td>\n",
       "      <td>2.0</td>\n",
       "      <td>2</td>\n",
       "      <td>1.0</td>\n",
       "      <td>1</td>\n",
       "      <td>1.0</td>\n",
       "      <td>5720</td>\n",
       "      <td>0</td>\n",
       "      <td>110.0</td>\n",
       "      <td>360.0</td>\n",
       "      <td>2.0</td>\n",
       "      <td>3</td>\n",
       "      <td>5720</td>\n",
       "      <td>4.7</td>\n",
       "      <td>0.31</td>\n",
       "    </tr>\n",
       "  </tbody>\n",
       "</table>\n",
       "</div>"
      ],
      "text/plain": [
       "    Loan_ID  Gender  Married  Dependents  Education  Self_Employed  \\\n",
       "0  LP001015     2.0        2         1.0          1            1.0   \n",
       "\n",
       "   ApplicantIncome  CoapplicantIncome  LoanAmount  Loan_Amount_Term  \\\n",
       "0             5720                  0       110.0             360.0   \n",
       "\n",
       "   Credit_History  Property_Area  TotalIncome  LoanAmount_Log  AmountxTerm  \n",
       "0             2.0              3         5720             4.7         0.31  "
      ]
     },
     "execution_count": 94,
     "metadata": {},
     "output_type": "execute_result"
    }
   ],
   "source": [
    "test_parametrica.head(1)"
   ]
  },
  {
   "cell_type": "code",
   "execution_count": 108,
   "metadata": {
    "collapsed": true
   },
   "outputs": [],
   "source": [
    "#Utilizamos el datatest para poder utilizarlo en todos los algoritmos\n",
    "df2 = test_parametrica.copy()\n",
    "df2=df2.drop('Loan_ID',axis=1)"
   ]
  },
  {
   "cell_type": "code",
   "execution_count": 112,
   "metadata": {},
   "outputs": [],
   "source": [
    "#Creamos una copia para no perder el dataset de test o validación ya imputado\n",
    "#df2 = df2.drop('Loan_ID', axis=1) # Le quitamos el ID para poder scorear o puntuar el modelo\n",
    "dpred=xgb.DMatrix(df2) # La convertimos a una matriz XGboost\n",
    "y_final = xg.predict(dpred) "
   ]
  },
  {
   "cell_type": "code",
   "execution_count": 115,
   "metadata": {},
   "outputs": [],
   "source": [
    "# Tenemos las probabilidades predichas por el algoritmo, hay que convertirlas en clases.\n",
    "for i in range(0,367): \n",
    "    if y_final[i]>0.5:       # setting threshold to .5 \n",
    "       y_final[i]=1 \n",
    "    else: \n",
    "       y_final[i]=0  "
   ]
  },
  {
   "cell_type": "code",
   "execution_count": 116,
   "metadata": {
    "collapsed": true
   },
   "outputs": [],
   "source": [
    "data = np.hstack((test_parametrica['Loan_ID'].values.reshape(-1,1), y_final.reshape(-1,1)))\n",
    "df_submmit = pd.DataFrame(data, columns=['Loan_ID','Loan_Status'])\n",
    "df_submmit['Loan_Status']=[\"Y\" if i == 1 else \"N\" for i in df_submmit['Loan_Status']]\n",
    "df_submmit.to_csv('Submmit_Xgboost.csv', index=False)"
   ]
  },
  {
   "cell_type": "markdown",
   "metadata": {},
   "source": [
    "### LightGBM"
   ]
  },
  {
   "cell_type": "code",
   "execution_count": 117,
   "metadata": {
    "collapsed": true
   },
   "outputs": [],
   "source": [
    "# Importamos la librería de LightGBM\n",
    "import lightgbm as lgb"
   ]
  },
  {
   "cell_type": "code",
   "execution_count": 123,
   "metadata": {},
   "outputs": [],
   "source": [
    "# Convertimos nuestra data de train y test en una matriz LightGBM\n",
    "train_data=lgb.Dataset(X_train,label=y_train)\n"
   ]
  },
  {
   "cell_type": "code",
   "execution_count": 124,
   "metadata": {},
   "outputs": [
    {
     "name": "stderr",
     "output_type": "stream",
     "text": [
      "C:\\Users\\Andre Chavez\\Anaconda3\\lib\\site-packages\\lightgbm\\engine.py:99: UserWarning: Found `num_trees` in params. Will use it instead of argument\n",
      "  warnings.warn(\"Found `{}` in params. Will use it instead of argument\".format(alias))\n"
     ]
    }
   ],
   "source": [
    "# Definimos los parámetros y ajustamos el algoritmos a la data\n",
    "params = {'num_leaves':31, 'num_trees':100, 'objective':'binary','metric':'auc'}\n",
    "LightGBM= lgb.train(params, train_data) "
   ]
  },
  {
   "cell_type": "code",
   "execution_count": 125,
   "metadata": {
    "collapsed": true
   },
   "outputs": [],
   "source": [
    "# Predecimos con el algoritmo entrenado sobre el test y evaluamos\n",
    "y_pred=LightGBM.predict(X_test)"
   ]
  },
  {
   "cell_type": "code",
   "execution_count": 127,
   "metadata": {},
   "outputs": [],
   "source": [
    "# Convertimos las probabilidades en clases\n",
    "for i in range(0,185):\n",
    "    if y_pred[i]>0.5: \n",
    "        y_pred[i]=1\n",
    "    else: \n",
    "        y_pred[i]=0"
   ]
  },
  {
   "cell_type": "code",
   "execution_count": 128,
   "metadata": {},
   "outputs": [
    {
     "name": "stdout",
     "output_type": "stream",
     "text": [
      "              precision    recall  f1-score   support\n",
      "\n",
      "           0       0.59      0.47      0.52        58\n",
      "           1       0.78      0.85      0.81       127\n",
      "\n",
      "   micro avg       0.73      0.73      0.73       185\n",
      "   macro avg       0.68      0.66      0.67       185\n",
      "weighted avg       0.72      0.73      0.72       185\n",
      "\n"
     ]
    }
   ],
   "source": [
    "# Obtenemos la matriz de confusión con las métricas anteriores\n",
    "from sklearn.metrics import classification_report\n",
    "print(classification_report(y_test, y_pred))"
   ]
  },
  {
   "cell_type": "code",
   "execution_count": 131,
   "metadata": {},
   "outputs": [],
   "source": [
    "# Predecimos y lo elevamos al submmit\n",
    "y_final = LightGBM.predict(df2) "
   ]
  },
  {
   "cell_type": "code",
   "execution_count": 132,
   "metadata": {
    "collapsed": true
   },
   "outputs": [],
   "source": [
    "#Creamos una copia para no perder el dataset de test o validación ya imputado\n",
    "# Predecimos sobre nuevos clientes o clientes sin la variable dependiente VD\n",
    "for i in range(0,367): \n",
    "    if y_final[i]>=.5:       # setting threshold to .5 \n",
    "       y_final[i]=1 \n",
    "    else: \n",
    "       y_final[i]=0  \n",
    "    \n",
    "data = np.hstack((test_parametrica['Loan_ID'].values.reshape(-1,1), y_final.reshape(-1,1)))\n",
    "df_submmit = pd.DataFrame(data, columns=['Loan_ID','Loan_Status'])\n",
    "df_submmit['Loan_Status']=[\"Y\" if i == 1 else \"N\" for i in df_submmit['Loan_Status']]\n",
    "df_submmit.to_csv('LightGBM.csv', index=False)"
   ]
  },
  {
   "cell_type": "markdown",
   "metadata": {},
   "source": [
    "### CatBoost"
   ]
  },
  {
   "cell_type": "code",
   "execution_count": 133,
   "metadata": {
    "collapsed": true
   },
   "outputs": [],
   "source": [
    "from catboost import CatBoostClassifier\n",
    "CatBoost=CatBoostClassifier(eval_metric=\"AUC\",one_hot_max_size=10,\n",
    "                            depth=3, iterations= 800, l2_leaf_reg= 2, \n",
    "                            learning_rate= 0.01)"
   ]
  },
  {
   "cell_type": "code",
   "execution_count": 135,
   "metadata": {},
   "outputs": [
    {
     "name": "stdout",
     "output_type": "stream",
     "text": [
      "0:\tlearn: 0.7051020\ttotal: 60.1ms\tremaining: 48s\n",
      "1:\tlearn: 0.7906751\ttotal: 68.1ms\tremaining: 27.2s\n",
      "2:\tlearn: 0.8227521\ttotal: 77.5ms\tremaining: 20.6s\n",
      "3:\tlearn: 0.8160299\ttotal: 86ms\tremaining: 17.1s\n",
      "4:\tlearn: 0.8109911\ttotal: 95.5ms\tremaining: 15.2s\n",
      "5:\tlearn: 0.8114507\ttotal: 104ms\tremaining: 13.8s\n",
      "6:\tlearn: 0.8204194\ttotal: 113ms\tremaining: 12.8s\n",
      "7:\tlearn: 0.8190980\ttotal: 121ms\tremaining: 11.9s\n",
      "8:\tlearn: 0.8221603\ttotal: 129ms\tremaining: 11.3s\n",
      "9:\tlearn: 0.8246481\ttotal: 137ms\tremaining: 10.8s\n",
      "10:\tlearn: 0.8347544\ttotal: 145ms\tremaining: 10.4s\n",
      "11:\tlearn: 0.8371962\ttotal: 153ms\tremaining: 10s\n",
      "12:\tlearn: 0.8397817\ttotal: 161ms\tremaining: 9.73s\n",
      "13:\tlearn: 0.8391669\ttotal: 169ms\tremaining: 9.46s\n",
      "14:\tlearn: 0.8384545\ttotal: 177ms\tremaining: 9.28s\n",
      "15:\tlearn: 0.8384545\ttotal: 184ms\tremaining: 9.01s\n",
      "16:\tlearn: 0.8433324\ttotal: 192ms\tremaining: 8.85s\n",
      "17:\tlearn: 0.8409308\ttotal: 200ms\tremaining: 8.68s\n",
      "18:\tlearn: 0.8374490\ttotal: 208ms\tremaining: 8.55s\n",
      "19:\tlearn: 0.8374490\ttotal: 214ms\tremaining: 8.33s\n",
      "20:\tlearn: 0.8364608\ttotal: 221ms\tremaining: 8.21s\n",
      "21:\tlearn: 0.8362712\ttotal: 229ms\tremaining: 8.1s\n",
      "22:\tlearn: 0.8353059\ttotal: 237ms\tremaining: 8s\n",
      "23:\tlearn: 0.8389601\ttotal: 245ms\tremaining: 7.91s\n",
      "24:\tlearn: 0.8422695\ttotal: 253ms\tremaining: 7.83s\n",
      "25:\tlearn: 0.8394197\ttotal: 263ms\tremaining: 7.82s\n",
      "26:\tlearn: 0.8404194\ttotal: 272ms\tremaining: 7.8s\n",
      "27:\tlearn: 0.8413962\ttotal: 280ms\tremaining: 7.73s\n",
      "28:\tlearn: 0.8409480\ttotal: 289ms\tremaining: 7.68s\n",
      "29:\tlearn: 0.8410859\ttotal: 300ms\tremaining: 7.7s\n",
      "30:\tlearn: 0.8387762\ttotal: 308ms\tremaining: 7.65s\n",
      "31:\tlearn: 0.8382936\ttotal: 316ms\tremaining: 7.59s\n",
      "32:\tlearn: 0.8380753\ttotal: 324ms\tremaining: 7.53s\n",
      "33:\tlearn: 0.8380753\ttotal: 330ms\tremaining: 7.43s\n",
      "34:\tlearn: 0.8383510\ttotal: 338ms\tremaining: 7.38s\n",
      "35:\tlearn: 0.8360643\ttotal: 346ms\tremaining: 7.34s\n",
      "36:\tlearn: 0.8368802\ttotal: 354ms\tremaining: 7.3s\n",
      "37:\tlearn: 0.8369377\ttotal: 363ms\tremaining: 7.29s\n",
      "38:\tlearn: 0.8392186\ttotal: 371ms\tremaining: 7.25s\n",
      "39:\tlearn: 0.8394025\ttotal: 379ms\tremaining: 7.21s\n",
      "40:\tlearn: 0.8392761\ttotal: 388ms\tremaining: 7.17s\n",
      "41:\tlearn: 0.8385751\ttotal: 395ms\tremaining: 7.13s\n",
      "42:\tlearn: 0.8382304\ttotal: 403ms\tremaining: 7.1s\n",
      "43:\tlearn: 0.8384372\ttotal: 411ms\tremaining: 7.07s\n",
      "44:\tlearn: 0.8375754\ttotal: 419ms\tremaining: 7.03s\n",
      "45:\tlearn: 0.8375754\ttotal: 425ms\tremaining: 6.97s\n",
      "46:\tlearn: 0.8375582\ttotal: 433ms\tremaining: 6.94s\n",
      "47:\tlearn: 0.8382361\ttotal: 441ms\tremaining: 6.9s\n",
      "48:\tlearn: 0.8382361\ttotal: 447ms\tremaining: 6.84s\n",
      "49:\tlearn: 0.8397415\ttotal: 455ms\tremaining: 6.82s\n",
      "50:\tlearn: 0.8407527\ttotal: 464ms\tremaining: 6.81s\n",
      "51:\tlearn: 0.8406952\ttotal: 472ms\tremaining: 6.79s\n",
      "52:\tlearn: 0.8406952\ttotal: 478ms\tremaining: 6.74s\n",
      "53:\tlearn: 0.8405343\ttotal: 488ms\tremaining: 6.74s\n",
      "54:\tlearn: 0.8406837\ttotal: 498ms\tremaining: 6.74s\n",
      "55:\tlearn: 0.8453605\ttotal: 505ms\tremaining: 6.71s\n",
      "56:\tlearn: 0.8443838\ttotal: 514ms\tremaining: 6.7s\n",
      "57:\tlearn: 0.8484861\ttotal: 522ms\tremaining: 6.68s\n",
      "58:\tlearn: 0.8484746\ttotal: 530ms\tremaining: 6.66s\n",
      "59:\tlearn: 0.8497845\ttotal: 538ms\tremaining: 6.63s\n",
      "60:\tlearn: 0.8496696\ttotal: 546ms\tremaining: 6.61s\n",
      "61:\tlearn: 0.8484056\ttotal: 554ms\tremaining: 6.59s\n",
      "62:\tlearn: 0.8491985\ttotal: 562ms\tremaining: 6.57s\n",
      "63:\tlearn: 0.8500029\ttotal: 569ms\tremaining: 6.55s\n",
      "64:\tlearn: 0.8495203\ttotal: 577ms\tremaining: 6.53s\n",
      "65:\tlearn: 0.8507268\ttotal: 586ms\tremaining: 6.51s\n",
      "66:\tlearn: 0.8515542\ttotal: 593ms\tremaining: 6.49s\n",
      "67:\tlearn: 0.8552198\ttotal: 601ms\tremaining: 6.47s\n",
      "68:\tlearn: 0.8556105\ttotal: 609ms\tremaining: 6.45s\n",
      "69:\tlearn: 0.8548635\ttotal: 617ms\tremaining: 6.43s\n",
      "70:\tlearn: 0.8548635\ttotal: 622ms\tremaining: 6.39s\n",
      "71:\tlearn: 0.8549899\ttotal: 630ms\tremaining: 6.37s\n",
      "72:\tlearn: 0.8545303\ttotal: 638ms\tremaining: 6.35s\n",
      "73:\tlearn: 0.8543522\ttotal: 646ms\tremaining: 6.34s\n",
      "74:\tlearn: 0.8543867\ttotal: 654ms\tremaining: 6.32s\n",
      "75:\tlearn: 0.8543177\ttotal: 664ms\tremaining: 6.32s\n",
      "76:\tlearn: 0.8534214\ttotal: 672ms\tremaining: 6.31s\n",
      "77:\tlearn: 0.8531227\ttotal: 682ms\tremaining: 6.32s\n",
      "78:\tlearn: 0.8530652\ttotal: 693ms\tremaining: 6.32s\n",
      "79:\tlearn: 0.8527205\ttotal: 702ms\tremaining: 6.31s\n",
      "80:\tlearn: 0.8530997\ttotal: 711ms\tremaining: 6.31s\n",
      "81:\tlearn: 0.8531571\ttotal: 720ms\tremaining: 6.3s\n",
      "82:\tlearn: 0.8539270\ttotal: 728ms\tremaining: 6.29s\n",
      "83:\tlearn: 0.8535823\ttotal: 736ms\tremaining: 6.27s\n",
      "84:\tlearn: 0.8535938\ttotal: 744ms\tremaining: 6.26s\n",
      "85:\tlearn: 0.8534904\ttotal: 752ms\tremaining: 6.24s\n",
      "86:\tlearn: 0.8527090\ttotal: 760ms\tremaining: 6.23s\n",
      "87:\tlearn: 0.8532950\ttotal: 767ms\tremaining: 6.21s\n",
      "88:\tlearn: 0.8536742\ttotal: 775ms\tremaining: 6.19s\n",
      "89:\tlearn: 0.8538811\ttotal: 783ms\tremaining: 6.18s\n",
      "90:\tlearn: 0.8538811\ttotal: 789ms\tremaining: 6.14s\n",
      "91:\tlearn: 0.8536512\ttotal: 796ms\tremaining: 6.13s\n",
      "92:\tlearn: 0.8544556\ttotal: 805ms\tremaining: 6.12s\n",
      "93:\tlearn: 0.8545590\ttotal: 814ms\tremaining: 6.11s\n",
      "94:\tlearn: 0.8547544\ttotal: 822ms\tremaining: 6.1s\n",
      "95:\tlearn: 0.8549267\ttotal: 830ms\tremaining: 6.08s\n",
      "96:\tlearn: 0.8547659\ttotal: 838ms\tremaining: 6.07s\n",
      "97:\tlearn: 0.8538926\ttotal: 845ms\tremaining: 6.06s\n",
      "98:\tlearn: 0.8544671\ttotal: 854ms\tremaining: 6.04s\n",
      "99:\tlearn: 0.8549957\ttotal: 862ms\tremaining: 6.03s\n",
      "100:\tlearn: 0.8548923\ttotal: 876ms\tremaining: 6.06s\n",
      "101:\tlearn: 0.8552600\ttotal: 887ms\tremaining: 6.07s\n",
      "102:\tlearn: 0.8552945\ttotal: 900ms\tremaining: 6.09s\n",
      "103:\tlearn: 0.8552255\ttotal: 924ms\tremaining: 6.18s\n",
      "104:\tlearn: 0.8552485\ttotal: 937ms\tremaining: 6.2s\n",
      "105:\tlearn: 0.8552485\ttotal: 952ms\tremaining: 6.23s\n",
      "106:\tlearn: 0.8547544\ttotal: 964ms\tremaining: 6.24s\n",
      "107:\tlearn: 0.8552485\ttotal: 974ms\tremaining: 6.24s\n",
      "108:\tlearn: 0.8546969\ttotal: 988ms\tremaining: 6.27s\n",
      "109:\tlearn: 0.8543062\ttotal: 998ms\tremaining: 6.26s\n",
      "110:\tlearn: 0.8550187\ttotal: 1.01s\tremaining: 6.26s\n",
      "111:\tlearn: 0.8567883\ttotal: 1.02s\tremaining: 6.25s\n",
      "112:\tlearn: 0.8559379\ttotal: 1.03s\tremaining: 6.25s\n",
      "113:\tlearn: 0.8562137\ttotal: 1.04s\tremaining: 6.25s\n",
      "114:\tlearn: 0.8566332\ttotal: 1.05s\tremaining: 6.24s\n",
      "115:\tlearn: 0.8568170\ttotal: 1.06s\tremaining: 6.25s\n",
      "116:\tlearn: 0.8569319\ttotal: 1.07s\tremaining: 6.24s\n",
      "117:\tlearn: 0.8561735\ttotal: 1.08s\tremaining: 6.25s\n",
      "118:\tlearn: 0.8576099\ttotal: 1.09s\tremaining: 6.24s\n",
      "119:\tlearn: 0.8578167\ttotal: 1.1s\tremaining: 6.24s\n",
      "120:\tlearn: 0.8582878\ttotal: 1.11s\tremaining: 6.23s\n",
      "121:\tlearn: 0.8584028\ttotal: 1.12s\tremaining: 6.22s\n",
      "122:\tlearn: 0.8579431\ttotal: 1.13s\tremaining: 6.22s\n",
      "123:\tlearn: 0.8576558\ttotal: 1.14s\tremaining: 6.21s\n",
      "124:\tlearn: 0.8576214\ttotal: 1.15s\tremaining: 6.21s\n",
      "125:\tlearn: 0.8587705\ttotal: 1.16s\tremaining: 6.2s\n",
      "126:\tlearn: 0.8598276\ttotal: 1.17s\tremaining: 6.2s\n",
      "127:\tlearn: 0.8604022\ttotal: 1.18s\tremaining: 6.19s\n",
      "128:\tlearn: 0.8602298\ttotal: 1.19s\tremaining: 6.18s\n",
      "129:\tlearn: 0.8602643\ttotal: 1.2s\tremaining: 6.17s\n",
      "130:\tlearn: 0.8603792\ttotal: 1.21s\tremaining: 6.15s\n",
      "131:\tlearn: 0.8600115\ttotal: 1.21s\tremaining: 6.14s\n",
      "132:\tlearn: 0.8600689\ttotal: 1.22s\tremaining: 6.14s\n",
      "133:\tlearn: 0.8605975\ttotal: 1.23s\tremaining: 6.13s\n",
      "134:\tlearn: 0.8612985\ttotal: 1.24s\tremaining: 6.12s\n",
      "135:\tlearn: 0.8622292\ttotal: 1.25s\tremaining: 6.12s\n",
      "136:\tlearn: 0.8646883\ttotal: 1.26s\tremaining: 6.11s\n",
      "137:\tlearn: 0.8645045\ttotal: 1.27s\tremaining: 6.11s\n",
      "138:\tlearn: 0.8643895\ttotal: 1.28s\tremaining: 6.1s\n",
      "139:\tlearn: 0.8649526\ttotal: 1.3s\tremaining: 6.12s\n",
      "140:\tlearn: 0.8651594\ttotal: 1.31s\tremaining: 6.12s\n",
      "141:\tlearn: 0.8652514\ttotal: 1.32s\tremaining: 6.11s\n",
      "142:\tlearn: 0.8660098\ttotal: 1.33s\tremaining: 6.12s\n",
      "143:\tlearn: 0.8660442\ttotal: 1.34s\tremaining: 6.12s\n",
      "144:\tlearn: 0.8661477\ttotal: 1.35s\tremaining: 6.11s\n",
      "145:\tlearn: 0.8663775\ttotal: 1.36s\tremaining: 6.11s\n",
      "146:\tlearn: 0.8681701\ttotal: 1.38s\tremaining: 6.11s\n",
      "147:\tlearn: 0.8679632\ttotal: 1.39s\tremaining: 6.1s\n",
      "148:\tlearn: 0.8678253\ttotal: 1.4s\tremaining: 6.1s\n",
      "149:\tlearn: 0.8678138\ttotal: 1.41s\tremaining: 6.1s\n",
      "150:\tlearn: 0.8672795\ttotal: 1.42s\tremaining: 6.08s\n",
      "151:\tlearn: 0.8667854\ttotal: 1.43s\tremaining: 6.08s\n",
      "152:\tlearn: 0.8663488\ttotal: 1.44s\tremaining: 6.08s\n",
      "153:\tlearn: 0.8668544\ttotal: 1.45s\tremaining: 6.08s\n",
      "154:\tlearn: 0.8674059\ttotal: 1.46s\tremaining: 6.07s\n",
      "155:\tlearn: 0.8675668\ttotal: 1.47s\tremaining: 6.08s\n",
      "156:\tlearn: 0.8675668\ttotal: 1.48s\tremaining: 6.08s\n",
      "157:\tlearn: 0.8680954\ttotal: 1.49s\tremaining: 6.07s\n",
      "158:\tlearn: 0.8678885\ttotal: 1.51s\tremaining: 6.08s\n",
      "159:\tlearn: 0.8679460\ttotal: 1.52s\tremaining: 6.07s\n",
      "160:\tlearn: 0.8679345\ttotal: 1.53s\tremaining: 6.06s\n",
      "161:\tlearn: 0.8682333\ttotal: 1.54s\tremaining: 6.06s\n",
      "162:\tlearn: 0.8686929\ttotal: 1.55s\tremaining: 6.05s\n",
      "163:\tlearn: 0.8701408\ttotal: 1.56s\tremaining: 6.05s\n",
      "164:\tlearn: 0.8697501\ttotal: 1.57s\tremaining: 6.06s\n",
      "165:\tlearn: 0.8698650\ttotal: 1.58s\tremaining: 6.05s\n",
      "166:\tlearn: 0.8699684\ttotal: 1.59s\tremaining: 6.04s\n",
      "167:\tlearn: 0.8699339\ttotal: 1.6s\tremaining: 6.04s\n",
      "168:\tlearn: 0.8697386\ttotal: 1.61s\tremaining: 6.03s\n",
      "169:\tlearn: 0.8695777\ttotal: 1.63s\tremaining: 6.03s\n",
      "170:\tlearn: 0.8703706\ttotal: 1.64s\tremaining: 6.03s\n",
      "171:\tlearn: 0.8703821\ttotal: 1.65s\tremaining: 6.02s\n",
      "172:\tlearn: 0.8709221\ttotal: 1.66s\tremaining: 6.01s\n",
      "173:\tlearn: 0.8709796\ttotal: 1.67s\tremaining: 6s\n",
      "174:\tlearn: 0.8714278\ttotal: 1.68s\tremaining: 6.01s\n",
      "175:\tlearn: 0.8721747\ttotal: 1.69s\tremaining: 6s\n",
      "176:\tlearn: 0.8728067\ttotal: 1.7s\tremaining: 6s\n"
     ]
    },
    {
     "name": "stdout",
     "output_type": "stream",
     "text": [
      "177:\tlearn: 0.8732548\ttotal: 1.74s\tremaining: 6.09s\n",
      "178:\tlearn: 0.8735421\ttotal: 1.76s\tremaining: 6.11s\n",
      "179:\tlearn: 0.8734157\ttotal: 1.77s\tremaining: 6.1s\n",
      "180:\tlearn: 0.8734042\ttotal: 1.78s\tremaining: 6.09s\n",
      "181:\tlearn: 0.8732433\ttotal: 1.79s\tremaining: 6.08s\n",
      "182:\tlearn: 0.8732433\ttotal: 1.8s\tremaining: 6.06s\n",
      "183:\tlearn: 0.8735651\ttotal: 1.8s\tremaining: 6.04s\n",
      "184:\tlearn: 0.8748980\ttotal: 1.81s\tremaining: 6.03s\n",
      "185:\tlearn: 0.8750359\ttotal: 1.82s\tremaining: 6.01s\n",
      "186:\tlearn: 0.8749095\ttotal: 1.83s\tremaining: 6s\n",
      "187:\tlearn: 0.8753806\ttotal: 1.84s\tremaining: 5.98s\n",
      "188:\tlearn: 0.8751278\ttotal: 1.84s\tremaining: 5.97s\n",
      "189:\tlearn: 0.8750704\ttotal: 1.85s\tremaining: 5.95s\n",
      "190:\tlearn: 0.8754266\ttotal: 1.86s\tremaining: 5.93s\n",
      "191:\tlearn: 0.8756219\ttotal: 1.87s\tremaining: 5.92s\n",
      "192:\tlearn: 0.8754496\ttotal: 1.88s\tremaining: 5.91s\n",
      "193:\tlearn: 0.8765642\ttotal: 1.89s\tremaining: 5.89s\n",
      "194:\tlearn: 0.8765642\ttotal: 1.89s\tremaining: 5.88s\n",
      "195:\tlearn: 0.8758403\ttotal: 1.9s\tremaining: 5.86s\n",
      "196:\tlearn: 0.8755415\ttotal: 1.91s\tremaining: 5.84s\n",
      "197:\tlearn: 0.8764608\ttotal: 1.92s\tremaining: 5.83s\n",
      "198:\tlearn: 0.8772537\ttotal: 1.93s\tremaining: 5.82s\n",
      "199:\tlearn: 0.8772652\ttotal: 1.93s\tremaining: 5.8s\n",
      "200:\tlearn: 0.8775180\ttotal: 1.94s\tremaining: 5.79s\n",
      "201:\tlearn: 0.8775524\ttotal: 1.96s\tremaining: 5.79s\n",
      "202:\tlearn: 0.8784832\ttotal: 1.96s\tremaining: 5.78s\n",
      "203:\tlearn: 0.8783798\ttotal: 1.98s\tremaining: 5.78s\n",
      "204:\tlearn: 0.8779201\ttotal: 1.99s\tremaining: 5.77s\n",
      "205:\tlearn: 0.8779316\ttotal: 2s\tremaining: 5.76s\n",
      "206:\tlearn: 0.8781385\ttotal: 2.01s\tremaining: 5.75s\n",
      "207:\tlearn: 0.8780810\ttotal: 2.01s\tremaining: 5.73s\n",
      "208:\tlearn: 0.8781155\ttotal: 2.02s\tremaining: 5.72s\n",
      "209:\tlearn: 0.8778052\ttotal: 2.03s\tremaining: 5.71s\n",
      "210:\tlearn: 0.8778742\ttotal: 2.04s\tremaining: 5.7s\n",
      "211:\tlearn: 0.8778627\ttotal: 2.05s\tremaining: 5.69s\n",
      "212:\tlearn: 0.8780580\ttotal: 2.06s\tremaining: 5.68s\n",
      "213:\tlearn: 0.8778282\ttotal: 2.07s\tremaining: 5.67s\n",
      "214:\tlearn: 0.8776903\ttotal: 2.08s\tremaining: 5.65s\n",
      "215:\tlearn: 0.8776329\ttotal: 2.08s\tremaining: 5.64s\n",
      "216:\tlearn: 0.8783223\ttotal: 2.09s\tremaining: 5.62s\n",
      "217:\tlearn: 0.8794484\ttotal: 2.1s\tremaining: 5.61s\n",
      "218:\tlearn: 0.8803217\ttotal: 2.11s\tremaining: 5.6s\n",
      "219:\tlearn: 0.8809882\ttotal: 2.12s\tremaining: 5.58s\n",
      "220:\tlearn: 0.8808388\ttotal: 2.13s\tremaining: 5.58s\n",
      "221:\tlearn: 0.8811836\ttotal: 2.14s\tremaining: 5.57s\n",
      "222:\tlearn: 0.8815628\ttotal: 2.15s\tremaining: 5.56s\n",
      "223:\tlearn: 0.8815972\ttotal: 2.16s\tremaining: 5.55s\n",
      "224:\tlearn: 0.8823097\ttotal: 2.17s\tremaining: 5.54s\n",
      "225:\tlearn: 0.8823786\ttotal: 2.18s\tremaining: 5.53s\n",
      "226:\tlearn: 0.8820569\ttotal: 2.19s\tremaining: 5.52s\n",
      "227:\tlearn: 0.8826084\ttotal: 2.19s\tremaining: 5.5s\n",
      "228:\tlearn: 0.8832634\ttotal: 2.2s\tremaining: 5.49s\n",
      "229:\tlearn: 0.8832290\ttotal: 2.21s\tremaining: 5.48s\n",
      "230:\tlearn: 0.8836771\ttotal: 2.22s\tremaining: 5.46s\n",
      "231:\tlearn: 0.8838265\ttotal: 2.23s\tremaining: 5.45s\n",
      "232:\tlearn: 0.8836196\ttotal: 2.23s\tremaining: 5.44s\n",
      "233:\tlearn: 0.8838610\ttotal: 2.24s\tremaining: 5.43s\n",
      "234:\tlearn: 0.8841482\ttotal: 2.25s\tremaining: 5.42s\n",
      "235:\tlearn: 0.8837001\ttotal: 2.26s\tremaining: 5.41s\n",
      "236:\tlearn: 0.8839184\ttotal: 2.27s\tremaining: 5.39s\n",
      "237:\tlearn: 0.8842631\ttotal: 2.28s\tremaining: 5.38s\n",
      "238:\tlearn: 0.8846194\ttotal: 2.29s\tremaining: 5.37s\n",
      "239:\tlearn: 0.8852399\ttotal: 2.3s\tremaining: 5.36s\n",
      "240:\tlearn: 0.8861821\ttotal: 2.31s\tremaining: 5.35s\n",
      "241:\tlearn: 0.8860327\ttotal: 2.31s\tremaining: 5.34s\n",
      "242:\tlearn: 0.8866418\ttotal: 2.33s\tremaining: 5.33s\n",
      "243:\tlearn: 0.8868716\ttotal: 2.34s\tremaining: 5.33s\n",
      "244:\tlearn: 0.8868831\ttotal: 2.35s\tremaining: 5.32s\n",
      "245:\tlearn: 0.8873427\ttotal: 2.36s\tremaining: 5.32s\n",
      "246:\tlearn: 0.8874346\ttotal: 2.37s\tremaining: 5.31s\n",
      "247:\tlearn: 0.8879173\ttotal: 2.38s\tremaining: 5.3s\n",
      "248:\tlearn: 0.8884114\ttotal: 2.39s\tremaining: 5.29s\n",
      "249:\tlearn: 0.8891353\ttotal: 2.4s\tremaining: 5.28s\n",
      "250:\tlearn: 0.8895720\ttotal: 2.41s\tremaining: 5.27s\n",
      "251:\tlearn: 0.8899741\ttotal: 2.42s\tremaining: 5.26s\n",
      "252:\tlearn: 0.8897788\ttotal: 2.42s\tremaining: 5.24s\n",
      "253:\tlearn: 0.8907096\ttotal: 2.43s\tremaining: 5.23s\n",
      "254:\tlearn: 0.8907211\ttotal: 2.44s\tremaining: 5.22s\n",
      "255:\tlearn: 0.8914795\ttotal: 2.45s\tremaining: 5.21s\n",
      "256:\tlearn: 0.8922379\ttotal: 2.46s\tremaining: 5.2s\n",
      "257:\tlearn: 0.8923068\ttotal: 2.47s\tremaining: 5.19s\n",
      "258:\tlearn: 0.8925022\ttotal: 2.48s\tremaining: 5.18s\n",
      "259:\tlearn: 0.8924792\ttotal: 2.49s\tremaining: 5.17s\n",
      "260:\tlearn: 0.8927894\ttotal: 2.5s\tremaining: 5.15s\n",
      "261:\tlearn: 0.8930307\ttotal: 2.5s\tremaining: 5.14s\n",
      "262:\tlearn: 0.8929618\ttotal: 2.51s\tremaining: 5.13s\n",
      "263:\tlearn: 0.8932031\ttotal: 2.52s\tremaining: 5.12s\n",
      "264:\tlearn: 0.8933870\ttotal: 2.53s\tremaining: 5.11s\n",
      "265:\tlearn: 0.8942258\ttotal: 2.54s\tremaining: 5.1s\n",
      "266:\tlearn: 0.8955587\ttotal: 2.55s\tremaining: 5.1s\n",
      "267:\tlearn: 0.8959035\ttotal: 2.56s\tremaining: 5.09s\n",
      "268:\tlearn: 0.8964321\ttotal: 2.57s\tremaining: 5.08s\n",
      "269:\tlearn: 0.8970296\ttotal: 2.58s\tremaining: 5.07s\n",
      "270:\tlearn: 0.8969147\ttotal: 2.59s\tremaining: 5.06s\n",
      "271:\tlearn: 0.8971100\ttotal: 2.6s\tremaining: 5.05s\n",
      "272:\tlearn: 0.8975467\ttotal: 2.61s\tremaining: 5.04s\n",
      "273:\tlearn: 0.8976156\ttotal: 2.62s\tremaining: 5.03s\n",
      "274:\tlearn: 0.8976501\ttotal: 2.63s\tremaining: 5.02s\n",
      "275:\tlearn: 0.8975697\ttotal: 2.64s\tremaining: 5.01s\n",
      "276:\tlearn: 0.8976386\ttotal: 2.65s\tremaining: 5s\n",
      "277:\tlearn: 0.8975582\ttotal: 2.65s\tremaining: 4.99s\n",
      "278:\tlearn: 0.8974318\ttotal: 2.66s\tremaining: 4.97s\n",
      "279:\tlearn: 0.8979144\ttotal: 2.67s\tremaining: 4.96s\n",
      "280:\tlearn: 0.8982936\ttotal: 2.68s\tremaining: 4.95s\n",
      "281:\tlearn: 0.8990405\ttotal: 2.69s\tremaining: 4.94s\n",
      "282:\tlearn: 0.8998334\ttotal: 2.7s\tremaining: 4.93s\n",
      "283:\tlearn: 0.8995921\ttotal: 2.71s\tremaining: 4.91s\n",
      "284:\tlearn: 0.9001436\ttotal: 2.71s\tremaining: 4.9s\n",
      "285:\tlearn: 0.9003964\ttotal: 2.72s\tremaining: 4.89s\n",
      "286:\tlearn: 0.9010169\ttotal: 2.73s\tremaining: 4.88s\n",
      "287:\tlearn: 0.9015226\ttotal: 2.74s\tremaining: 4.87s\n",
      "288:\tlearn: 0.9015685\ttotal: 2.75s\tremaining: 4.86s\n",
      "289:\tlearn: 0.9016604\ttotal: 2.76s\tremaining: 4.86s\n",
      "290:\tlearn: 0.9016260\ttotal: 2.77s\tremaining: 4.85s\n",
      "291:\tlearn: 0.9017064\ttotal: 2.78s\tremaining: 4.84s\n",
      "292:\tlearn: 0.9020856\ttotal: 2.79s\tremaining: 4.83s\n",
      "293:\tlearn: 0.9033036\ttotal: 2.8s\tremaining: 4.81s\n",
      "294:\tlearn: 0.9034875\ttotal: 2.81s\tremaining: 4.81s\n",
      "295:\tlearn: 0.9037748\ttotal: 2.82s\tremaining: 4.8s\n",
      "296:\tlearn: 0.9038552\ttotal: 2.83s\tremaining: 4.79s\n",
      "297:\tlearn: 0.9039357\ttotal: 2.84s\tremaining: 4.78s\n",
      "298:\tlearn: 0.9038782\ttotal: 2.85s\tremaining: 4.77s\n",
      "299:\tlearn: 0.9039816\ttotal: 2.86s\tremaining: 4.76s\n",
      "300:\tlearn: 0.9042459\ttotal: 2.87s\tremaining: 4.75s\n",
      "301:\tlearn: 0.9044987\ttotal: 2.88s\tremaining: 4.74s\n",
      "302:\tlearn: 0.9044527\ttotal: 2.89s\tremaining: 4.73s\n",
      "303:\tlearn: 0.9045217\ttotal: 2.89s\tremaining: 4.72s\n",
      "304:\tlearn: 0.9043608\ttotal: 2.9s\tremaining: 4.71s\n",
      "305:\tlearn: 0.9046251\ttotal: 2.91s\tremaining: 4.7s\n",
      "306:\tlearn: 0.9046251\ttotal: 2.92s\tremaining: 4.69s\n",
      "307:\tlearn: 0.9046366\ttotal: 2.93s\tremaining: 4.68s\n",
      "308:\tlearn: 0.9048549\ttotal: 2.94s\tremaining: 4.67s\n",
      "309:\tlearn: 0.9048090\ttotal: 2.95s\tremaining: 4.66s\n",
      "310:\tlearn: 0.9051997\ttotal: 2.96s\tremaining: 4.65s\n",
      "311:\tlearn: 0.9050847\ttotal: 2.97s\tremaining: 4.64s\n",
      "312:\tlearn: 0.9055789\ttotal: 2.98s\tremaining: 4.63s\n",
      "313:\tlearn: 0.9058546\ttotal: 2.99s\tremaining: 4.62s\n",
      "314:\tlearn: 0.9057627\ttotal: 3s\tremaining: 4.61s\n",
      "315:\tlearn: 0.9060500\ttotal: 3s\tremaining: 4.6s\n",
      "316:\tlearn: 0.9064292\ttotal: 3.02s\tremaining: 4.59s\n",
      "317:\tlearn: 0.9066016\ttotal: 3.02s\tremaining: 4.58s\n",
      "318:\tlearn: 0.9064177\ttotal: 3.03s\tremaining: 4.57s\n",
      "319:\tlearn: 0.9063602\ttotal: 3.04s\tremaining: 4.56s\n",
      "320:\tlearn: 0.9062798\ttotal: 3.05s\tremaining: 4.55s\n",
      "321:\tlearn: 0.9071186\ttotal: 3.06s\tremaining: 4.54s\n",
      "322:\tlearn: 0.9075093\ttotal: 3.07s\tremaining: 4.53s\n",
      "323:\tlearn: 0.9072221\ttotal: 3.08s\tremaining: 4.52s\n",
      "324:\tlearn: 0.9070842\ttotal: 3.08s\tremaining: 4.51s\n",
      "325:\tlearn: 0.9070497\ttotal: 3.09s\tremaining: 4.49s\n",
      "326:\tlearn: 0.9069118\ttotal: 3.1s\tremaining: 4.48s\n",
      "327:\tlearn: 0.9067509\ttotal: 3.11s\tremaining: 4.47s\n",
      "328:\tlearn: 0.9066935\ttotal: 3.12s\tremaining: 4.46s\n",
      "329:\tlearn: 0.9067394\ttotal: 3.12s\tremaining: 4.45s\n",
      "330:\tlearn: 0.9067280\ttotal: 3.13s\tremaining: 4.44s\n",
      "331:\tlearn: 0.9068084\ttotal: 3.14s\tremaining: 4.43s\n",
      "332:\tlearn: 0.9069118\ttotal: 3.15s\tremaining: 4.42s\n",
      "333:\tlearn: 0.9069578\ttotal: 3.16s\tremaining: 4.41s\n",
      "334:\tlearn: 0.9069003\ttotal: 3.17s\tremaining: 4.4s\n",
      "335:\tlearn: 0.9077392\ttotal: 3.18s\tremaining: 4.39s\n",
      "336:\tlearn: 0.9075208\ttotal: 3.19s\tremaining: 4.38s\n",
      "337:\tlearn: 0.9076357\ttotal: 3.2s\tremaining: 4.37s\n",
      "338:\tlearn: 0.9077851\ttotal: 3.21s\tremaining: 4.36s\n",
      "339:\tlearn: 0.9076702\ttotal: 3.22s\tremaining: 4.35s\n",
      "340:\tlearn: 0.9076472\ttotal: 3.22s\tremaining: 4.34s\n",
      "341:\tlearn: 0.9077966\ttotal: 3.23s\tremaining: 4.33s\n",
      "342:\tlearn: 0.9078770\ttotal: 3.24s\tremaining: 4.32s\n",
      "343:\tlearn: 0.9081298\ttotal: 3.25s\tremaining: 4.3s\n",
      "344:\tlearn: 0.9081413\ttotal: 3.26s\tremaining: 4.29s\n",
      "345:\tlearn: 0.9081069\ttotal: 3.26s\tremaining: 4.28s\n",
      "346:\tlearn: 0.9081873\ttotal: 3.27s\tremaining: 4.27s\n",
      "347:\tlearn: 0.9081873\ttotal: 3.28s\tremaining: 4.26s\n",
      "348:\tlearn: 0.9083367\ttotal: 3.29s\tremaining: 4.25s\n",
      "349:\tlearn: 0.9084631\ttotal: 3.3s\tremaining: 4.24s\n",
      "350:\tlearn: 0.9085780\ttotal: 3.3s\tremaining: 4.23s\n",
      "351:\tlearn: 0.9086354\ttotal: 3.31s\tremaining: 4.21s\n",
      "352:\tlearn: 0.9092100\ttotal: 3.32s\tremaining: 4.21s\n"
     ]
    },
    {
     "name": "stdout",
     "output_type": "stream",
     "text": [
      "353:\tlearn: 0.9093249\ttotal: 3.33s\tremaining: 4.2s\n",
      "354:\tlearn: 0.9094053\ttotal: 3.34s\tremaining: 4.19s\n",
      "355:\tlearn: 0.9094743\ttotal: 3.35s\tremaining: 4.18s\n",
      "356:\tlearn: 0.9102097\ttotal: 3.36s\tremaining: 4.17s\n",
      "357:\tlearn: 0.9100029\ttotal: 3.37s\tremaining: 4.16s\n",
      "358:\tlearn: 0.9101178\ttotal: 3.37s\tremaining: 4.14s\n",
      "359:\tlearn: 0.9104625\ttotal: 3.38s\tremaining: 4.13s\n",
      "360:\tlearn: 0.9106349\ttotal: 3.39s\tremaining: 4.12s\n",
      "361:\tlearn: 0.9105774\ttotal: 3.4s\tremaining: 4.11s\n",
      "362:\tlearn: 0.9114163\ttotal: 3.41s\tremaining: 4.1s\n",
      "363:\tlearn: 0.9120712\ttotal: 3.42s\tremaining: 4.09s\n",
      "364:\tlearn: 0.9119563\ttotal: 3.43s\tremaining: 4.08s\n",
      "365:\tlearn: 0.9120483\ttotal: 3.44s\tremaining: 4.07s\n",
      "366:\tlearn: 0.9119908\ttotal: 3.44s\tremaining: 4.06s\n",
      "367:\tlearn: 0.9119563\ttotal: 3.45s\tremaining: 4.05s\n",
      "368:\tlearn: 0.9120827\ttotal: 3.46s\tremaining: 4.04s\n",
      "369:\tlearn: 0.9121517\ttotal: 3.47s\tremaining: 4.03s\n",
      "370:\tlearn: 0.9121632\ttotal: 3.48s\tremaining: 4.02s\n",
      "371:\tlearn: 0.9123240\ttotal: 3.48s\tremaining: 4.01s\n",
      "372:\tlearn: 0.9122321\ttotal: 3.49s\tremaining: 4s\n",
      "373:\tlearn: 0.9120942\ttotal: 3.5s\tremaining: 3.99s\n",
      "374:\tlearn: 0.9122321\ttotal: 3.51s\tremaining: 3.98s\n",
      "375:\tlearn: 0.9121632\ttotal: 3.52s\tremaining: 3.97s\n",
      "376:\tlearn: 0.9125424\ttotal: 3.53s\tremaining: 3.97s\n",
      "377:\tlearn: 0.9125424\ttotal: 3.55s\tremaining: 3.96s\n",
      "378:\tlearn: 0.9129560\ttotal: 3.56s\tremaining: 3.95s\n",
      "379:\tlearn: 0.9133927\ttotal: 3.57s\tremaining: 3.94s\n",
      "380:\tlearn: 0.9133927\ttotal: 3.58s\tremaining: 3.94s\n",
      "381:\tlearn: 0.9133467\ttotal: 3.59s\tremaining: 3.93s\n",
      "382:\tlearn: 0.9138638\ttotal: 3.6s\tremaining: 3.92s\n",
      "383:\tlearn: 0.9138753\ttotal: 3.61s\tremaining: 3.91s\n",
      "384:\tlearn: 0.9139443\ttotal: 3.62s\tremaining: 3.9s\n",
      "385:\tlearn: 0.9142660\ttotal: 3.62s\tremaining: 3.89s\n",
      "386:\tlearn: 0.9150934\ttotal: 3.63s\tremaining: 3.88s\n",
      "387:\tlearn: 0.9151623\ttotal: 3.64s\tremaining: 3.87s\n",
      "388:\tlearn: 0.9150934\ttotal: 3.65s\tremaining: 3.85s\n",
      "389:\tlearn: 0.9151623\ttotal: 3.66s\tremaining: 3.84s\n",
      "390:\tlearn: 0.9150819\ttotal: 3.67s\tremaining: 3.83s\n",
      "391:\tlearn: 0.9153462\ttotal: 3.67s\tremaining: 3.82s\n",
      "392:\tlearn: 0.9156105\ttotal: 3.68s\tremaining: 3.81s\n",
      "393:\tlearn: 0.9159897\ttotal: 3.69s\tremaining: 3.8s\n",
      "394:\tlearn: 0.9163459\ttotal: 3.7s\tremaining: 3.79s\n",
      "395:\tlearn: 0.9162769\ttotal: 3.71s\tremaining: 3.78s\n",
      "396:\tlearn: 0.9166217\ttotal: 3.71s\tremaining: 3.77s\n",
      "397:\tlearn: 0.9164263\ttotal: 3.72s\tremaining: 3.76s\n",
      "398:\tlearn: 0.9163459\ttotal: 3.73s\tremaining: 3.75s\n",
      "399:\tlearn: 0.9163344\ttotal: 3.74s\tremaining: 3.74s\n",
      "400:\tlearn: 0.9166676\ttotal: 3.75s\tremaining: 3.73s\n",
      "401:\tlearn: 0.9166332\ttotal: 3.76s\tremaining: 3.72s\n",
      "402:\tlearn: 0.9166676\ttotal: 3.77s\tremaining: 3.71s\n",
      "403:\tlearn: 0.9168860\ttotal: 3.78s\tremaining: 3.7s\n",
      "404:\tlearn: 0.9167710\ttotal: 3.79s\tremaining: 3.69s\n",
      "405:\tlearn: 0.9169204\ttotal: 3.8s\tremaining: 3.68s\n",
      "406:\tlearn: 0.9171847\ttotal: 3.8s\tremaining: 3.67s\n",
      "407:\tlearn: 0.9173686\ttotal: 3.81s\tremaining: 3.66s\n",
      "408:\tlearn: 0.9177937\ttotal: 3.82s\tremaining: 3.65s\n",
      "409:\tlearn: 0.9178627\ttotal: 3.83s\tremaining: 3.64s\n",
      "410:\tlearn: 0.9178512\ttotal: 3.84s\tremaining: 3.63s\n",
      "411:\tlearn: 0.9179431\ttotal: 3.85s\tremaining: 3.62s\n",
      "412:\tlearn: 0.9179776\ttotal: 3.85s\tremaining: 3.61s\n",
      "413:\tlearn: 0.9178627\ttotal: 3.86s\tremaining: 3.6s\n",
      "414:\tlearn: 0.9179086\ttotal: 3.87s\tremaining: 3.59s\n",
      "415:\tlearn: 0.9180580\ttotal: 3.88s\tremaining: 3.58s\n",
      "416:\tlearn: 0.9183223\ttotal: 3.89s\tremaining: 3.57s\n",
      "417:\tlearn: 0.9186211\ttotal: 3.9s\tremaining: 3.56s\n",
      "418:\tlearn: 0.9185751\ttotal: 3.9s\tremaining: 3.55s\n",
      "419:\tlearn: 0.9185981\ttotal: 3.91s\tremaining: 3.54s\n",
      "420:\tlearn: 0.9185981\ttotal: 3.92s\tremaining: 3.53s\n",
      "421:\tlearn: 0.9185406\ttotal: 3.93s\tremaining: 3.52s\n",
      "422:\tlearn: 0.9185177\ttotal: 3.94s\tremaining: 3.51s\n",
      "423:\tlearn: 0.9190233\ttotal: 3.95s\tremaining: 3.5s\n",
      "424:\tlearn: 0.9190348\ttotal: 3.96s\tremaining: 3.49s\n",
      "425:\tlearn: 0.9191727\ttotal: 3.96s\tremaining: 3.48s\n",
      "426:\tlearn: 0.9191497\ttotal: 3.97s\tremaining: 3.47s\n",
      "427:\tlearn: 0.9194599\ttotal: 3.98s\tremaining: 3.46s\n",
      "428:\tlearn: 0.9195748\ttotal: 3.99s\tremaining: 3.45s\n",
      "429:\tlearn: 0.9197587\ttotal: 4s\tremaining: 3.44s\n",
      "430:\tlearn: 0.9198621\ttotal: 4s\tremaining: 3.43s\n",
      "431:\tlearn: 0.9200115\ttotal: 4.01s\tremaining: 3.42s\n",
      "432:\tlearn: 0.9199540\ttotal: 4.02s\tremaining: 3.41s\n",
      "433:\tlearn: 0.9199885\ttotal: 4.03s\tremaining: 3.4s\n",
      "434:\tlearn: 0.9199885\ttotal: 4.04s\tremaining: 3.39s\n",
      "435:\tlearn: 0.9199885\ttotal: 4.04s\tremaining: 3.38s\n",
      "436:\tlearn: 0.9203103\ttotal: 4.05s\tremaining: 3.37s\n",
      "437:\tlearn: 0.9201953\ttotal: 4.06s\tremaining: 3.36s\n",
      "438:\tlearn: 0.9204596\ttotal: 4.07s\tremaining: 3.35s\n",
      "439:\tlearn: 0.9206780\ttotal: 4.08s\tremaining: 3.34s\n",
      "440:\tlearn: 0.9207009\ttotal: 4.08s\tremaining: 3.33s\n",
      "441:\tlearn: 0.9205401\ttotal: 4.09s\tremaining: 3.31s\n",
      "442:\tlearn: 0.9208044\ttotal: 4.1s\tremaining: 3.3s\n",
      "443:\tlearn: 0.9208848\ttotal: 4.11s\tremaining: 3.29s\n",
      "444:\tlearn: 0.9210112\ttotal: 4.12s\tremaining: 3.28s\n",
      "445:\tlearn: 0.9210112\ttotal: 4.12s\tremaining: 3.27s\n",
      "446:\tlearn: 0.9210112\ttotal: 4.13s\tremaining: 3.26s\n",
      "447:\tlearn: 0.9212525\ttotal: 4.14s\tremaining: 3.25s\n",
      "448:\tlearn: 0.9212295\ttotal: 4.15s\tremaining: 3.24s\n",
      "449:\tlearn: 0.9212180\ttotal: 4.16s\tremaining: 3.23s\n",
      "450:\tlearn: 0.9213789\ttotal: 4.17s\tremaining: 3.22s\n",
      "451:\tlearn: 0.9216087\ttotal: 4.17s\tremaining: 3.21s\n",
      "452:\tlearn: 0.9218041\ttotal: 4.18s\tremaining: 3.2s\n",
      "453:\tlearn: 0.9218615\ttotal: 4.19s\tremaining: 3.19s\n",
      "454:\tlearn: 0.9218271\ttotal: 4.2s\tremaining: 3.18s\n",
      "455:\tlearn: 0.9218730\ttotal: 4.21s\tremaining: 3.17s\n",
      "456:\tlearn: 0.9219535\ttotal: 4.21s\tremaining: 3.16s\n",
      "457:\tlearn: 0.9222982\ttotal: 4.22s\tremaining: 3.15s\n",
      "458:\tlearn: 0.9222867\ttotal: 4.23s\tremaining: 3.14s\n",
      "459:\tlearn: 0.9221373\ttotal: 4.24s\tremaining: 3.13s\n",
      "460:\tlearn: 0.9222063\ttotal: 4.25s\tremaining: 3.12s\n",
      "461:\tlearn: 0.9225395\ttotal: 4.25s\tremaining: 3.11s\n",
      "462:\tlearn: 0.9223786\ttotal: 4.26s\tremaining: 3.1s\n",
      "463:\tlearn: 0.9224476\ttotal: 4.27s\tremaining: 3.09s\n",
      "464:\tlearn: 0.9225625\ttotal: 4.28s\tremaining: 3.08s\n",
      "465:\tlearn: 0.9229532\ttotal: 4.29s\tremaining: 3.07s\n",
      "466:\tlearn: 0.9231140\ttotal: 4.29s\tremaining: 3.06s\n",
      "467:\tlearn: 0.9232864\ttotal: 4.3s\tremaining: 3.05s\n",
      "468:\tlearn: 0.9233898\ttotal: 4.31s\tremaining: 3.04s\n",
      "469:\tlearn: 0.9232290\ttotal: 4.32s\tremaining: 3.03s\n",
      "470:\tlearn: 0.9233554\ttotal: 4.33s\tremaining: 3.02s\n",
      "471:\tlearn: 0.9232290\ttotal: 4.33s\tremaining: 3.01s\n",
      "472:\tlearn: 0.9233209\ttotal: 4.34s\tremaining: 3s\n",
      "473:\tlearn: 0.9235852\ttotal: 4.35s\tremaining: 2.99s\n",
      "474:\tlearn: 0.9236082\ttotal: 4.36s\tremaining: 2.98s\n",
      "475:\tlearn: 0.9235737\ttotal: 4.37s\tremaining: 2.98s\n",
      "476:\tlearn: 0.9237805\ttotal: 4.38s\tremaining: 2.97s\n",
      "477:\tlearn: 0.9238495\ttotal: 4.39s\tremaining: 2.96s\n",
      "478:\tlearn: 0.9240448\ttotal: 4.4s\tremaining: 2.95s\n",
      "479:\tlearn: 0.9242287\ttotal: 4.4s\tremaining: 2.94s\n",
      "480:\tlearn: 0.9241942\ttotal: 4.41s\tremaining: 2.93s\n",
      "481:\tlearn: 0.9241253\ttotal: 4.42s\tremaining: 2.92s\n",
      "482:\tlearn: 0.9243781\ttotal: 4.43s\tremaining: 2.91s\n",
      "483:\tlearn: 0.9242976\ttotal: 4.44s\tremaining: 2.9s\n",
      "484:\tlearn: 0.9244240\ttotal: 4.44s\tremaining: 2.89s\n",
      "485:\tlearn: 0.9244240\ttotal: 4.45s\tremaining: 2.88s\n",
      "486:\tlearn: 0.9247687\ttotal: 4.46s\tremaining: 2.87s\n",
      "487:\tlearn: 0.9245964\ttotal: 4.47s\tremaining: 2.86s\n",
      "488:\tlearn: 0.9249411\ttotal: 4.47s\tremaining: 2.85s\n",
      "489:\tlearn: 0.9249756\ttotal: 4.48s\tremaining: 2.84s\n",
      "490:\tlearn: 0.9251250\ttotal: 4.49s\tremaining: 2.83s\n",
      "491:\tlearn: 0.9251479\ttotal: 4.5s\tremaining: 2.82s\n",
      "492:\tlearn: 0.9255042\ttotal: 4.51s\tremaining: 2.81s\n",
      "493:\tlearn: 0.9255271\ttotal: 4.51s\tremaining: 2.8s\n",
      "494:\tlearn: 0.9257914\ttotal: 4.52s\tremaining: 2.79s\n",
      "495:\tlearn: 0.9257685\ttotal: 4.53s\tremaining: 2.78s\n",
      "496:\tlearn: 0.9257799\ttotal: 4.54s\tremaining: 2.77s\n",
      "497:\tlearn: 0.9256535\ttotal: 4.55s\tremaining: 2.76s\n",
      "498:\tlearn: 0.9259293\ttotal: 4.56s\tremaining: 2.75s\n",
      "499:\tlearn: 0.9260327\ttotal: 4.57s\tremaining: 2.74s\n",
      "500:\tlearn: 0.9261591\ttotal: 4.58s\tremaining: 2.73s\n",
      "501:\tlearn: 0.9262626\ttotal: 4.59s\tremaining: 2.73s\n",
      "502:\tlearn: 0.9265613\ttotal: 4.6s\tremaining: 2.72s\n",
      "503:\tlearn: 0.9266073\ttotal: 4.61s\tremaining: 2.71s\n",
      "504:\tlearn: 0.9266648\ttotal: 4.62s\tremaining: 2.7s\n",
      "505:\tlearn: 0.9268026\ttotal: 4.63s\tremaining: 2.69s\n",
      "506:\tlearn: 0.9268256\ttotal: 4.64s\tremaining: 2.68s\n",
      "507:\tlearn: 0.9265958\ttotal: 4.65s\tremaining: 2.67s\n",
      "508:\tlearn: 0.9269061\ttotal: 4.66s\tremaining: 2.66s\n",
      "509:\tlearn: 0.9269520\ttotal: 4.67s\tremaining: 2.65s\n",
      "510:\tlearn: 0.9271014\ttotal: 4.67s\tremaining: 2.64s\n",
      "511:\tlearn: 0.9271244\ttotal: 4.68s\tremaining: 2.63s\n",
      "512:\tlearn: 0.9275496\ttotal: 4.69s\tremaining: 2.62s\n",
      "513:\tlearn: 0.9275381\ttotal: 4.7s\tremaining: 2.62s\n",
      "514:\tlearn: 0.9275266\ttotal: 4.71s\tremaining: 2.61s\n"
     ]
    },
    {
     "name": "stdout",
     "output_type": "stream",
     "text": [
      "515:\tlearn: 0.9277219\ttotal: 4.72s\tremaining: 2.6s\n",
      "516:\tlearn: 0.9277104\ttotal: 4.73s\tremaining: 2.59s\n",
      "517:\tlearn: 0.9276645\ttotal: 4.74s\tremaining: 2.58s\n",
      "518:\tlearn: 0.9275496\ttotal: 4.75s\tremaining: 2.57s\n",
      "519:\tlearn: 0.9274002\ttotal: 4.76s\tremaining: 2.56s\n",
      "520:\tlearn: 0.9275496\ttotal: 4.77s\tremaining: 2.56s\n",
      "521:\tlearn: 0.9276530\ttotal: 4.78s\tremaining: 2.54s\n",
      "522:\tlearn: 0.9277794\ttotal: 4.79s\tremaining: 2.54s\n",
      "523:\tlearn: 0.9276760\ttotal: 4.8s\tremaining: 2.53s\n",
      "524:\tlearn: 0.9278713\ttotal: 4.81s\tremaining: 2.52s\n",
      "525:\tlearn: 0.9280781\ttotal: 4.82s\tremaining: 2.51s\n",
      "526:\tlearn: 0.9282850\ttotal: 4.82s\tremaining: 2.5s\n",
      "527:\tlearn: 0.9286067\ttotal: 4.83s\tremaining: 2.49s\n",
      "528:\tlearn: 0.9286297\ttotal: 4.84s\tremaining: 2.48s\n",
      "529:\tlearn: 0.9285722\ttotal: 4.85s\tremaining: 2.47s\n",
      "530:\tlearn: 0.9286182\ttotal: 4.86s\tremaining: 2.46s\n",
      "531:\tlearn: 0.9288251\ttotal: 4.87s\tremaining: 2.45s\n",
      "532:\tlearn: 0.9290204\ttotal: 4.87s\tremaining: 2.44s\n",
      "533:\tlearn: 0.9290204\ttotal: 4.88s\tremaining: 2.43s\n",
      "534:\tlearn: 0.9290204\ttotal: 4.89s\tremaining: 2.42s\n",
      "535:\tlearn: 0.9290089\ttotal: 4.9s\tremaining: 2.41s\n",
      "536:\tlearn: 0.9292272\ttotal: 4.91s\tremaining: 2.4s\n",
      "537:\tlearn: 0.9292502\ttotal: 4.92s\tremaining: 2.39s\n",
      "538:\tlearn: 0.9292502\ttotal: 4.93s\tremaining: 2.38s\n",
      "539:\tlearn: 0.9293307\ttotal: 4.94s\tremaining: 2.38s\n",
      "540:\tlearn: 0.9291813\ttotal: 4.94s\tremaining: 2.37s\n",
      "541:\tlearn: 0.9292387\ttotal: 4.96s\tremaining: 2.36s\n",
      "542:\tlearn: 0.9293192\ttotal: 4.97s\tremaining: 2.35s\n",
      "543:\tlearn: 0.9293307\ttotal: 4.97s\tremaining: 2.34s\n",
      "544:\tlearn: 0.9293651\ttotal: 4.98s\tremaining: 2.33s\n",
      "545:\tlearn: 0.9294111\ttotal: 4.99s\tremaining: 2.32s\n",
      "546:\tlearn: 0.9295490\ttotal: 5s\tremaining: 2.31s\n",
      "547:\tlearn: 0.9297903\ttotal: 5.01s\tremaining: 2.31s\n",
      "548:\tlearn: 0.9298592\ttotal: 5.02s\tremaining: 2.29s\n",
      "549:\tlearn: 0.9300661\ttotal: 5.03s\tremaining: 2.29s\n",
      "550:\tlearn: 0.9298822\ttotal: 5.04s\tremaining: 2.28s\n",
      "551:\tlearn: 0.9301465\ttotal: 5.05s\tremaining: 2.27s\n",
      "552:\tlearn: 0.9302959\ttotal: 5.05s\tremaining: 2.26s\n",
      "553:\tlearn: 0.9302614\ttotal: 5.06s\tremaining: 2.25s\n",
      "554:\tlearn: 0.9302040\ttotal: 5.07s\tremaining: 2.24s\n",
      "555:\tlearn: 0.9301695\ttotal: 5.08s\tremaining: 2.23s\n",
      "556:\tlearn: 0.9301925\ttotal: 5.09s\tremaining: 2.22s\n",
      "557:\tlearn: 0.9302959\ttotal: 5.1s\tremaining: 2.21s\n",
      "558:\tlearn: 0.9305027\ttotal: 5.11s\tremaining: 2.2s\n",
      "559:\tlearn: 0.9304223\ttotal: 5.12s\tremaining: 2.19s\n",
      "560:\tlearn: 0.9303533\ttotal: 5.13s\tremaining: 2.19s\n",
      "561:\tlearn: 0.9306061\ttotal: 5.14s\tremaining: 2.18s\n",
      "562:\tlearn: 0.9307670\ttotal: 5.15s\tremaining: 2.17s\n",
      "563:\tlearn: 0.9307096\ttotal: 5.16s\tremaining: 2.16s\n",
      "564:\tlearn: 0.9308015\ttotal: 5.17s\tremaining: 2.15s\n",
      "565:\tlearn: 0.9310313\ttotal: 5.18s\tremaining: 2.14s\n",
      "566:\tlearn: 0.9310773\ttotal: 5.19s\tremaining: 2.13s\n",
      "567:\tlearn: 0.9310428\ttotal: 5.2s\tremaining: 2.12s\n",
      "568:\tlearn: 0.9310888\ttotal: 5.2s\tremaining: 2.11s\n",
      "569:\tlearn: 0.9310198\ttotal: 5.21s\tremaining: 2.1s\n",
      "570:\tlearn: 0.9311922\ttotal: 5.22s\tremaining: 2.09s\n",
      "571:\tlearn: 0.9315254\ttotal: 5.23s\tremaining: 2.08s\n",
      "572:\tlearn: 0.9316403\ttotal: 5.24s\tremaining: 2.08s\n",
      "573:\tlearn: 0.9319736\ttotal: 5.25s\tremaining: 2.06s\n",
      "574:\tlearn: 0.9317782\ttotal: 5.25s\tremaining: 2.06s\n",
      "575:\tlearn: 0.9319966\ttotal: 5.26s\tremaining: 2.05s\n",
      "576:\tlearn: 0.9320540\ttotal: 5.27s\tremaining: 2.04s\n",
      "577:\tlearn: 0.9322149\ttotal: 5.28s\tremaining: 2.03s\n",
      "578:\tlearn: 0.9326286\ttotal: 5.29s\tremaining: 2.02s\n",
      "579:\tlearn: 0.9326171\ttotal: 5.29s\tremaining: 2.01s\n",
      "580:\tlearn: 0.9327205\ttotal: 5.3s\tremaining: 2s\n",
      "581:\tlearn: 0.9326286\ttotal: 5.31s\tremaining: 1.99s\n",
      "582:\tlearn: 0.9325596\ttotal: 5.32s\tremaining: 1.98s\n",
      "583:\tlearn: 0.9325941\ttotal: 5.33s\tremaining: 1.97s\n",
      "584:\tlearn: 0.9326975\ttotal: 5.34s\tremaining: 1.96s\n",
      "585:\tlearn: 0.9326975\ttotal: 5.35s\tremaining: 1.95s\n",
      "586:\tlearn: 0.9327550\ttotal: 5.36s\tremaining: 1.94s\n",
      "587:\tlearn: 0.9327894\ttotal: 5.37s\tremaining: 1.93s\n",
      "588:\tlearn: 0.9328124\ttotal: 5.37s\tremaining: 1.93s\n",
      "589:\tlearn: 0.9329388\ttotal: 5.38s\tremaining: 1.92s\n",
      "590:\tlearn: 0.9329963\ttotal: 5.39s\tremaining: 1.91s\n",
      "591:\tlearn: 0.9334559\ttotal: 5.41s\tremaining: 1.9s\n",
      "592:\tlearn: 0.9335478\ttotal: 5.42s\tremaining: 1.89s\n",
      "593:\tlearn: 0.9336512\ttotal: 5.43s\tremaining: 1.88s\n",
      "594:\tlearn: 0.9336398\ttotal: 5.44s\tremaining: 1.87s\n",
      "595:\tlearn: 0.9337662\ttotal: 5.45s\tremaining: 1.86s\n",
      "596:\tlearn: 0.9339615\ttotal: 5.46s\tremaining: 1.85s\n",
      "597:\tlearn: 0.9340764\ttotal: 5.47s\tremaining: 1.85s\n",
      "598:\tlearn: 0.9339960\ttotal: 5.48s\tremaining: 1.84s\n",
      "599:\tlearn: 0.9339845\ttotal: 5.49s\tremaining: 1.83s\n",
      "600:\tlearn: 0.9340419\ttotal: 5.5s\tremaining: 1.82s\n",
      "601:\tlearn: 0.9342833\ttotal: 5.51s\tremaining: 1.81s\n",
      "602:\tlearn: 0.9342833\ttotal: 5.52s\tremaining: 1.8s\n",
      "603:\tlearn: 0.9343867\ttotal: 5.54s\tremaining: 1.8s\n",
      "604:\tlearn: 0.9345361\ttotal: 5.55s\tremaining: 1.79s\n",
      "605:\tlearn: 0.9345361\ttotal: 5.55s\tremaining: 1.78s\n",
      "606:\tlearn: 0.9345246\ttotal: 5.56s\tremaining: 1.77s\n",
      "607:\tlearn: 0.9344556\ttotal: 5.58s\tremaining: 1.76s\n",
      "608:\tlearn: 0.9346739\ttotal: 5.59s\tremaining: 1.75s\n",
      "609:\tlearn: 0.9346050\ttotal: 5.6s\tremaining: 1.74s\n",
      "610:\tlearn: 0.9349038\ttotal: 5.61s\tremaining: 1.74s\n",
      "611:\tlearn: 0.9350302\ttotal: 5.62s\tremaining: 1.73s\n",
      "612:\tlearn: 0.9350761\ttotal: 5.63s\tremaining: 1.72s\n",
      "613:\tlearn: 0.9350531\ttotal: 5.64s\tremaining: 1.71s\n",
      "614:\tlearn: 0.9352830\ttotal: 5.65s\tremaining: 1.7s\n",
      "615:\tlearn: 0.9354323\ttotal: 5.66s\tremaining: 1.69s\n",
      "616:\tlearn: 0.9354668\ttotal: 5.67s\tremaining: 1.68s\n",
      "617:\tlearn: 0.9355817\ttotal: 5.68s\tremaining: 1.67s\n",
      "618:\tlearn: 0.9356851\ttotal: 5.68s\tremaining: 1.66s\n",
      "619:\tlearn: 0.9357196\ttotal: 5.69s\tremaining: 1.65s\n",
      "620:\tlearn: 0.9358460\ttotal: 5.7s\tremaining: 1.64s\n",
      "621:\tlearn: 0.9358575\ttotal: 5.71s\tremaining: 1.63s\n",
      "622:\tlearn: 0.9359494\ttotal: 5.72s\tremaining: 1.63s\n",
      "623:\tlearn: 0.9360069\ttotal: 5.73s\tremaining: 1.62s\n",
      "624:\tlearn: 0.9360988\ttotal: 5.74s\tremaining: 1.61s\n",
      "625:\tlearn: 0.9361218\ttotal: 5.75s\tremaining: 1.6s\n",
      "626:\tlearn: 0.9361448\ttotal: 5.76s\tremaining: 1.59s\n",
      "627:\tlearn: 0.9363057\ttotal: 5.77s\tremaining: 1.58s\n",
      "628:\tlearn: 0.9362137\ttotal: 5.78s\tremaining: 1.57s\n",
      "629:\tlearn: 0.9362712\ttotal: 5.79s\tremaining: 1.56s\n",
      "630:\tlearn: 0.9362482\ttotal: 5.79s\tremaining: 1.55s\n",
      "631:\tlearn: 0.9365010\ttotal: 5.8s\tremaining: 1.54s\n",
      "632:\tlearn: 0.9366274\ttotal: 5.81s\tremaining: 1.53s\n",
      "633:\tlearn: 0.9366044\ttotal: 5.82s\tremaining: 1.52s\n",
      "634:\tlearn: 0.9367193\ttotal: 5.83s\tremaining: 1.51s\n",
      "635:\tlearn: 0.9367423\ttotal: 5.84s\tremaining: 1.5s\n",
      "636:\tlearn: 0.9367883\ttotal: 5.85s\tremaining: 1.5s\n",
      "637:\tlearn: 0.9367768\ttotal: 5.85s\tremaining: 1.49s\n",
      "638:\tlearn: 0.9367883\ttotal: 5.86s\tremaining: 1.48s\n",
      "639:\tlearn: 0.9368113\ttotal: 5.87s\tremaining: 1.47s\n",
      "640:\tlearn: 0.9368342\ttotal: 5.88s\tremaining: 1.46s\n",
      "641:\tlearn: 0.9368113\ttotal: 5.89s\tremaining: 1.45s\n",
      "642:\tlearn: 0.9369262\ttotal: 5.9s\tremaining: 1.44s\n",
      "643:\tlearn: 0.9368802\ttotal: 5.91s\tremaining: 1.43s\n",
      "644:\tlearn: 0.9372134\ttotal: 5.91s\tremaining: 1.42s\n",
      "645:\tlearn: 0.9371100\ttotal: 5.92s\tremaining: 1.41s\n",
      "646:\tlearn: 0.9371215\ttotal: 5.93s\tremaining: 1.4s\n",
      "647:\tlearn: 0.9370756\ttotal: 5.94s\tremaining: 1.39s\n",
      "648:\tlearn: 0.9371215\ttotal: 5.95s\tremaining: 1.38s\n",
      "649:\tlearn: 0.9371675\ttotal: 5.96s\tremaining: 1.38s\n",
      "650:\tlearn: 0.9373169\ttotal: 5.97s\tremaining: 1.36s\n",
      "651:\tlearn: 0.9372939\ttotal: 5.98s\tremaining: 1.36s\n",
      "652:\tlearn: 0.9374892\ttotal: 5.99s\tremaining: 1.35s\n",
      "653:\tlearn: 0.9376156\ttotal: 5.99s\tremaining: 1.34s\n",
      "654:\tlearn: 0.9376041\ttotal: 6s\tremaining: 1.33s\n",
      "655:\tlearn: 0.9376156\ttotal: 6.01s\tremaining: 1.32s\n",
      "656:\tlearn: 0.9377076\ttotal: 6.02s\tremaining: 1.31s\n",
      "657:\tlearn: 0.9378225\ttotal: 6.03s\tremaining: 1.3s\n",
      "658:\tlearn: 0.9379029\ttotal: 6.04s\tremaining: 1.29s\n",
      "659:\tlearn: 0.9378914\ttotal: 6.04s\tremaining: 1.28s\n",
      "660:\tlearn: 0.9378110\ttotal: 6.05s\tremaining: 1.27s\n",
      "661:\tlearn: 0.9377765\ttotal: 6.06s\tremaining: 1.26s\n",
      "662:\tlearn: 0.9379718\ttotal: 6.07s\tremaining: 1.25s\n",
      "663:\tlearn: 0.9381327\ttotal: 6.08s\tremaining: 1.24s\n",
      "664:\tlearn: 0.9380982\ttotal: 6.09s\tremaining: 1.24s\n",
      "665:\tlearn: 0.9381672\ttotal: 6.09s\tremaining: 1.23s\n",
      "666:\tlearn: 0.9382132\ttotal: 6.1s\tremaining: 1.22s\n",
      "667:\tlearn: 0.9381902\ttotal: 6.11s\tremaining: 1.21s\n",
      "668:\tlearn: 0.9382246\ttotal: 6.12s\tremaining: 1.2s\n",
      "669:\tlearn: 0.9383625\ttotal: 6.13s\tremaining: 1.19s\n",
      "670:\tlearn: 0.9383510\ttotal: 6.13s\tremaining: 1.18s\n",
      "671:\tlearn: 0.9383166\ttotal: 6.14s\tremaining: 1.17s\n",
      "672:\tlearn: 0.9382821\ttotal: 6.15s\tremaining: 1.16s\n",
      "673:\tlearn: 0.9382246\ttotal: 6.16s\tremaining: 1.15s\n",
      "674:\tlearn: 0.9382706\ttotal: 6.17s\tremaining: 1.14s\n",
      "675:\tlearn: 0.9382591\ttotal: 6.18s\tremaining: 1.13s\n",
      "676:\tlearn: 0.9382936\ttotal: 6.19s\tremaining: 1.12s\n",
      "677:\tlearn: 0.9384430\ttotal: 6.2s\tremaining: 1.11s\n",
      "678:\tlearn: 0.9385234\ttotal: 6.2s\tremaining: 1.1s\n",
      "679:\tlearn: 0.9385119\ttotal: 6.21s\tremaining: 1.1s\n",
      "680:\tlearn: 0.9387992\ttotal: 6.22s\tremaining: 1.09s\n",
      "681:\tlearn: 0.9387532\ttotal: 6.23s\tremaining: 1.08s\n",
      "682:\tlearn: 0.9387647\ttotal: 6.24s\tremaining: 1.07s\n",
      "683:\tlearn: 0.9387992\ttotal: 6.24s\tremaining: 1.06s\n",
      "684:\tlearn: 0.9387992\ttotal: 6.25s\tremaining: 1.05s\n",
      "685:\tlearn: 0.9388911\ttotal: 6.26s\tremaining: 1.04s\n",
      "686:\tlearn: 0.9388911\ttotal: 6.27s\tremaining: 1.03s\n",
      "687:\tlearn: 0.9390175\ttotal: 6.28s\tremaining: 1.02s\n",
      "688:\tlearn: 0.9391784\ttotal: 6.29s\tremaining: 1.01s\n",
      "689:\tlearn: 0.9391554\ttotal: 6.29s\tremaining: 1s\n",
      "690:\tlearn: 0.9394312\ttotal: 6.3s\tremaining: 994ms\n",
      "691:\tlearn: 0.9396151\ttotal: 6.31s\tremaining: 985ms\n",
      "692:\tlearn: 0.9396151\ttotal: 6.32s\tremaining: 976ms\n",
      "693:\tlearn: 0.9394772\ttotal: 6.33s\tremaining: 966ms\n"
     ]
    },
    {
     "name": "stdout",
     "output_type": "stream",
     "text": [
      "694:\tlearn: 0.9394542\ttotal: 6.34s\tremaining: 958ms\n",
      "695:\tlearn: 0.9394772\ttotal: 6.35s\tremaining: 949ms\n",
      "696:\tlearn: 0.9396380\ttotal: 6.36s\tremaining: 939ms\n",
      "697:\tlearn: 0.9398104\ttotal: 6.37s\tremaining: 930ms\n",
      "698:\tlearn: 0.9399483\ttotal: 6.37s\tremaining: 921ms\n",
      "699:\tlearn: 0.9399023\ttotal: 6.38s\tremaining: 912ms\n",
      "700:\tlearn: 0.9399138\ttotal: 6.39s\tremaining: 902ms\n",
      "701:\tlearn: 0.9401321\ttotal: 6.4s\tremaining: 893ms\n",
      "702:\tlearn: 0.9401781\ttotal: 6.41s\tremaining: 884ms\n",
      "703:\tlearn: 0.9403045\ttotal: 6.41s\tremaining: 875ms\n",
      "704:\tlearn: 0.9403849\ttotal: 6.42s\tremaining: 865ms\n",
      "705:\tlearn: 0.9404079\ttotal: 6.43s\tremaining: 856ms\n",
      "706:\tlearn: 0.9404309\ttotal: 6.44s\tremaining: 847ms\n",
      "707:\tlearn: 0.9407986\ttotal: 6.44s\tremaining: 837ms\n",
      "708:\tlearn: 0.9408331\ttotal: 6.45s\tremaining: 828ms\n",
      "709:\tlearn: 0.9407641\ttotal: 6.46s\tremaining: 819ms\n",
      "710:\tlearn: 0.9408676\ttotal: 6.47s\tremaining: 810ms\n",
      "711:\tlearn: 0.9408905\ttotal: 6.48s\tremaining: 800ms\n",
      "712:\tlearn: 0.9410169\ttotal: 6.48s\tremaining: 791ms\n",
      "713:\tlearn: 0.9410974\ttotal: 6.49s\tremaining: 782ms\n",
      "714:\tlearn: 0.9411663\ttotal: 6.5s\tremaining: 773ms\n",
      "715:\tlearn: 0.9413042\ttotal: 6.51s\tremaining: 764ms\n",
      "716:\tlearn: 0.9413502\ttotal: 6.52s\tremaining: 755ms\n",
      "717:\tlearn: 0.9414536\ttotal: 6.53s\tremaining: 745ms\n",
      "718:\tlearn: 0.9413962\ttotal: 6.54s\tremaining: 737ms\n",
      "719:\tlearn: 0.9419937\ttotal: 6.55s\tremaining: 728ms\n",
      "720:\tlearn: 0.9422235\ttotal: 6.56s\tremaining: 719ms\n",
      "721:\tlearn: 0.9422695\ttotal: 6.57s\tremaining: 710ms\n",
      "722:\tlearn: 0.9423614\ttotal: 6.58s\tremaining: 701ms\n",
      "723:\tlearn: 0.9424648\ttotal: 6.59s\tremaining: 691ms\n",
      "724:\tlearn: 0.9427291\ttotal: 6.6s\tremaining: 682ms\n",
      "725:\tlearn: 0.9426831\ttotal: 6.61s\tremaining: 673ms\n",
      "726:\tlearn: 0.9426142\ttotal: 6.62s\tremaining: 664ms\n",
      "727:\tlearn: 0.9426831\ttotal: 6.63s\tremaining: 655ms\n",
      "728:\tlearn: 0.9426946\ttotal: 6.64s\tremaining: 647ms\n",
      "729:\tlearn: 0.9425567\ttotal: 6.65s\tremaining: 637ms\n",
      "730:\tlearn: 0.9429130\ttotal: 6.66s\tremaining: 628ms\n",
      "731:\tlearn: 0.9430164\ttotal: 6.67s\tremaining: 620ms\n",
      "732:\tlearn: 0.9431083\ttotal: 6.68s\tremaining: 610ms\n",
      "733:\tlearn: 0.9430738\ttotal: 6.69s\tremaining: 601ms\n",
      "734:\tlearn: 0.9431543\ttotal: 6.7s\tremaining: 592ms\n",
      "735:\tlearn: 0.9434300\ttotal: 6.71s\tremaining: 583ms\n",
      "736:\tlearn: 0.9434760\ttotal: 6.72s\tremaining: 574ms\n",
      "737:\tlearn: 0.9435335\ttotal: 6.73s\tremaining: 565ms\n",
      "738:\tlearn: 0.9434990\ttotal: 6.74s\tremaining: 556ms\n",
      "739:\tlearn: 0.9434186\ttotal: 6.75s\tremaining: 547ms\n",
      "740:\tlearn: 0.9433381\ttotal: 6.76s\tremaining: 538ms\n",
      "741:\tlearn: 0.9434760\ttotal: 6.77s\tremaining: 529ms\n",
      "742:\tlearn: 0.9434300\ttotal: 6.78s\tremaining: 520ms\n",
      "743:\tlearn: 0.9435105\ttotal: 6.79s\tremaining: 511ms\n",
      "744:\tlearn: 0.9434530\ttotal: 6.8s\tremaining: 502ms\n",
      "745:\tlearn: 0.9433726\ttotal: 6.81s\tremaining: 493ms\n",
      "746:\tlearn: 0.9434415\ttotal: 6.82s\tremaining: 484ms\n",
      "747:\tlearn: 0.9435909\ttotal: 6.83s\tremaining: 475ms\n",
      "748:\tlearn: 0.9436599\ttotal: 6.84s\tremaining: 466ms\n",
      "749:\tlearn: 0.9437518\ttotal: 6.86s\tremaining: 457ms\n",
      "750:\tlearn: 0.9438322\ttotal: 6.87s\tremaining: 448ms\n",
      "751:\tlearn: 0.9437863\ttotal: 6.88s\tremaining: 439ms\n",
      "752:\tlearn: 0.9438093\ttotal: 6.89s\tremaining: 430ms\n",
      "753:\tlearn: 0.9438667\ttotal: 6.9s\tremaining: 421ms\n",
      "754:\tlearn: 0.9438207\ttotal: 6.91s\tremaining: 412ms\n",
      "755:\tlearn: 0.9439701\ttotal: 6.92s\tremaining: 403ms\n",
      "756:\tlearn: 0.9441310\ttotal: 6.93s\tremaining: 394ms\n",
      "757:\tlearn: 0.9441310\ttotal: 6.94s\tremaining: 385ms\n",
      "758:\tlearn: 0.9441195\ttotal: 6.95s\tremaining: 376ms\n",
      "759:\tlearn: 0.9441195\ttotal: 6.96s\tremaining: 367ms\n",
      "760:\tlearn: 0.9443378\ttotal: 6.98s\tremaining: 358ms\n",
      "761:\tlearn: 0.9444757\ttotal: 6.99s\tremaining: 348ms\n",
      "762:\tlearn: 0.9445102\ttotal: 7s\tremaining: 339ms\n",
      "763:\tlearn: 0.9444298\ttotal: 7.01s\tremaining: 330ms\n",
      "764:\tlearn: 0.9444183\ttotal: 7.02s\tremaining: 321ms\n",
      "765:\tlearn: 0.9444987\ttotal: 7.03s\tremaining: 312ms\n",
      "766:\tlearn: 0.9446366\ttotal: 7.04s\tremaining: 303ms\n",
      "767:\tlearn: 0.9446826\ttotal: 7.05s\tremaining: 294ms\n",
      "768:\tlearn: 0.9447630\ttotal: 7.06s\tremaining: 285ms\n",
      "769:\tlearn: 0.9448664\ttotal: 7.07s\tremaining: 275ms\n",
      "770:\tlearn: 0.9449354\ttotal: 7.08s\tremaining: 266ms\n",
      "771:\tlearn: 0.9449009\ttotal: 7.09s\tremaining: 257ms\n",
      "772:\tlearn: 0.9450962\ttotal: 7.09s\tremaining: 248ms\n",
      "773:\tlearn: 0.9451422\ttotal: 7.11s\tremaining: 239ms\n",
      "774:\tlearn: 0.9451537\ttotal: 7.12s\tremaining: 230ms\n",
      "775:\tlearn: 0.9452686\ttotal: 7.13s\tremaining: 220ms\n",
      "776:\tlearn: 0.9451882\ttotal: 7.13s\tremaining: 211ms\n",
      "777:\tlearn: 0.9451652\ttotal: 7.14s\tremaining: 202ms\n",
      "778:\tlearn: 0.9451307\ttotal: 7.15s\tremaining: 193ms\n",
      "779:\tlearn: 0.9454180\ttotal: 7.16s\tremaining: 184ms\n",
      "780:\tlearn: 0.9454295\ttotal: 7.18s\tremaining: 175ms\n",
      "781:\tlearn: 0.9454639\ttotal: 7.19s\tremaining: 165ms\n",
      "782:\tlearn: 0.9454754\ttotal: 7.2s\tremaining: 156ms\n",
      "783:\tlearn: 0.9454869\ttotal: 7.21s\tremaining: 147ms\n",
      "784:\tlearn: 0.9456593\ttotal: 7.22s\tremaining: 138ms\n",
      "785:\tlearn: 0.9457053\ttotal: 7.23s\tremaining: 129ms\n",
      "786:\tlearn: 0.9457512\ttotal: 7.24s\tremaining: 120ms\n",
      "787:\tlearn: 0.9456938\ttotal: 7.25s\tremaining: 110ms\n",
      "788:\tlearn: 0.9458202\ttotal: 7.25s\tremaining: 101ms\n",
      "789:\tlearn: 0.9457397\ttotal: 7.26s\tremaining: 92ms\n",
      "790:\tlearn: 0.9456593\ttotal: 7.27s\tremaining: 82.8ms\n",
      "791:\tlearn: 0.9457282\ttotal: 7.28s\tremaining: 73.6ms\n",
      "792:\tlearn: 0.9457742\ttotal: 7.29s\tremaining: 64.4ms\n",
      "793:\tlearn: 0.9457512\ttotal: 7.3s\tremaining: 55.2ms\n",
      "794:\tlearn: 0.9458431\ttotal: 7.31s\tremaining: 46ms\n",
      "795:\tlearn: 0.9457742\ttotal: 7.32s\tremaining: 36.8ms\n",
      "796:\tlearn: 0.9458891\ttotal: 7.33s\tremaining: 27.6ms\n",
      "797:\tlearn: 0.9459695\ttotal: 7.34s\tremaining: 18.4ms\n",
      "798:\tlearn: 0.9458087\ttotal: 7.35s\tremaining: 9.2ms\n",
      "799:\tlearn: 0.9460040\ttotal: 7.37s\tremaining: 0us\n"
     ]
    }
   ],
   "source": [
    "# Ajustamos un modelo de clasificación\n",
    "Cat=CatBoost.fit(X_train,y_train,cat_features=([ 0,1,2,3,4,9,10]))"
   ]
  },
  {
   "cell_type": "code",
   "execution_count": 136,
   "metadata": {},
   "outputs": [],
   "source": [
    "# Predecimos con el algoritmo entrenado sobre el test y evaluamos\n",
    "y_pred=Cat.predict(X_test)"
   ]
  },
  {
   "cell_type": "code",
   "execution_count": 137,
   "metadata": {},
   "outputs": [
    {
     "name": "stdout",
     "output_type": "stream",
     "text": [
      "              precision    recall  f1-score   support\n",
      "\n",
      "           0       0.73      0.47      0.57        58\n",
      "           1       0.79      0.92      0.85       127\n",
      "\n",
      "   micro avg       0.78      0.78      0.78       185\n",
      "   macro avg       0.76      0.69      0.71       185\n",
      "weighted avg       0.77      0.78      0.76       185\n",
      "\n"
     ]
    }
   ],
   "source": [
    "# Obtenemos la matriz de confusión con las métricas anteriores\n",
    "from sklearn.metrics import classification_report\n",
    "print(classification_report(y_test, y_pred))"
   ]
  },
  {
   "cell_type": "code",
   "execution_count": 138,
   "metadata": {
    "collapsed": true
   },
   "outputs": [],
   "source": [
    "# Predecimos con el algoritmo sobre la data de test\n",
    "y_final = Cat.predict(df2)"
   ]
  },
  {
   "cell_type": "code",
   "execution_count": 139,
   "metadata": {
    "collapsed": true
   },
   "outputs": [],
   "source": [
    "data = np.hstack((test_parametrica['Loan_ID'].values.reshape(-1,1), y_final.reshape(-1,1)))\n",
    "df_submmit = pd.DataFrame(data, columns=['Loan_ID','Loan_Status'])\n",
    "df_submmit['Loan_Status']=[\"Y\" if i == 1 else \"N\" for i in df_submmit['Loan_Status']]\n",
    "df_submmit.to_csv('CatBoost.csv', index=False)"
   ]
  },
  {
   "cell_type": "markdown",
   "metadata": {},
   "source": [
    "#### Modelos Supervisados : Ensamble de Modelos"
   ]
  },
  {
   "cell_type": "code",
   "execution_count": 140,
   "metadata": {},
   "outputs": [
    {
     "data": {
      "text/plain": [
       "VotingClassifier(estimators=[('Naive Bayes Gaussian', GaussianNB(priors=None, var_smoothing=1e-09)), ('Naive Bayes Multinomial', MultinomialNB(alpha=1.0, class_prior=None, fit_prior=True)), ('Naive Bayes Bernoulli', BernoulliNB(alpha=1.0, binarize=0.0, class_prior=None, fit_prior=True))],\n",
       "         flatten_transform=None, n_jobs=None, voting='soft', weights=None)"
      ]
     },
     "execution_count": 140,
     "metadata": {},
     "output_type": "execute_result"
    }
   ],
   "source": [
    "from sklearn.ensemble import VotingClassifier\n",
    "from sklearn.naive_bayes import GaussianNB\n",
    "from sklearn.naive_bayes import MultinomialNB\n",
    "from sklearn.naive_bayes import BernoulliNB\n",
    "\n",
    "eclf = VotingClassifier(estimators=[('Naive Bayes Gaussian', GaussianNB()), ('Naive Bayes Multinomial', MultinomialNB()), \n",
    "                                    ('Naive Bayes Bernoulli', BernoulliNB())], voting='soft')\n",
    "\n",
    "eclf.fit(X_train, y_train) "
   ]
  },
  {
   "cell_type": "code",
   "execution_count": 141,
   "metadata": {
    "collapsed": true
   },
   "outputs": [],
   "source": [
    "#Calculamos la clase predicha, para poder evaluar la clasificación\n",
    "y_pred = eclf.predict(X_test)"
   ]
  },
  {
   "cell_type": "code",
   "execution_count": 142,
   "metadata": {},
   "outputs": [
    {
     "name": "stdout",
     "output_type": "stream",
     "text": [
      "\tAccuracy: 0.524\n",
      "\n",
      "\tPrecision: 0.735\n",
      "\tRecall: 0.480\n",
      "\tF1: 0.581\n",
      "\n"
     ]
    }
   ],
   "source": [
    "# Podemos hallar indicadores de validacion\n",
    "\n",
    "print(\"\\tAccuracy: %1.3f\\n\" % accuracy_score(y_test, y_pred))\n",
    "print(\"\\tPrecision: %1.3f\" % precision_score(y_test, y_pred))\n",
    "print(\"\\tRecall: %1.3f\" % recall_score(y_test, y_pred))\n",
    "print(\"\\tF1: %1.3f\\n\" % f1_score(y_test, y_pred))"
   ]
  },
  {
   "cell_type": "code",
   "execution_count": 143,
   "metadata": {},
   "outputs": [
    {
     "name": "stdout",
     "output_type": "stream",
     "text": [
      "              precision    recall  f1-score   support\n",
      "\n",
      "           0       0.35      0.62      0.45        58\n",
      "           1       0.73      0.48      0.58       127\n",
      "\n",
      "   micro avg       0.52      0.52      0.52       185\n",
      "   macro avg       0.54      0.55      0.52       185\n",
      "weighted avg       0.62      0.52      0.54       185\n",
      "\n"
     ]
    }
   ],
   "source": [
    "# Obtenemos la matriz de confusión con las métricas anteriores\n",
    "from sklearn.metrics import classification_report\n",
    "print(classification_report(y_test, y_pred))"
   ]
  },
  {
   "cell_type": "markdown",
   "metadata": {},
   "source": [
    "####  ELECCIÓN DEL MEJOR MODELO"
   ]
  },
  {
   "cell_type": "code",
   "execution_count": 144,
   "metadata": {
    "collapsed": true
   },
   "outputs": [],
   "source": [
    "# Selección del mejor modelo\n",
    "# Cargamos todos los modelos que necesitamos\n",
    "\n",
    "import numpy as np\n",
    "from sklearn.model_selection import cross_val_score\n",
    "import time\n",
    "from sklearn.metrics import accuracy_score, precision_score, recall_score, f1_score\n",
    "from sklearn.model_selection import StratifiedKFold\n",
    "\n",
    "from sklearn.linear_model import LogisticRegression\n",
    "from sklearn.linear_model import RidgeClassifier\n",
    "from sklearn.linear_model import SGDClassifier\n",
    "from sklearn.linear_model import PassiveAggressiveClassifier\n",
    "from sklearn.svm import SVC\n",
    "from sklearn.svm import LinearSVC\n",
    "\n",
    "from sklearn.discriminant_analysis import LinearDiscriminantAnalysis\n",
    "from sklearn.discriminant_analysis import QuadraticDiscriminantAnalysis\n",
    "from sklearn.naive_bayes import GaussianNB\n",
    "from sklearn.naive_bayes import MultinomialNB\n",
    "from sklearn.naive_bayes import BernoulliNB\n",
    "from sklearn.neural_network import MLPClassifier\n",
    "from sklearn.neighbors import KNeighborsClassifier\n",
    "from sklearn.tree import DecisionTreeClassifier\n",
    "\n",
    "from sklearn.ensemble import RandomForestClassifier\n",
    "from sklearn.ensemble import ExtraTreesClassifier\n",
    "from sklearn.ensemble import AdaBoostClassifier\n",
    "from sklearn.ensemble import GradientBoostingClassifier\n",
    "from xgboost import XGBClassifier\n",
    "from sklearn.ensemble import VotingClassifier"
   ]
  },
  {
   "cell_type": "code",
   "execution_count": 161,
   "metadata": {},
   "outputs": [
    {
     "name": "stderr",
     "output_type": "stream",
     "text": [
      "C:\\Users\\Andre Chavez\\Anaconda3\\lib\\site-packages\\sklearn\\model_selection\\_split.py:624: FutureWarning: You should specify a value for 'n_splits' instead of relying on the default value. The default value will change from 3 to 5 in version 0.22.\n",
      "  warnings.warn(NSPLIT_WARNING, FutureWarning)\n"
     ]
    }
   ],
   "source": [
    "# Definimos un criterio de estratificación\n",
    "kfolds = StratifiedKFold(shuffle=True, random_state=1)"
   ]
  },
  {
   "cell_type": "code",
   "execution_count": 146,
   "metadata": {
    "collapsed": true
   },
   "outputs": [],
   "source": [
    "# Creamos una función de corrida de modelos\n",
    "import numpy as np\n",
    "def run_model(model, X, y):\n",
    "    model_name = str(model.__class__).split('.')[-1].replace('>','').replace(\"'\",'')\n",
    "    print(model_name)\n",
    "    accuracy = []\n",
    "    f1 = []\n",
    "    start = int(time.time() * 1000)\n",
    "    model.fit(X, y)\n",
    "    y_ = model.predict(X_test)\n",
    "    accuracy += [accuracy_score(y_test, y_)]\n",
    "    f1 += [f1_score(y_test, y_)]\n",
    "    end = int(time.time() * 1000)\n",
    "    results.loc[len(results)] = [model_name, np.mean(accuracy), np.std(accuracy), \n",
    "                                 np.mean(f1), np.std(f1), str(end - start)]"
   ]
  },
  {
   "cell_type": "code",
   "execution_count": 162,
   "metadata": {
    "collapsed": true
   },
   "outputs": [],
   "source": [
    "# Creamos las funciones de corridas de modelos\n",
    "\n",
    "def run_linear_models(X, y):\n",
    "    \n",
    "    run_model(LogisticRegression(), X_train, y_train)\n",
    "    run_model(RidgeClassifier(), X_train, y_train)\n",
    "    run_model(MLPClassifier(max_iter=1000), X_train, y_train)\n",
    "    \n",
    "def run_misc_models(X, y):\n",
    "\n",
    "    run_model(BernoulliNB(), X_train, y_train)\n",
    "    run_model(KNeighborsClassifier(), X_train, y_train)\n",
    "    run_model(DecisionTreeClassifier(), X_train, y_train)\n",
    "    \n",
    "def run_ensemble_models(X, y):\n",
    "    run_model(RandomForestClassifier(), X_train, y_train)\n",
    "    run_model(ExtraTreesClassifier(), X_train, y_train)\n",
    "    run_model(AdaBoostClassifier(), X_train, y_train)\n",
    "    run_model(GradientBoostingClassifier(), X_train, y_train)    \n",
    "    run_model(XGBClassifier(), X_train, y_train)"
   ]
  },
  {
   "cell_type": "code",
   "execution_count": 163,
   "metadata": {
    "collapsed": true
   },
   "outputs": [],
   "source": [
    "# Podemos ver los resultados\n",
    "results = pd.DataFrame(columns=['model', 'accuracy', 'accuracy-std', 'f1-score', 'f1-score-std', 'time'])"
   ]
  },
  {
   "cell_type": "code",
   "execution_count": 164,
   "metadata": {},
   "outputs": [
    {
     "name": "stdout",
     "output_type": "stream",
     "text": [
      "LogisticRegression\n",
      "RidgeClassifier\n",
      "MLPClassifier\n",
      "BernoulliNB\n",
      "KNeighborsClassifier\n",
      "DecisionTreeClassifier\n",
      "RandomForestClassifier\n",
      "ExtraTreesClassifier\n",
      "AdaBoostClassifier\n"
     ]
    },
    {
     "name": "stderr",
     "output_type": "stream",
     "text": [
      "C:\\Users\\Andre Chavez\\Anaconda3\\lib\\site-packages\\sklearn\\linear_model\\logistic.py:433: FutureWarning: Default solver will be changed to 'lbfgs' in 0.22. Specify a solver to silence this warning.\n",
      "  FutureWarning)\n",
      "C:\\Users\\Andre Chavez\\Anaconda3\\lib\\site-packages\\sklearn\\ensemble\\forest.py:246: FutureWarning: The default value of n_estimators will change from 10 in version 0.20 to 100 in 0.22.\n",
      "  \"10 in version 0.20 to 100 in 0.22.\", FutureWarning)\n",
      "C:\\Users\\Andre Chavez\\Anaconda3\\lib\\site-packages\\sklearn\\ensemble\\forest.py:246: FutureWarning: The default value of n_estimators will change from 10 in version 0.20 to 100 in 0.22.\n",
      "  \"10 in version 0.20 to 100 in 0.22.\", FutureWarning)\n"
     ]
    },
    {
     "name": "stdout",
     "output_type": "stream",
     "text": [
      "GradientBoostingClassifier\n",
      "XGBClassifier\n"
     ]
    }
   ],
   "source": [
    "# Corremos todos los modelos\n",
    "run_linear_models(X, y)\n",
    "run_misc_models(X, y)\n",
    "run_ensemble_models(X, y)"
   ]
  },
  {
   "cell_type": "code",
   "execution_count": 167,
   "metadata": {},
   "outputs": [
    {
     "data": {
      "text/html": [
       "<div>\n",
       "<style>\n",
       "    .dataframe thead tr:only-child th {\n",
       "        text-align: right;\n",
       "    }\n",
       "\n",
       "    .dataframe thead th {\n",
       "        text-align: left;\n",
       "    }\n",
       "\n",
       "    .dataframe tbody tr th {\n",
       "        vertical-align: top;\n",
       "    }\n",
       "</style>\n",
       "<table border=\"1\" class=\"dataframe\">\n",
       "  <thead>\n",
       "    <tr style=\"text-align: right;\">\n",
       "      <th></th>\n",
       "      <th>model</th>\n",
       "      <th>accuracy</th>\n",
       "      <th>accuracy-std</th>\n",
       "      <th>f1-score</th>\n",
       "      <th>f1-score-std</th>\n",
       "      <th>time</th>\n",
       "    </tr>\n",
       "  </thead>\n",
       "  <tbody>\n",
       "    <tr>\n",
       "      <th>0</th>\n",
       "      <td>LogisticRegression</td>\n",
       "      <td>0.783784</td>\n",
       "      <td>0.0</td>\n",
       "      <td>0.851852</td>\n",
       "      <td>0.0</td>\n",
       "      <td>11</td>\n",
       "    </tr>\n",
       "    <tr>\n",
       "      <th>1</th>\n",
       "      <td>RidgeClassifier</td>\n",
       "      <td>0.789189</td>\n",
       "      <td>0.0</td>\n",
       "      <td>0.858182</td>\n",
       "      <td>0.0</td>\n",
       "      <td>4</td>\n",
       "    </tr>\n",
       "    <tr>\n",
       "      <th>2</th>\n",
       "      <td>MLPClassifier</td>\n",
       "      <td>0.643243</td>\n",
       "      <td>0.0</td>\n",
       "      <td>0.778523</td>\n",
       "      <td>0.0</td>\n",
       "      <td>83</td>\n",
       "    </tr>\n",
       "    <tr>\n",
       "      <th>3</th>\n",
       "      <td>BernoulliNB</td>\n",
       "      <td>0.589189</td>\n",
       "      <td>0.0</td>\n",
       "      <td>0.680672</td>\n",
       "      <td>0.0</td>\n",
       "      <td>4</td>\n",
       "    </tr>\n",
       "    <tr>\n",
       "      <th>4</th>\n",
       "      <td>KNeighborsClassifier</td>\n",
       "      <td>0.567568</td>\n",
       "      <td>0.0</td>\n",
       "      <td>0.669421</td>\n",
       "      <td>0.0</td>\n",
       "      <td>7</td>\n",
       "    </tr>\n",
       "    <tr>\n",
       "      <th>5</th>\n",
       "      <td>DecisionTreeClassifier</td>\n",
       "      <td>0.718919</td>\n",
       "      <td>0.0</td>\n",
       "      <td>0.795276</td>\n",
       "      <td>0.0</td>\n",
       "      <td>7</td>\n",
       "    </tr>\n",
       "    <tr>\n",
       "      <th>6</th>\n",
       "      <td>RandomForestClassifier</td>\n",
       "      <td>0.681081</td>\n",
       "      <td>0.0</td>\n",
       "      <td>0.761134</td>\n",
       "      <td>0.0</td>\n",
       "      <td>19</td>\n",
       "    </tr>\n",
       "    <tr>\n",
       "      <th>7</th>\n",
       "      <td>ExtraTreesClassifier</td>\n",
       "      <td>0.762162</td>\n",
       "      <td>0.0</td>\n",
       "      <td>0.838235</td>\n",
       "      <td>0.0</td>\n",
       "      <td>17</td>\n",
       "    </tr>\n",
       "    <tr>\n",
       "      <th>8</th>\n",
       "      <td>AdaBoostClassifier</td>\n",
       "      <td>0.762162</td>\n",
       "      <td>0.0</td>\n",
       "      <td>0.829457</td>\n",
       "      <td>0.0</td>\n",
       "      <td>104</td>\n",
       "    </tr>\n",
       "    <tr>\n",
       "      <th>9</th>\n",
       "      <td>GradientBoostingClassifier</td>\n",
       "      <td>0.740541</td>\n",
       "      <td>0.0</td>\n",
       "      <td>0.818182</td>\n",
       "      <td>0.0</td>\n",
       "      <td>84</td>\n",
       "    </tr>\n",
       "    <tr>\n",
       "      <th>10</th>\n",
       "      <td>XGBClassifier</td>\n",
       "      <td>0.740541</td>\n",
       "      <td>0.0</td>\n",
       "      <td>0.816794</td>\n",
       "      <td>0.0</td>\n",
       "      <td>44</td>\n",
       "    </tr>\n",
       "  </tbody>\n",
       "</table>\n",
       "</div>"
      ],
      "text/plain": [
       "                         model  accuracy  accuracy-std  f1-score  \\\n",
       "0           LogisticRegression  0.783784           0.0  0.851852   \n",
       "1              RidgeClassifier  0.789189           0.0  0.858182   \n",
       "2                MLPClassifier  0.643243           0.0  0.778523   \n",
       "3                  BernoulliNB  0.589189           0.0  0.680672   \n",
       "4         KNeighborsClassifier  0.567568           0.0  0.669421   \n",
       "5       DecisionTreeClassifier  0.718919           0.0  0.795276   \n",
       "6       RandomForestClassifier  0.681081           0.0  0.761134   \n",
       "7         ExtraTreesClassifier  0.762162           0.0  0.838235   \n",
       "8           AdaBoostClassifier  0.762162           0.0  0.829457   \n",
       "9   GradientBoostingClassifier  0.740541           0.0  0.818182   \n",
       "10               XGBClassifier  0.740541           0.0  0.816794   \n",
       "\n",
       "    f1-score-std time  \n",
       "0            0.0   11  \n",
       "1            0.0    4  \n",
       "2            0.0   83  \n",
       "3            0.0    4  \n",
       "4            0.0    7  \n",
       "5            0.0    7  \n",
       "6            0.0   19  \n",
       "7            0.0   17  \n",
       "8            0.0  104  \n",
       "9            0.0   84  \n",
       "10           0.0   44  "
      ]
     },
     "execution_count": 167,
     "metadata": {},
     "output_type": "execute_result"
    }
   ],
   "source": [
    "# Podemos ver los resultados obtenidos\n",
    "results"
   ]
  },
  {
   "cell_type": "code",
   "execution_count": 166,
   "metadata": {},
   "outputs": [
    {
     "data": {
      "text/html": [
       "<div>\n",
       "<style>\n",
       "    .dataframe thead tr:only-child th {\n",
       "        text-align: right;\n",
       "    }\n",
       "\n",
       "    .dataframe thead th {\n",
       "        text-align: left;\n",
       "    }\n",
       "\n",
       "    .dataframe tbody tr th {\n",
       "        vertical-align: top;\n",
       "    }\n",
       "</style>\n",
       "<table border=\"1\" class=\"dataframe\">\n",
       "  <thead>\n",
       "    <tr style=\"text-align: right;\">\n",
       "      <th></th>\n",
       "      <th>model</th>\n",
       "      <th>accuracy</th>\n",
       "      <th>accuracy-std</th>\n",
       "      <th>f1-score</th>\n",
       "      <th>f1-score-std</th>\n",
       "      <th>time</th>\n",
       "    </tr>\n",
       "  </thead>\n",
       "  <tbody>\n",
       "    <tr>\n",
       "      <th>1</th>\n",
       "      <td>RidgeClassifier</td>\n",
       "      <td>0.789189</td>\n",
       "      <td>0.0</td>\n",
       "      <td>0.858182</td>\n",
       "      <td>0.0</td>\n",
       "      <td>4</td>\n",
       "    </tr>\n",
       "    <tr>\n",
       "      <th>0</th>\n",
       "      <td>LogisticRegression</td>\n",
       "      <td>0.783784</td>\n",
       "      <td>0.0</td>\n",
       "      <td>0.851852</td>\n",
       "      <td>0.0</td>\n",
       "      <td>11</td>\n",
       "    </tr>\n",
       "    <tr>\n",
       "      <th>8</th>\n",
       "      <td>AdaBoostClassifier</td>\n",
       "      <td>0.762162</td>\n",
       "      <td>0.0</td>\n",
       "      <td>0.829457</td>\n",
       "      <td>0.0</td>\n",
       "      <td>104</td>\n",
       "    </tr>\n",
       "    <tr>\n",
       "      <th>7</th>\n",
       "      <td>ExtraTreesClassifier</td>\n",
       "      <td>0.762162</td>\n",
       "      <td>0.0</td>\n",
       "      <td>0.838235</td>\n",
       "      <td>0.0</td>\n",
       "      <td>17</td>\n",
       "    </tr>\n",
       "    <tr>\n",
       "      <th>10</th>\n",
       "      <td>XGBClassifier</td>\n",
       "      <td>0.740541</td>\n",
       "      <td>0.0</td>\n",
       "      <td>0.816794</td>\n",
       "      <td>0.0</td>\n",
       "      <td>44</td>\n",
       "    </tr>\n",
       "    <tr>\n",
       "      <th>9</th>\n",
       "      <td>GradientBoostingClassifier</td>\n",
       "      <td>0.740541</td>\n",
       "      <td>0.0</td>\n",
       "      <td>0.818182</td>\n",
       "      <td>0.0</td>\n",
       "      <td>84</td>\n",
       "    </tr>\n",
       "    <tr>\n",
       "      <th>5</th>\n",
       "      <td>DecisionTreeClassifier</td>\n",
       "      <td>0.718919</td>\n",
       "      <td>0.0</td>\n",
       "      <td>0.795276</td>\n",
       "      <td>0.0</td>\n",
       "      <td>7</td>\n",
       "    </tr>\n",
       "    <tr>\n",
       "      <th>6</th>\n",
       "      <td>RandomForestClassifier</td>\n",
       "      <td>0.681081</td>\n",
       "      <td>0.0</td>\n",
       "      <td>0.761134</td>\n",
       "      <td>0.0</td>\n",
       "      <td>19</td>\n",
       "    </tr>\n",
       "    <tr>\n",
       "      <th>2</th>\n",
       "      <td>MLPClassifier</td>\n",
       "      <td>0.643243</td>\n",
       "      <td>0.0</td>\n",
       "      <td>0.778523</td>\n",
       "      <td>0.0</td>\n",
       "      <td>83</td>\n",
       "    </tr>\n",
       "    <tr>\n",
       "      <th>3</th>\n",
       "      <td>BernoulliNB</td>\n",
       "      <td>0.589189</td>\n",
       "      <td>0.0</td>\n",
       "      <td>0.680672</td>\n",
       "      <td>0.0</td>\n",
       "      <td>4</td>\n",
       "    </tr>\n",
       "    <tr>\n",
       "      <th>4</th>\n",
       "      <td>KNeighborsClassifier</td>\n",
       "      <td>0.567568</td>\n",
       "      <td>0.0</td>\n",
       "      <td>0.669421</td>\n",
       "      <td>0.0</td>\n",
       "      <td>7</td>\n",
       "    </tr>\n",
       "  </tbody>\n",
       "</table>\n",
       "</div>"
      ],
      "text/plain": [
       "                         model  accuracy  accuracy-std  f1-score  \\\n",
       "1              RidgeClassifier  0.789189           0.0  0.858182   \n",
       "0           LogisticRegression  0.783784           0.0  0.851852   \n",
       "8           AdaBoostClassifier  0.762162           0.0  0.829457   \n",
       "7         ExtraTreesClassifier  0.762162           0.0  0.838235   \n",
       "10               XGBClassifier  0.740541           0.0  0.816794   \n",
       "9   GradientBoostingClassifier  0.740541           0.0  0.818182   \n",
       "5       DecisionTreeClassifier  0.718919           0.0  0.795276   \n",
       "6       RandomForestClassifier  0.681081           0.0  0.761134   \n",
       "2                MLPClassifier  0.643243           0.0  0.778523   \n",
       "3                  BernoulliNB  0.589189           0.0  0.680672   \n",
       "4         KNeighborsClassifier  0.567568           0.0  0.669421   \n",
       "\n",
       "    f1-score-std time  \n",
       "1            0.0    4  \n",
       "0            0.0   11  \n",
       "8            0.0  104  \n",
       "7            0.0   17  \n",
       "10           0.0   44  \n",
       "9            0.0   84  \n",
       "5            0.0    7  \n",
       "6            0.0   19  \n",
       "2            0.0   83  \n",
       "3            0.0    4  \n",
       "4            0.0    7  "
      ]
     },
     "execution_count": 166,
     "metadata": {},
     "output_type": "execute_result"
    }
   ],
   "source": [
    "#### Tabla de Resultados con todos nuestros modelos ordenados por algún criterio\n",
    "results.iloc[results['accuracy'].sort_values(ascending=False).index].head(19)"
   ]
  }
 ],
 "metadata": {
  "kernelspec": {
   "display_name": "Python 3",
   "language": "python",
   "name": "python3"
  },
  "language_info": {
   "codemirror_mode": {
    "name": "ipython",
    "version": 3
   },
   "file_extension": ".py",
   "mimetype": "text/x-python",
   "name": "python",
   "nbconvert_exporter": "python",
   "pygments_lexer": "ipython3",
   "version": "3.6.3"
  },
  "toc": {
   "base_numbering": 1,
   "nav_menu": {},
   "number_sections": true,
   "sideBar": true,
   "skip_h1_title": false,
   "title_cell": "Table of Contents",
   "title_sidebar": "Contents",
   "toc_cell": false,
   "toc_position": {
    "height": "calc(100% - 180px)",
    "left": "10px",
    "top": "150px",
    "width": "166px"
   },
   "toc_section_display": true,
   "toc_window_display": true
  },
  "varInspector": {
   "cols": {
    "lenName": 16,
    "lenType": 16,
    "lenVar": 40
   },
   "kernels_config": {
    "python": {
     "delete_cmd_postfix": "",
     "delete_cmd_prefix": "del ",
     "library": "var_list.py",
     "varRefreshCmd": "print(var_dic_list())"
    },
    "r": {
     "delete_cmd_postfix": ") ",
     "delete_cmd_prefix": "rm(",
     "library": "var_list.r",
     "varRefreshCmd": "cat(var_dic_list()) "
    }
   },
   "types_to_exclude": [
    "module",
    "function",
    "builtin_function_or_method",
    "instance",
    "_Feature"
   ],
   "window_display": false
  }
 },
 "nbformat": 4,
 "nbformat_minor": 1
}
